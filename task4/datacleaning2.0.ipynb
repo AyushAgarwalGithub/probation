{
 "cells": [
  {
   "cell_type": "markdown",
   "source": [],
   "metadata": {
    "collapsed": false
   },
   "id": "6f7f5c5dba02911b"
  },
  {
   "cell_type": "code",
   "execution_count": 1,
   "id": "initial_id",
   "metadata": {
    "collapsed": true,
    "ExecuteTime": {
     "end_time": "2023-11-07T14:39:06.173679800Z",
     "start_time": "2023-11-07T14:39:04.434178100Z"
    }
   },
   "outputs": [],
   "source": [
    "import pandas as pd"
   ]
  },
  {
   "cell_type": "code",
   "execution_count": 2,
   "outputs": [],
   "source": [
    "df=pd.read_csv(\"Task_4.csv\")"
   ],
   "metadata": {
    "collapsed": false,
    "ExecuteTime": {
     "end_time": "2023-11-07T14:39:06.173679800Z",
     "start_time": "2023-11-07T14:39:04.439174700Z"
    }
   },
   "id": "33ebcad074e8997f"
  },
  {
   "cell_type": "code",
   "execution_count": 3,
   "outputs": [
    {
     "data": {
      "text/plain": "        price    area  bedrooms  bathrooms  stories mainroad  guestroom  \\\n0    13300000  7420.0       4.0        NaN      3.0      NaN        NaN   \n1    12250000  8960.0       NaN        4.0      4.0      yes         no   \n2    12250000  9960.0       3.0        2.0      2.0      yes        NaN   \n3    12215000  7500.0       NaN        NaN      NaN      NaN         no   \n4    11410000  7420.0       NaN        1.0      2.0      NaN  Of course   \n..        ...     ...       ...        ...      ...      ...        ...   \n540   1820000     NaN       2.0        NaN      1.0      NaN         no   \n541   1767150     NaN       3.0        1.0      1.0       no       ille   \n542   1750000  3620.0       NaN        NaN      NaN      yes         no   \n543   1750000     NaN       NaN        1.0      1.0       no         no   \n544   1750000  3850.0       3.0        1.0      2.0      NaN        NaN   \n\n    basement hotwaterheating airconditioning  parking prefarea  \\\n0        NaN             NaN             yes      2.0   Haanji   \n1         no           Nakko             yes      NaN       no   \n2        yes              no           Naaji      2.0      yes   \n3        yes              no             yes      3.0      yes   \n4        yes             NaN             yes      2.0       no   \n..       ...             ...             ...      ...      ...   \n540      NaN              no              no      NaN       no   \n541       no              no             Nah      NaN      NaN   \n542       no             NaN             NaN      NaN        n   \n543       no              no              no      0.0      NaN   \n544      NaN             NaN              no      0.0    Naaji   \n\n    furnishingstatus  \n0          furnished  \n1          furnished  \n2     semi-furnished  \n3          furnished  \n4                NaN  \n..               ...  \n540      unfurnished  \n541              NaN  \n542      unfurnished  \n543        furnished  \n544              NaN  \n\n[545 rows x 13 columns]",
      "text/html": "<div>\n<style scoped>\n    .dataframe tbody tr th:only-of-type {\n        vertical-align: middle;\n    }\n\n    .dataframe tbody tr th {\n        vertical-align: top;\n    }\n\n    .dataframe thead th {\n        text-align: right;\n    }\n</style>\n<table border=\"1\" class=\"dataframe\">\n  <thead>\n    <tr style=\"text-align: right;\">\n      <th></th>\n      <th>price</th>\n      <th>area</th>\n      <th>bedrooms</th>\n      <th>bathrooms</th>\n      <th>stories</th>\n      <th>mainroad</th>\n      <th>guestroom</th>\n      <th>basement</th>\n      <th>hotwaterheating</th>\n      <th>airconditioning</th>\n      <th>parking</th>\n      <th>prefarea</th>\n      <th>furnishingstatus</th>\n    </tr>\n  </thead>\n  <tbody>\n    <tr>\n      <th>0</th>\n      <td>13300000</td>\n      <td>7420.0</td>\n      <td>4.0</td>\n      <td>NaN</td>\n      <td>3.0</td>\n      <td>NaN</td>\n      <td>NaN</td>\n      <td>NaN</td>\n      <td>NaN</td>\n      <td>yes</td>\n      <td>2.0</td>\n      <td>Haanji</td>\n      <td>furnished</td>\n    </tr>\n    <tr>\n      <th>1</th>\n      <td>12250000</td>\n      <td>8960.0</td>\n      <td>NaN</td>\n      <td>4.0</td>\n      <td>4.0</td>\n      <td>yes</td>\n      <td>no</td>\n      <td>no</td>\n      <td>Nakko</td>\n      <td>yes</td>\n      <td>NaN</td>\n      <td>no</td>\n      <td>furnished</td>\n    </tr>\n    <tr>\n      <th>2</th>\n      <td>12250000</td>\n      <td>9960.0</td>\n      <td>3.0</td>\n      <td>2.0</td>\n      <td>2.0</td>\n      <td>yes</td>\n      <td>NaN</td>\n      <td>yes</td>\n      <td>no</td>\n      <td>Naaji</td>\n      <td>2.0</td>\n      <td>yes</td>\n      <td>semi-furnished</td>\n    </tr>\n    <tr>\n      <th>3</th>\n      <td>12215000</td>\n      <td>7500.0</td>\n      <td>NaN</td>\n      <td>NaN</td>\n      <td>NaN</td>\n      <td>NaN</td>\n      <td>no</td>\n      <td>yes</td>\n      <td>no</td>\n      <td>yes</td>\n      <td>3.0</td>\n      <td>yes</td>\n      <td>furnished</td>\n    </tr>\n    <tr>\n      <th>4</th>\n      <td>11410000</td>\n      <td>7420.0</td>\n      <td>NaN</td>\n      <td>1.0</td>\n      <td>2.0</td>\n      <td>NaN</td>\n      <td>Of course</td>\n      <td>yes</td>\n      <td>NaN</td>\n      <td>yes</td>\n      <td>2.0</td>\n      <td>no</td>\n      <td>NaN</td>\n    </tr>\n    <tr>\n      <th>...</th>\n      <td>...</td>\n      <td>...</td>\n      <td>...</td>\n      <td>...</td>\n      <td>...</td>\n      <td>...</td>\n      <td>...</td>\n      <td>...</td>\n      <td>...</td>\n      <td>...</td>\n      <td>...</td>\n      <td>...</td>\n      <td>...</td>\n    </tr>\n    <tr>\n      <th>540</th>\n      <td>1820000</td>\n      <td>NaN</td>\n      <td>2.0</td>\n      <td>NaN</td>\n      <td>1.0</td>\n      <td>NaN</td>\n      <td>no</td>\n      <td>NaN</td>\n      <td>no</td>\n      <td>no</td>\n      <td>NaN</td>\n      <td>no</td>\n      <td>unfurnished</td>\n    </tr>\n    <tr>\n      <th>541</th>\n      <td>1767150</td>\n      <td>NaN</td>\n      <td>3.0</td>\n      <td>1.0</td>\n      <td>1.0</td>\n      <td>no</td>\n      <td>ille</td>\n      <td>no</td>\n      <td>no</td>\n      <td>Nah</td>\n      <td>NaN</td>\n      <td>NaN</td>\n      <td>NaN</td>\n    </tr>\n    <tr>\n      <th>542</th>\n      <td>1750000</td>\n      <td>3620.0</td>\n      <td>NaN</td>\n      <td>NaN</td>\n      <td>NaN</td>\n      <td>yes</td>\n      <td>no</td>\n      <td>no</td>\n      <td>NaN</td>\n      <td>NaN</td>\n      <td>NaN</td>\n      <td>n</td>\n      <td>unfurnished</td>\n    </tr>\n    <tr>\n      <th>543</th>\n      <td>1750000</td>\n      <td>NaN</td>\n      <td>NaN</td>\n      <td>1.0</td>\n      <td>1.0</td>\n      <td>no</td>\n      <td>no</td>\n      <td>no</td>\n      <td>no</td>\n      <td>no</td>\n      <td>0.0</td>\n      <td>NaN</td>\n      <td>furnished</td>\n    </tr>\n    <tr>\n      <th>544</th>\n      <td>1750000</td>\n      <td>3850.0</td>\n      <td>3.0</td>\n      <td>1.0</td>\n      <td>2.0</td>\n      <td>NaN</td>\n      <td>NaN</td>\n      <td>NaN</td>\n      <td>NaN</td>\n      <td>no</td>\n      <td>0.0</td>\n      <td>Naaji</td>\n      <td>NaN</td>\n    </tr>\n  </tbody>\n</table>\n<p>545 rows × 13 columns</p>\n</div>"
     },
     "execution_count": 3,
     "metadata": {},
     "output_type": "execute_result"
    }
   ],
   "source": [
    "df"
   ],
   "metadata": {
    "collapsed": false,
    "ExecuteTime": {
     "end_time": "2023-11-07T14:39:06.173679800Z",
     "start_time": "2023-11-07T14:39:04.453761900Z"
    }
   },
   "id": "5401aeea8cdaf349"
  },
  {
   "cell_type": "code",
   "execution_count": 4,
   "outputs": [
    {
     "data": {
      "text/plain": "array(['Haanji', 'no', 'yes', 'Haan', nan, 'Of course', 'Nakko', 'Nope',\n       'ille', 'N', 'yep', 'y', 'Naaji', 'True', 'Y', 'n', \"['n']\",\n       'False', 'Yo', 'Nah'], dtype=object)"
     },
     "execution_count": 4,
     "metadata": {},
     "output_type": "execute_result"
    }
   ],
   "source": [
    "df['prefarea'].unique()"
   ],
   "metadata": {
    "collapsed": false,
    "ExecuteTime": {
     "end_time": "2023-11-07T14:39:06.173679800Z",
     "start_time": "2023-11-07T14:39:04.482920300Z"
    }
   },
   "id": "626db8a96073aaa4"
  },
  {
   "cell_type": "code",
   "execution_count": 5,
   "outputs": [],
   "source": [
    "a=[\"Haanji\",\"Yes\",\"yes\",\"Haan\",\"Of course\",\"yep\",\"y\",\"True\",\"Yo\",\"Y\",\"Indeed\",\"Haanji\",\"['y']\"]\n",
    "b=[\"no\",\"Nakko\",\"Nope\",\"N\",\"n\",\"['n']\",\"False\",\"Naaji\",\"ille\",\"Nah\"]"
   ],
   "metadata": {
    "collapsed": false,
    "ExecuteTime": {
     "end_time": "2023-11-07T14:39:06.173679800Z",
     "start_time": "2023-11-07T14:39:04.489518400Z"
    }
   },
   "id": "896b5d857423d231"
  },
  {
   "cell_type": "code",
   "execution_count": 6,
   "outputs": [],
   "source": [
    "df.replace(a,\"Yes\",inplace=True)"
   ],
   "metadata": {
    "collapsed": false,
    "ExecuteTime": {
     "end_time": "2023-11-07T14:39:06.173679800Z",
     "start_time": "2023-11-07T14:39:04.496841400Z"
    }
   },
   "id": "d0cb37cff85934bb"
  },
  {
   "cell_type": "code",
   "execution_count": 7,
   "outputs": [],
   "source": [
    "df.replace(b,\"No\",inplace=True)"
   ],
   "metadata": {
    "collapsed": false,
    "ExecuteTime": {
     "end_time": "2023-11-07T14:39:06.173679800Z",
     "start_time": "2023-11-07T14:39:04.504066300Z"
    }
   },
   "id": "f3556596ed08a472"
  },
  {
   "cell_type": "code",
   "execution_count": 8,
   "outputs": [
    {
     "data": {
      "text/plain": "array(['Yes', 'No', nan], dtype=object)"
     },
     "execution_count": 8,
     "metadata": {},
     "output_type": "execute_result"
    }
   ],
   "source": [
    "df.prefarea.unique()"
   ],
   "metadata": {
    "collapsed": false,
    "ExecuteTime": {
     "end_time": "2023-11-07T14:39:06.173679800Z",
     "start_time": "2023-11-07T14:39:04.512731500Z"
    }
   },
   "id": "e19e31ceecb016f5"
  },
  {
   "cell_type": "code",
   "execution_count": 9,
   "outputs": [
    {
     "data": {
      "text/plain": "        price    area  bedrooms  bathrooms  stories mainroad guestroom  \\\n0    13300000  7420.0       4.0        NaN      3.0      NaN       NaN   \n1    12250000  8960.0       NaN        4.0      4.0      Yes        No   \n2    12250000  9960.0       3.0        2.0      2.0      Yes       NaN   \n3    12215000  7500.0       NaN        NaN      NaN      NaN        No   \n4    11410000  7420.0       NaN        1.0      2.0      NaN       Yes   \n..        ...     ...       ...        ...      ...      ...       ...   \n540   1820000     NaN       2.0        NaN      1.0      NaN        No   \n541   1767150     NaN       3.0        1.0      1.0       No        No   \n542   1750000  3620.0       NaN        NaN      NaN      Yes        No   \n543   1750000     NaN       NaN        1.0      1.0       No        No   \n544   1750000  3850.0       3.0        1.0      2.0      NaN       NaN   \n\n    basement hotwaterheating airconditioning  parking prefarea  \\\n0        NaN             NaN             Yes      2.0      Yes   \n1         No              No             Yes      NaN       No   \n2        Yes              No              No      2.0      Yes   \n3        Yes              No             Yes      3.0      Yes   \n4        Yes             NaN             Yes      2.0       No   \n..       ...             ...             ...      ...      ...   \n540      NaN              No              No      NaN       No   \n541       No              No              No      NaN      NaN   \n542       No             NaN             NaN      NaN       No   \n543       No              No              No      0.0      NaN   \n544      NaN             NaN              No      0.0       No   \n\n    furnishingstatus  \n0          furnished  \n1          furnished  \n2     semi-furnished  \n3          furnished  \n4                NaN  \n..               ...  \n540      unfurnished  \n541              NaN  \n542      unfurnished  \n543        furnished  \n544              NaN  \n\n[545 rows x 13 columns]",
      "text/html": "<div>\n<style scoped>\n    .dataframe tbody tr th:only-of-type {\n        vertical-align: middle;\n    }\n\n    .dataframe tbody tr th {\n        vertical-align: top;\n    }\n\n    .dataframe thead th {\n        text-align: right;\n    }\n</style>\n<table border=\"1\" class=\"dataframe\">\n  <thead>\n    <tr style=\"text-align: right;\">\n      <th></th>\n      <th>price</th>\n      <th>area</th>\n      <th>bedrooms</th>\n      <th>bathrooms</th>\n      <th>stories</th>\n      <th>mainroad</th>\n      <th>guestroom</th>\n      <th>basement</th>\n      <th>hotwaterheating</th>\n      <th>airconditioning</th>\n      <th>parking</th>\n      <th>prefarea</th>\n      <th>furnishingstatus</th>\n    </tr>\n  </thead>\n  <tbody>\n    <tr>\n      <th>0</th>\n      <td>13300000</td>\n      <td>7420.0</td>\n      <td>4.0</td>\n      <td>NaN</td>\n      <td>3.0</td>\n      <td>NaN</td>\n      <td>NaN</td>\n      <td>NaN</td>\n      <td>NaN</td>\n      <td>Yes</td>\n      <td>2.0</td>\n      <td>Yes</td>\n      <td>furnished</td>\n    </tr>\n    <tr>\n      <th>1</th>\n      <td>12250000</td>\n      <td>8960.0</td>\n      <td>NaN</td>\n      <td>4.0</td>\n      <td>4.0</td>\n      <td>Yes</td>\n      <td>No</td>\n      <td>No</td>\n      <td>No</td>\n      <td>Yes</td>\n      <td>NaN</td>\n      <td>No</td>\n      <td>furnished</td>\n    </tr>\n    <tr>\n      <th>2</th>\n      <td>12250000</td>\n      <td>9960.0</td>\n      <td>3.0</td>\n      <td>2.0</td>\n      <td>2.0</td>\n      <td>Yes</td>\n      <td>NaN</td>\n      <td>Yes</td>\n      <td>No</td>\n      <td>No</td>\n      <td>2.0</td>\n      <td>Yes</td>\n      <td>semi-furnished</td>\n    </tr>\n    <tr>\n      <th>3</th>\n      <td>12215000</td>\n      <td>7500.0</td>\n      <td>NaN</td>\n      <td>NaN</td>\n      <td>NaN</td>\n      <td>NaN</td>\n      <td>No</td>\n      <td>Yes</td>\n      <td>No</td>\n      <td>Yes</td>\n      <td>3.0</td>\n      <td>Yes</td>\n      <td>furnished</td>\n    </tr>\n    <tr>\n      <th>4</th>\n      <td>11410000</td>\n      <td>7420.0</td>\n      <td>NaN</td>\n      <td>1.0</td>\n      <td>2.0</td>\n      <td>NaN</td>\n      <td>Yes</td>\n      <td>Yes</td>\n      <td>NaN</td>\n      <td>Yes</td>\n      <td>2.0</td>\n      <td>No</td>\n      <td>NaN</td>\n    </tr>\n    <tr>\n      <th>...</th>\n      <td>...</td>\n      <td>...</td>\n      <td>...</td>\n      <td>...</td>\n      <td>...</td>\n      <td>...</td>\n      <td>...</td>\n      <td>...</td>\n      <td>...</td>\n      <td>...</td>\n      <td>...</td>\n      <td>...</td>\n      <td>...</td>\n    </tr>\n    <tr>\n      <th>540</th>\n      <td>1820000</td>\n      <td>NaN</td>\n      <td>2.0</td>\n      <td>NaN</td>\n      <td>1.0</td>\n      <td>NaN</td>\n      <td>No</td>\n      <td>NaN</td>\n      <td>No</td>\n      <td>No</td>\n      <td>NaN</td>\n      <td>No</td>\n      <td>unfurnished</td>\n    </tr>\n    <tr>\n      <th>541</th>\n      <td>1767150</td>\n      <td>NaN</td>\n      <td>3.0</td>\n      <td>1.0</td>\n      <td>1.0</td>\n      <td>No</td>\n      <td>No</td>\n      <td>No</td>\n      <td>No</td>\n      <td>No</td>\n      <td>NaN</td>\n      <td>NaN</td>\n      <td>NaN</td>\n    </tr>\n    <tr>\n      <th>542</th>\n      <td>1750000</td>\n      <td>3620.0</td>\n      <td>NaN</td>\n      <td>NaN</td>\n      <td>NaN</td>\n      <td>Yes</td>\n      <td>No</td>\n      <td>No</td>\n      <td>NaN</td>\n      <td>NaN</td>\n      <td>NaN</td>\n      <td>No</td>\n      <td>unfurnished</td>\n    </tr>\n    <tr>\n      <th>543</th>\n      <td>1750000</td>\n      <td>NaN</td>\n      <td>NaN</td>\n      <td>1.0</td>\n      <td>1.0</td>\n      <td>No</td>\n      <td>No</td>\n      <td>No</td>\n      <td>No</td>\n      <td>No</td>\n      <td>0.0</td>\n      <td>NaN</td>\n      <td>furnished</td>\n    </tr>\n    <tr>\n      <th>544</th>\n      <td>1750000</td>\n      <td>3850.0</td>\n      <td>3.0</td>\n      <td>1.0</td>\n      <td>2.0</td>\n      <td>NaN</td>\n      <td>NaN</td>\n      <td>NaN</td>\n      <td>NaN</td>\n      <td>No</td>\n      <td>0.0</td>\n      <td>No</td>\n      <td>NaN</td>\n    </tr>\n  </tbody>\n</table>\n<p>545 rows × 13 columns</p>\n</div>"
     },
     "execution_count": 9,
     "metadata": {},
     "output_type": "execute_result"
    }
   ],
   "source": [
    "df"
   ],
   "metadata": {
    "collapsed": false,
    "ExecuteTime": {
     "end_time": "2023-11-07T14:39:06.173679800Z",
     "start_time": "2023-11-07T14:39:04.517358Z"
    }
   },
   "id": "f575244ab575f590"
  },
  {
   "cell_type": "code",
   "execution_count": 10,
   "outputs": [
    {
     "data": {
      "text/plain": "array([nan, 'Yes', 'No'], dtype=object)"
     },
     "execution_count": 10,
     "metadata": {},
     "output_type": "execute_result"
    }
   ],
   "source": [
    "df.mainroad.unique()"
   ],
   "metadata": {
    "collapsed": false,
    "ExecuteTime": {
     "end_time": "2023-11-07T14:39:06.173679800Z",
     "start_time": "2023-11-07T14:39:04.532864500Z"
    }
   },
   "id": "a635228fa70e30bb"
  },
  {
   "cell_type": "code",
   "execution_count": 11,
   "outputs": [
    {
     "data": {
      "text/plain": "array([ 4., nan,  3.,  5.,  2.,  6.,  1.])"
     },
     "execution_count": 11,
     "metadata": {},
     "output_type": "execute_result"
    }
   ],
   "source": [
    "df['bedrooms'].unique()"
   ],
   "metadata": {
    "collapsed": false,
    "ExecuteTime": {
     "end_time": "2023-11-07T14:39:06.173679800Z",
     "start_time": "2023-11-07T14:39:04.539654300Z"
    }
   },
   "id": "c4eaf5632ad81d1f"
  },
  {
   "cell_type": "code",
   "execution_count": 12,
   "outputs": [
    {
     "data": {
      "text/plain": "6701.75"
     },
     "execution_count": 12,
     "metadata": {},
     "output_type": "execute_result"
    }
   ],
   "source": [
    "m1=df[\"area\"].loc[(df['bedrooms']==4)&(df[\"price\"]>5000000)].mean()\n",
    "\n",
    "m1"
   ],
   "metadata": {
    "collapsed": false,
    "ExecuteTime": {
     "end_time": "2023-11-07T14:39:06.173679800Z",
     "start_time": "2023-11-07T14:39:04.547870600Z"
    }
   },
   "id": "13a04634cf6107a8"
  },
  {
   "cell_type": "code",
   "execution_count": 13,
   "outputs": [
    {
     "data": {
      "text/plain": "        price    area  bedrooms  bathrooms  stories mainroad guestroom  \\\n0    13300000  7420.0       4.0        NaN      3.0      NaN       NaN   \n1    12250000  8960.0       NaN        4.0      4.0      Yes        No   \n2    12250000  9960.0       3.0        2.0      2.0      Yes       NaN   \n3    12215000  7500.0       NaN        NaN      NaN      NaN        No   \n4    11410000  7420.0       NaN        1.0      2.0      NaN       Yes   \n..        ...     ...       ...        ...      ...      ...       ...   \n540   1820000     NaN       2.0        NaN      1.0      NaN        No   \n541   1767150     NaN       3.0        1.0      1.0       No        No   \n542   1750000  3620.0       NaN        NaN      NaN      Yes        No   \n543   1750000     NaN       NaN        1.0      1.0       No        No   \n544   1750000  3850.0       3.0        1.0      2.0      NaN       NaN   \n\n    basement hotwaterheating airconditioning  parking prefarea  \\\n0        NaN             NaN             Yes      2.0      Yes   \n1         No              No             Yes      NaN       No   \n2        Yes              No              No      2.0      Yes   \n3        Yes              No             Yes      3.0      Yes   \n4        Yes             NaN             Yes      2.0       No   \n..       ...             ...             ...      ...      ...   \n540      NaN              No              No      NaN       No   \n541       No              No              No      NaN      NaN   \n542       No             NaN             NaN      NaN       No   \n543       No              No              No      0.0      NaN   \n544      NaN             NaN              No      0.0       No   \n\n    furnishingstatus  \n0          furnished  \n1          furnished  \n2     semi-furnished  \n3          furnished  \n4                NaN  \n..               ...  \n540      unfurnished  \n541              NaN  \n542      unfurnished  \n543        furnished  \n544              NaN  \n\n[545 rows x 13 columns]",
      "text/html": "<div>\n<style scoped>\n    .dataframe tbody tr th:only-of-type {\n        vertical-align: middle;\n    }\n\n    .dataframe tbody tr th {\n        vertical-align: top;\n    }\n\n    .dataframe thead th {\n        text-align: right;\n    }\n</style>\n<table border=\"1\" class=\"dataframe\">\n  <thead>\n    <tr style=\"text-align: right;\">\n      <th></th>\n      <th>price</th>\n      <th>area</th>\n      <th>bedrooms</th>\n      <th>bathrooms</th>\n      <th>stories</th>\n      <th>mainroad</th>\n      <th>guestroom</th>\n      <th>basement</th>\n      <th>hotwaterheating</th>\n      <th>airconditioning</th>\n      <th>parking</th>\n      <th>prefarea</th>\n      <th>furnishingstatus</th>\n    </tr>\n  </thead>\n  <tbody>\n    <tr>\n      <th>0</th>\n      <td>13300000</td>\n      <td>7420.0</td>\n      <td>4.0</td>\n      <td>NaN</td>\n      <td>3.0</td>\n      <td>NaN</td>\n      <td>NaN</td>\n      <td>NaN</td>\n      <td>NaN</td>\n      <td>Yes</td>\n      <td>2.0</td>\n      <td>Yes</td>\n      <td>furnished</td>\n    </tr>\n    <tr>\n      <th>1</th>\n      <td>12250000</td>\n      <td>8960.0</td>\n      <td>NaN</td>\n      <td>4.0</td>\n      <td>4.0</td>\n      <td>Yes</td>\n      <td>No</td>\n      <td>No</td>\n      <td>No</td>\n      <td>Yes</td>\n      <td>NaN</td>\n      <td>No</td>\n      <td>furnished</td>\n    </tr>\n    <tr>\n      <th>2</th>\n      <td>12250000</td>\n      <td>9960.0</td>\n      <td>3.0</td>\n      <td>2.0</td>\n      <td>2.0</td>\n      <td>Yes</td>\n      <td>NaN</td>\n      <td>Yes</td>\n      <td>No</td>\n      <td>No</td>\n      <td>2.0</td>\n      <td>Yes</td>\n      <td>semi-furnished</td>\n    </tr>\n    <tr>\n      <th>3</th>\n      <td>12215000</td>\n      <td>7500.0</td>\n      <td>NaN</td>\n      <td>NaN</td>\n      <td>NaN</td>\n      <td>NaN</td>\n      <td>No</td>\n      <td>Yes</td>\n      <td>No</td>\n      <td>Yes</td>\n      <td>3.0</td>\n      <td>Yes</td>\n      <td>furnished</td>\n    </tr>\n    <tr>\n      <th>4</th>\n      <td>11410000</td>\n      <td>7420.0</td>\n      <td>NaN</td>\n      <td>1.0</td>\n      <td>2.0</td>\n      <td>NaN</td>\n      <td>Yes</td>\n      <td>Yes</td>\n      <td>NaN</td>\n      <td>Yes</td>\n      <td>2.0</td>\n      <td>No</td>\n      <td>NaN</td>\n    </tr>\n    <tr>\n      <th>...</th>\n      <td>...</td>\n      <td>...</td>\n      <td>...</td>\n      <td>...</td>\n      <td>...</td>\n      <td>...</td>\n      <td>...</td>\n      <td>...</td>\n      <td>...</td>\n      <td>...</td>\n      <td>...</td>\n      <td>...</td>\n      <td>...</td>\n    </tr>\n    <tr>\n      <th>540</th>\n      <td>1820000</td>\n      <td>NaN</td>\n      <td>2.0</td>\n      <td>NaN</td>\n      <td>1.0</td>\n      <td>NaN</td>\n      <td>No</td>\n      <td>NaN</td>\n      <td>No</td>\n      <td>No</td>\n      <td>NaN</td>\n      <td>No</td>\n      <td>unfurnished</td>\n    </tr>\n    <tr>\n      <th>541</th>\n      <td>1767150</td>\n      <td>NaN</td>\n      <td>3.0</td>\n      <td>1.0</td>\n      <td>1.0</td>\n      <td>No</td>\n      <td>No</td>\n      <td>No</td>\n      <td>No</td>\n      <td>No</td>\n      <td>NaN</td>\n      <td>NaN</td>\n      <td>NaN</td>\n    </tr>\n    <tr>\n      <th>542</th>\n      <td>1750000</td>\n      <td>3620.0</td>\n      <td>NaN</td>\n      <td>NaN</td>\n      <td>NaN</td>\n      <td>Yes</td>\n      <td>No</td>\n      <td>No</td>\n      <td>NaN</td>\n      <td>NaN</td>\n      <td>NaN</td>\n      <td>No</td>\n      <td>unfurnished</td>\n    </tr>\n    <tr>\n      <th>543</th>\n      <td>1750000</td>\n      <td>NaN</td>\n      <td>NaN</td>\n      <td>1.0</td>\n      <td>1.0</td>\n      <td>No</td>\n      <td>No</td>\n      <td>No</td>\n      <td>No</td>\n      <td>No</td>\n      <td>0.0</td>\n      <td>NaN</td>\n      <td>furnished</td>\n    </tr>\n    <tr>\n      <th>544</th>\n      <td>1750000</td>\n      <td>3850.0</td>\n      <td>3.0</td>\n      <td>1.0</td>\n      <td>2.0</td>\n      <td>NaN</td>\n      <td>NaN</td>\n      <td>NaN</td>\n      <td>NaN</td>\n      <td>No</td>\n      <td>0.0</td>\n      <td>No</td>\n      <td>NaN</td>\n    </tr>\n  </tbody>\n</table>\n<p>545 rows × 13 columns</p>\n</div>"
     },
     "execution_count": 13,
     "metadata": {},
     "output_type": "execute_result"
    }
   ],
   "source": [
    "df"
   ],
   "metadata": {
    "collapsed": false,
    "ExecuteTime": {
     "end_time": "2023-11-07T14:39:06.173679800Z",
     "start_time": "2023-11-07T14:39:04.557743200Z"
    }
   },
   "id": "c044f7bf9586b795"
  },
  {
   "cell_type": "code",
   "execution_count": 14,
   "outputs": [
    {
     "data": {
      "text/plain": "        price    area  bedrooms  bathrooms  stories mainroad guestroom  \\\n0    13300000  7420.0       4.0        NaN      3.0      NaN       NaN   \n1    12250000  8960.0       NaN        4.0      4.0      Yes        No   \n2    12250000  9960.0       3.0        2.0      2.0      Yes       NaN   \n3    12215000  7500.0       NaN        NaN      NaN      NaN        No   \n4    11410000  7420.0       NaN        1.0      2.0      NaN       Yes   \n..        ...     ...       ...        ...      ...      ...       ...   \n540   1820000     NaN       2.0        NaN      1.0      NaN        No   \n541   1767150     NaN       3.0        1.0      1.0       No        No   \n542   1750000  3620.0       NaN        NaN      NaN      Yes        No   \n543   1750000     NaN       NaN        1.0      1.0       No        No   \n544   1750000  3850.0       3.0        1.0      2.0      NaN       NaN   \n\n    basement hotwaterheating airconditioning  parking prefarea  \\\n0        NaN             NaN             Yes      2.0      Yes   \n1         No              No             Yes      NaN       No   \n2        Yes              No              No      2.0      Yes   \n3        Yes              No             Yes      3.0      Yes   \n4        Yes             NaN             Yes      2.0       No   \n..       ...             ...             ...      ...      ...   \n540      NaN              No              No      NaN       No   \n541       No              No              No      NaN      NaN   \n542       No             NaN             NaN      NaN       No   \n543       No              No              No      0.0      NaN   \n544      NaN             NaN              No      0.0       No   \n\n    furnishingstatus  \n0          furnished  \n1          furnished  \n2     semi-furnished  \n3          furnished  \n4                NaN  \n..               ...  \n540      unfurnished  \n541              NaN  \n542      unfurnished  \n543        furnished  \n544              NaN  \n\n[545 rows x 13 columns]",
      "text/html": "<div>\n<style scoped>\n    .dataframe tbody tr th:only-of-type {\n        vertical-align: middle;\n    }\n\n    .dataframe tbody tr th {\n        vertical-align: top;\n    }\n\n    .dataframe thead th {\n        text-align: right;\n    }\n</style>\n<table border=\"1\" class=\"dataframe\">\n  <thead>\n    <tr style=\"text-align: right;\">\n      <th></th>\n      <th>price</th>\n      <th>area</th>\n      <th>bedrooms</th>\n      <th>bathrooms</th>\n      <th>stories</th>\n      <th>mainroad</th>\n      <th>guestroom</th>\n      <th>basement</th>\n      <th>hotwaterheating</th>\n      <th>airconditioning</th>\n      <th>parking</th>\n      <th>prefarea</th>\n      <th>furnishingstatus</th>\n    </tr>\n  </thead>\n  <tbody>\n    <tr>\n      <th>0</th>\n      <td>13300000</td>\n      <td>7420.0</td>\n      <td>4.0</td>\n      <td>NaN</td>\n      <td>3.0</td>\n      <td>NaN</td>\n      <td>NaN</td>\n      <td>NaN</td>\n      <td>NaN</td>\n      <td>Yes</td>\n      <td>2.0</td>\n      <td>Yes</td>\n      <td>furnished</td>\n    </tr>\n    <tr>\n      <th>1</th>\n      <td>12250000</td>\n      <td>8960.0</td>\n      <td>NaN</td>\n      <td>4.0</td>\n      <td>4.0</td>\n      <td>Yes</td>\n      <td>No</td>\n      <td>No</td>\n      <td>No</td>\n      <td>Yes</td>\n      <td>NaN</td>\n      <td>No</td>\n      <td>furnished</td>\n    </tr>\n    <tr>\n      <th>2</th>\n      <td>12250000</td>\n      <td>9960.0</td>\n      <td>3.0</td>\n      <td>2.0</td>\n      <td>2.0</td>\n      <td>Yes</td>\n      <td>NaN</td>\n      <td>Yes</td>\n      <td>No</td>\n      <td>No</td>\n      <td>2.0</td>\n      <td>Yes</td>\n      <td>semi-furnished</td>\n    </tr>\n    <tr>\n      <th>3</th>\n      <td>12215000</td>\n      <td>7500.0</td>\n      <td>NaN</td>\n      <td>NaN</td>\n      <td>NaN</td>\n      <td>NaN</td>\n      <td>No</td>\n      <td>Yes</td>\n      <td>No</td>\n      <td>Yes</td>\n      <td>3.0</td>\n      <td>Yes</td>\n      <td>furnished</td>\n    </tr>\n    <tr>\n      <th>4</th>\n      <td>11410000</td>\n      <td>7420.0</td>\n      <td>NaN</td>\n      <td>1.0</td>\n      <td>2.0</td>\n      <td>NaN</td>\n      <td>Yes</td>\n      <td>Yes</td>\n      <td>NaN</td>\n      <td>Yes</td>\n      <td>2.0</td>\n      <td>No</td>\n      <td>NaN</td>\n    </tr>\n    <tr>\n      <th>...</th>\n      <td>...</td>\n      <td>...</td>\n      <td>...</td>\n      <td>...</td>\n      <td>...</td>\n      <td>...</td>\n      <td>...</td>\n      <td>...</td>\n      <td>...</td>\n      <td>...</td>\n      <td>...</td>\n      <td>...</td>\n      <td>...</td>\n    </tr>\n    <tr>\n      <th>540</th>\n      <td>1820000</td>\n      <td>NaN</td>\n      <td>2.0</td>\n      <td>NaN</td>\n      <td>1.0</td>\n      <td>NaN</td>\n      <td>No</td>\n      <td>NaN</td>\n      <td>No</td>\n      <td>No</td>\n      <td>NaN</td>\n      <td>No</td>\n      <td>unfurnished</td>\n    </tr>\n    <tr>\n      <th>541</th>\n      <td>1767150</td>\n      <td>NaN</td>\n      <td>3.0</td>\n      <td>1.0</td>\n      <td>1.0</td>\n      <td>No</td>\n      <td>No</td>\n      <td>No</td>\n      <td>No</td>\n      <td>No</td>\n      <td>NaN</td>\n      <td>NaN</td>\n      <td>NaN</td>\n    </tr>\n    <tr>\n      <th>542</th>\n      <td>1750000</td>\n      <td>3620.0</td>\n      <td>NaN</td>\n      <td>NaN</td>\n      <td>NaN</td>\n      <td>Yes</td>\n      <td>No</td>\n      <td>No</td>\n      <td>NaN</td>\n      <td>NaN</td>\n      <td>NaN</td>\n      <td>No</td>\n      <td>unfurnished</td>\n    </tr>\n    <tr>\n      <th>543</th>\n      <td>1750000</td>\n      <td>NaN</td>\n      <td>NaN</td>\n      <td>1.0</td>\n      <td>1.0</td>\n      <td>No</td>\n      <td>No</td>\n      <td>No</td>\n      <td>No</td>\n      <td>No</td>\n      <td>0.0</td>\n      <td>NaN</td>\n      <td>furnished</td>\n    </tr>\n    <tr>\n      <th>544</th>\n      <td>1750000</td>\n      <td>3850.0</td>\n      <td>3.0</td>\n      <td>1.0</td>\n      <td>2.0</td>\n      <td>NaN</td>\n      <td>NaN</td>\n      <td>NaN</td>\n      <td>NaN</td>\n      <td>No</td>\n      <td>0.0</td>\n      <td>No</td>\n      <td>NaN</td>\n    </tr>\n  </tbody>\n</table>\n<p>545 rows × 13 columns</p>\n</div>"
     },
     "execution_count": 14,
     "metadata": {},
     "output_type": "execute_result"
    }
   ],
   "source": [
    "df.loc[(df['bedrooms'] == 4)&(df[\"price\"]>5000000),'area']=df.loc[(df['bedrooms'] == 4)&(df[\"price\"]>5000000),'area'].fillna(m1)\n",
    "df"
   ],
   "metadata": {
    "collapsed": false,
    "ExecuteTime": {
     "end_time": "2023-11-07T14:39:06.173679800Z",
     "start_time": "2023-11-07T14:39:04.577709900Z"
    }
   },
   "id": "6eb142bf5b56d6d7"
  },
  {
   "cell_type": "code",
   "execution_count": 15,
   "outputs": [
    {
     "data": {
      "text/plain": "4387.315789473684"
     },
     "execution_count": 15,
     "metadata": {},
     "output_type": "execute_result"
    }
   ],
   "source": [
    "m2=df[\"area\"].loc[(df['bedrooms']==4)&(df[\"price\"]<=5000000)].mean()\n",
    "\n",
    "m2"
   ],
   "metadata": {
    "collapsed": false,
    "ExecuteTime": {
     "end_time": "2023-11-07T14:39:06.173679800Z",
     "start_time": "2023-11-07T14:39:04.595710900Z"
    }
   },
   "id": "949e810c90d60f40"
  },
  {
   "cell_type": "code",
   "execution_count": 16,
   "outputs": [],
   "source": [
    "df.loc[(df['bedrooms'] == 4)&(df[\"price\"]<=5000000),'area']=df.loc[(df['bedrooms'] == 4)&(df[\"price\"]<=5000000),'area'].fillna(m2)"
   ],
   "metadata": {
    "collapsed": false,
    "ExecuteTime": {
     "end_time": "2023-11-07T14:39:06.173679800Z",
     "start_time": "2023-11-07T14:39:04.602690800Z"
    }
   },
   "id": "62dc51eef375c4bb"
  },
  {
   "cell_type": "code",
   "execution_count": 17,
   "outputs": [
    {
     "data": {
      "text/plain": "        price    area  bedrooms  bathrooms  stories mainroad guestroom  \\\n0    13300000  7420.0       4.0        NaN      3.0      NaN       NaN   \n1    12250000  8960.0       NaN        4.0      4.0      Yes        No   \n2    12250000  9960.0       3.0        2.0      2.0      Yes       NaN   \n3    12215000  7500.0       NaN        NaN      NaN      NaN        No   \n4    11410000  7420.0       NaN        1.0      2.0      NaN       Yes   \n..        ...     ...       ...        ...      ...      ...       ...   \n540   1820000     NaN       2.0        NaN      1.0      NaN        No   \n541   1767150     NaN       3.0        1.0      1.0       No        No   \n542   1750000  3620.0       NaN        NaN      NaN      Yes        No   \n543   1750000     NaN       NaN        1.0      1.0       No        No   \n544   1750000  3850.0       3.0        1.0      2.0      NaN       NaN   \n\n    basement hotwaterheating airconditioning  parking prefarea  \\\n0        NaN             NaN             Yes      2.0      Yes   \n1         No              No             Yes      NaN       No   \n2        Yes              No              No      2.0      Yes   \n3        Yes              No             Yes      3.0      Yes   \n4        Yes             NaN             Yes      2.0       No   \n..       ...             ...             ...      ...      ...   \n540      NaN              No              No      NaN       No   \n541       No              No              No      NaN      NaN   \n542       No             NaN             NaN      NaN       No   \n543       No              No              No      0.0      NaN   \n544      NaN             NaN              No      0.0       No   \n\n    furnishingstatus  \n0          furnished  \n1          furnished  \n2     semi-furnished  \n3          furnished  \n4                NaN  \n..               ...  \n540      unfurnished  \n541              NaN  \n542      unfurnished  \n543        furnished  \n544              NaN  \n\n[545 rows x 13 columns]",
      "text/html": "<div>\n<style scoped>\n    .dataframe tbody tr th:only-of-type {\n        vertical-align: middle;\n    }\n\n    .dataframe tbody tr th {\n        vertical-align: top;\n    }\n\n    .dataframe thead th {\n        text-align: right;\n    }\n</style>\n<table border=\"1\" class=\"dataframe\">\n  <thead>\n    <tr style=\"text-align: right;\">\n      <th></th>\n      <th>price</th>\n      <th>area</th>\n      <th>bedrooms</th>\n      <th>bathrooms</th>\n      <th>stories</th>\n      <th>mainroad</th>\n      <th>guestroom</th>\n      <th>basement</th>\n      <th>hotwaterheating</th>\n      <th>airconditioning</th>\n      <th>parking</th>\n      <th>prefarea</th>\n      <th>furnishingstatus</th>\n    </tr>\n  </thead>\n  <tbody>\n    <tr>\n      <th>0</th>\n      <td>13300000</td>\n      <td>7420.0</td>\n      <td>4.0</td>\n      <td>NaN</td>\n      <td>3.0</td>\n      <td>NaN</td>\n      <td>NaN</td>\n      <td>NaN</td>\n      <td>NaN</td>\n      <td>Yes</td>\n      <td>2.0</td>\n      <td>Yes</td>\n      <td>furnished</td>\n    </tr>\n    <tr>\n      <th>1</th>\n      <td>12250000</td>\n      <td>8960.0</td>\n      <td>NaN</td>\n      <td>4.0</td>\n      <td>4.0</td>\n      <td>Yes</td>\n      <td>No</td>\n      <td>No</td>\n      <td>No</td>\n      <td>Yes</td>\n      <td>NaN</td>\n      <td>No</td>\n      <td>furnished</td>\n    </tr>\n    <tr>\n      <th>2</th>\n      <td>12250000</td>\n      <td>9960.0</td>\n      <td>3.0</td>\n      <td>2.0</td>\n      <td>2.0</td>\n      <td>Yes</td>\n      <td>NaN</td>\n      <td>Yes</td>\n      <td>No</td>\n      <td>No</td>\n      <td>2.0</td>\n      <td>Yes</td>\n      <td>semi-furnished</td>\n    </tr>\n    <tr>\n      <th>3</th>\n      <td>12215000</td>\n      <td>7500.0</td>\n      <td>NaN</td>\n      <td>NaN</td>\n      <td>NaN</td>\n      <td>NaN</td>\n      <td>No</td>\n      <td>Yes</td>\n      <td>No</td>\n      <td>Yes</td>\n      <td>3.0</td>\n      <td>Yes</td>\n      <td>furnished</td>\n    </tr>\n    <tr>\n      <th>4</th>\n      <td>11410000</td>\n      <td>7420.0</td>\n      <td>NaN</td>\n      <td>1.0</td>\n      <td>2.0</td>\n      <td>NaN</td>\n      <td>Yes</td>\n      <td>Yes</td>\n      <td>NaN</td>\n      <td>Yes</td>\n      <td>2.0</td>\n      <td>No</td>\n      <td>NaN</td>\n    </tr>\n    <tr>\n      <th>...</th>\n      <td>...</td>\n      <td>...</td>\n      <td>...</td>\n      <td>...</td>\n      <td>...</td>\n      <td>...</td>\n      <td>...</td>\n      <td>...</td>\n      <td>...</td>\n      <td>...</td>\n      <td>...</td>\n      <td>...</td>\n      <td>...</td>\n    </tr>\n    <tr>\n      <th>540</th>\n      <td>1820000</td>\n      <td>NaN</td>\n      <td>2.0</td>\n      <td>NaN</td>\n      <td>1.0</td>\n      <td>NaN</td>\n      <td>No</td>\n      <td>NaN</td>\n      <td>No</td>\n      <td>No</td>\n      <td>NaN</td>\n      <td>No</td>\n      <td>unfurnished</td>\n    </tr>\n    <tr>\n      <th>541</th>\n      <td>1767150</td>\n      <td>NaN</td>\n      <td>3.0</td>\n      <td>1.0</td>\n      <td>1.0</td>\n      <td>No</td>\n      <td>No</td>\n      <td>No</td>\n      <td>No</td>\n      <td>No</td>\n      <td>NaN</td>\n      <td>NaN</td>\n      <td>NaN</td>\n    </tr>\n    <tr>\n      <th>542</th>\n      <td>1750000</td>\n      <td>3620.0</td>\n      <td>NaN</td>\n      <td>NaN</td>\n      <td>NaN</td>\n      <td>Yes</td>\n      <td>No</td>\n      <td>No</td>\n      <td>NaN</td>\n      <td>NaN</td>\n      <td>NaN</td>\n      <td>No</td>\n      <td>unfurnished</td>\n    </tr>\n    <tr>\n      <th>543</th>\n      <td>1750000</td>\n      <td>NaN</td>\n      <td>NaN</td>\n      <td>1.0</td>\n      <td>1.0</td>\n      <td>No</td>\n      <td>No</td>\n      <td>No</td>\n      <td>No</td>\n      <td>No</td>\n      <td>0.0</td>\n      <td>NaN</td>\n      <td>furnished</td>\n    </tr>\n    <tr>\n      <th>544</th>\n      <td>1750000</td>\n      <td>3850.0</td>\n      <td>3.0</td>\n      <td>1.0</td>\n      <td>2.0</td>\n      <td>NaN</td>\n      <td>NaN</td>\n      <td>NaN</td>\n      <td>NaN</td>\n      <td>No</td>\n      <td>0.0</td>\n      <td>No</td>\n      <td>NaN</td>\n    </tr>\n  </tbody>\n</table>\n<p>545 rows × 13 columns</p>\n</div>"
     },
     "execution_count": 17,
     "metadata": {},
     "output_type": "execute_result"
    }
   ],
   "source": [
    "df"
   ],
   "metadata": {
    "collapsed": false,
    "ExecuteTime": {
     "end_time": "2023-11-07T14:39:06.173679800Z",
     "start_time": "2023-11-07T14:39:04.609832200Z"
    }
   },
   "id": "c0e925682d593a5e"
  },
  {
   "cell_type": "code",
   "execution_count": 18,
   "outputs": [],
   "source": [
    "m3=df[\"area\"].loc[(df['bedrooms']==5)].mean()"
   ],
   "metadata": {
    "collapsed": false,
    "ExecuteTime": {
     "end_time": "2023-11-07T14:39:06.173679800Z",
     "start_time": "2023-11-07T14:39:04.626602700Z"
    }
   },
   "id": "cf9eda0579e9dcb"
  },
  {
   "cell_type": "code",
   "execution_count": 19,
   "outputs": [
    {
     "data": {
      "text/plain": "10910.0"
     },
     "execution_count": 19,
     "metadata": {},
     "output_type": "execute_result"
    }
   ],
   "source": [
    "m3"
   ],
   "metadata": {
    "collapsed": false,
    "ExecuteTime": {
     "end_time": "2023-11-07T14:39:06.173679800Z",
     "start_time": "2023-11-07T14:39:04.629958100Z"
    }
   },
   "id": "86bbebf087b0e996"
  },
  {
   "cell_type": "code",
   "execution_count": 20,
   "outputs": [],
   "source": [
    "df.loc[df['bedrooms'] == 5,'area']=df.loc[(df['bedrooms'] == 5),'area'].fillna(m3)"
   ],
   "metadata": {
    "collapsed": false,
    "ExecuteTime": {
     "end_time": "2023-11-07T14:39:06.173679800Z",
     "start_time": "2023-11-07T14:39:04.639002600Z"
    }
   },
   "id": "c025cb2004405ae3"
  },
  {
   "cell_type": "code",
   "execution_count": 21,
   "outputs": [
    {
     "data": {
      "text/plain": "4300.0"
     },
     "execution_count": 21,
     "metadata": {},
     "output_type": "execute_result"
    }
   ],
   "source": [
    "m4=df[\"area\"].loc[(df['bedrooms']==6)].mean()\n",
    "m4"
   ],
   "metadata": {
    "collapsed": false,
    "ExecuteTime": {
     "end_time": "2023-11-07T14:39:06.173679800Z",
     "start_time": "2023-11-07T14:39:04.642233900Z"
    }
   },
   "id": "b79ce431ec38544f"
  },
  {
   "cell_type": "code",
   "execution_count": 22,
   "outputs": [],
   "source": [
    "df.loc[df['bedrooms'] == 6,'area']=df.loc[(df['bedrooms'] == 6),'area'].fillna(m4)"
   ],
   "metadata": {
    "collapsed": false,
    "ExecuteTime": {
     "end_time": "2023-11-07T14:39:06.173679800Z",
     "start_time": "2023-11-07T14:39:04.649010700Z"
    }
   },
   "id": "f055b67e089aca32"
  },
  {
   "cell_type": "code",
   "execution_count": 23,
   "outputs": [
    {
     "data": {
      "text/plain": "5348.27"
     },
     "execution_count": 23,
     "metadata": {},
     "output_type": "execute_result"
    }
   ],
   "source": [
    "m5=df[\"area\"].loc[(df['bedrooms']==3)].mean().round(decimals=2)\n",
    "m5"
   ],
   "metadata": {
    "collapsed": false,
    "ExecuteTime": {
     "end_time": "2023-11-07T14:39:06.173679800Z",
     "start_time": "2023-11-07T14:39:04.655628800Z"
    }
   },
   "id": "98ab22de2d7c4186"
  },
  {
   "cell_type": "code",
   "execution_count": 24,
   "outputs": [],
   "source": [
    "df.loc[df['bedrooms'] == 3,'area']=df.loc[(df['bedrooms'] == 3),'area'].fillna(m5)"
   ],
   "metadata": {
    "collapsed": false,
    "ExecuteTime": {
     "end_time": "2023-11-07T14:39:06.173679800Z",
     "start_time": "2023-11-07T14:39:04.662949200Z"
    }
   },
   "id": "5691feb99cb587e6"
  },
  {
   "cell_type": "code",
   "execution_count": 25,
   "outputs": [
    {
     "data": {
      "text/plain": "4658.37"
     },
     "execution_count": 25,
     "metadata": {},
     "output_type": "execute_result"
    }
   ],
   "source": [
    "m6=df[\"area\"].loc[(df['bedrooms']==2)].mean().round(decimals=2)\n",
    "m6"
   ],
   "metadata": {
    "collapsed": false,
    "ExecuteTime": {
     "end_time": "2023-11-07T14:39:06.173679800Z",
     "start_time": "2023-11-07T14:39:04.670933600Z"
    }
   },
   "id": "9a5e82dc7661121"
  },
  {
   "cell_type": "code",
   "execution_count": 26,
   "outputs": [],
   "source": [
    "df.loc[df['bedrooms'] == 2,'area']=df.loc[(df['bedrooms'] == 2),'area'].fillna(m6)"
   ],
   "metadata": {
    "collapsed": false,
    "ExecuteTime": {
     "end_time": "2023-11-07T14:39:06.173679800Z",
     "start_time": "2023-11-07T14:39:04.676823100Z"
    }
   },
   "id": "11feae8dee98abbc"
  },
  {
   "cell_type": "code",
   "execution_count": 27,
   "outputs": [
    {
     "data": {
      "text/plain": "3450.0"
     },
     "execution_count": 27,
     "metadata": {},
     "output_type": "execute_result"
    }
   ],
   "source": [
    "m7=df[\"area\"].loc[(df['bedrooms']==1)].mean().round(decimals=2)\n",
    "m7"
   ],
   "metadata": {
    "collapsed": false,
    "ExecuteTime": {
     "end_time": "2023-11-07T14:39:06.173679800Z",
     "start_time": "2023-11-07T14:39:04.683163500Z"
    }
   },
   "id": "301b2e4eaa5a449e"
  },
  {
   "cell_type": "code",
   "execution_count": 28,
   "outputs": [],
   "source": [
    "df.loc[df['bedrooms'] == 1,'area']=df.loc[(df['bedrooms'] == 1),'area'].fillna(m7)"
   ],
   "metadata": {
    "collapsed": false,
    "ExecuteTime": {
     "end_time": "2023-11-07T14:39:06.173679800Z",
     "start_time": "2023-11-07T14:39:04.690008100Z"
    }
   },
   "id": "3800096c10c5b758"
  },
  {
   "cell_type": "code",
   "execution_count": 29,
   "outputs": [
    {
     "data": {
      "text/plain": "        price     area  bedrooms  bathrooms  stories mainroad guestroom  \\\n0    13300000  7420.00       4.0        NaN      3.0      NaN       NaN   \n1    12250000  8960.00       NaN        4.0      4.0      Yes        No   \n2    12250000  9960.00       3.0        2.0      2.0      Yes       NaN   \n3    12215000  7500.00       NaN        NaN      NaN      NaN        No   \n4    11410000  7420.00       NaN        1.0      2.0      NaN       Yes   \n..        ...      ...       ...        ...      ...      ...       ...   \n540   1820000  4658.37       2.0        NaN      1.0      NaN        No   \n541   1767150  5348.27       3.0        1.0      1.0       No        No   \n542   1750000  3620.00       NaN        NaN      NaN      Yes        No   \n543   1750000      NaN       NaN        1.0      1.0       No        No   \n544   1750000  3850.00       3.0        1.0      2.0      NaN       NaN   \n\n    basement hotwaterheating airconditioning  parking prefarea  \\\n0        NaN             NaN             Yes      2.0      Yes   \n1         No              No             Yes      NaN       No   \n2        Yes              No              No      2.0      Yes   \n3        Yes              No             Yes      3.0      Yes   \n4        Yes             NaN             Yes      2.0       No   \n..       ...             ...             ...      ...      ...   \n540      NaN              No              No      NaN       No   \n541       No              No              No      NaN      NaN   \n542       No             NaN             NaN      NaN       No   \n543       No              No              No      0.0      NaN   \n544      NaN             NaN              No      0.0       No   \n\n    furnishingstatus  \n0          furnished  \n1          furnished  \n2     semi-furnished  \n3          furnished  \n4                NaN  \n..               ...  \n540      unfurnished  \n541              NaN  \n542      unfurnished  \n543        furnished  \n544              NaN  \n\n[545 rows x 13 columns]",
      "text/html": "<div>\n<style scoped>\n    .dataframe tbody tr th:only-of-type {\n        vertical-align: middle;\n    }\n\n    .dataframe tbody tr th {\n        vertical-align: top;\n    }\n\n    .dataframe thead th {\n        text-align: right;\n    }\n</style>\n<table border=\"1\" class=\"dataframe\">\n  <thead>\n    <tr style=\"text-align: right;\">\n      <th></th>\n      <th>price</th>\n      <th>area</th>\n      <th>bedrooms</th>\n      <th>bathrooms</th>\n      <th>stories</th>\n      <th>mainroad</th>\n      <th>guestroom</th>\n      <th>basement</th>\n      <th>hotwaterheating</th>\n      <th>airconditioning</th>\n      <th>parking</th>\n      <th>prefarea</th>\n      <th>furnishingstatus</th>\n    </tr>\n  </thead>\n  <tbody>\n    <tr>\n      <th>0</th>\n      <td>13300000</td>\n      <td>7420.00</td>\n      <td>4.0</td>\n      <td>NaN</td>\n      <td>3.0</td>\n      <td>NaN</td>\n      <td>NaN</td>\n      <td>NaN</td>\n      <td>NaN</td>\n      <td>Yes</td>\n      <td>2.0</td>\n      <td>Yes</td>\n      <td>furnished</td>\n    </tr>\n    <tr>\n      <th>1</th>\n      <td>12250000</td>\n      <td>8960.00</td>\n      <td>NaN</td>\n      <td>4.0</td>\n      <td>4.0</td>\n      <td>Yes</td>\n      <td>No</td>\n      <td>No</td>\n      <td>No</td>\n      <td>Yes</td>\n      <td>NaN</td>\n      <td>No</td>\n      <td>furnished</td>\n    </tr>\n    <tr>\n      <th>2</th>\n      <td>12250000</td>\n      <td>9960.00</td>\n      <td>3.0</td>\n      <td>2.0</td>\n      <td>2.0</td>\n      <td>Yes</td>\n      <td>NaN</td>\n      <td>Yes</td>\n      <td>No</td>\n      <td>No</td>\n      <td>2.0</td>\n      <td>Yes</td>\n      <td>semi-furnished</td>\n    </tr>\n    <tr>\n      <th>3</th>\n      <td>12215000</td>\n      <td>7500.00</td>\n      <td>NaN</td>\n      <td>NaN</td>\n      <td>NaN</td>\n      <td>NaN</td>\n      <td>No</td>\n      <td>Yes</td>\n      <td>No</td>\n      <td>Yes</td>\n      <td>3.0</td>\n      <td>Yes</td>\n      <td>furnished</td>\n    </tr>\n    <tr>\n      <th>4</th>\n      <td>11410000</td>\n      <td>7420.00</td>\n      <td>NaN</td>\n      <td>1.0</td>\n      <td>2.0</td>\n      <td>NaN</td>\n      <td>Yes</td>\n      <td>Yes</td>\n      <td>NaN</td>\n      <td>Yes</td>\n      <td>2.0</td>\n      <td>No</td>\n      <td>NaN</td>\n    </tr>\n    <tr>\n      <th>...</th>\n      <td>...</td>\n      <td>...</td>\n      <td>...</td>\n      <td>...</td>\n      <td>...</td>\n      <td>...</td>\n      <td>...</td>\n      <td>...</td>\n      <td>...</td>\n      <td>...</td>\n      <td>...</td>\n      <td>...</td>\n      <td>...</td>\n    </tr>\n    <tr>\n      <th>540</th>\n      <td>1820000</td>\n      <td>4658.37</td>\n      <td>2.0</td>\n      <td>NaN</td>\n      <td>1.0</td>\n      <td>NaN</td>\n      <td>No</td>\n      <td>NaN</td>\n      <td>No</td>\n      <td>No</td>\n      <td>NaN</td>\n      <td>No</td>\n      <td>unfurnished</td>\n    </tr>\n    <tr>\n      <th>541</th>\n      <td>1767150</td>\n      <td>5348.27</td>\n      <td>3.0</td>\n      <td>1.0</td>\n      <td>1.0</td>\n      <td>No</td>\n      <td>No</td>\n      <td>No</td>\n      <td>No</td>\n      <td>No</td>\n      <td>NaN</td>\n      <td>NaN</td>\n      <td>NaN</td>\n    </tr>\n    <tr>\n      <th>542</th>\n      <td>1750000</td>\n      <td>3620.00</td>\n      <td>NaN</td>\n      <td>NaN</td>\n      <td>NaN</td>\n      <td>Yes</td>\n      <td>No</td>\n      <td>No</td>\n      <td>NaN</td>\n      <td>NaN</td>\n      <td>NaN</td>\n      <td>No</td>\n      <td>unfurnished</td>\n    </tr>\n    <tr>\n      <th>543</th>\n      <td>1750000</td>\n      <td>NaN</td>\n      <td>NaN</td>\n      <td>1.0</td>\n      <td>1.0</td>\n      <td>No</td>\n      <td>No</td>\n      <td>No</td>\n      <td>No</td>\n      <td>No</td>\n      <td>0.0</td>\n      <td>NaN</td>\n      <td>furnished</td>\n    </tr>\n    <tr>\n      <th>544</th>\n      <td>1750000</td>\n      <td>3850.00</td>\n      <td>3.0</td>\n      <td>1.0</td>\n      <td>2.0</td>\n      <td>NaN</td>\n      <td>NaN</td>\n      <td>NaN</td>\n      <td>NaN</td>\n      <td>No</td>\n      <td>0.0</td>\n      <td>No</td>\n      <td>NaN</td>\n    </tr>\n  </tbody>\n</table>\n<p>545 rows × 13 columns</p>\n</div>"
     },
     "execution_count": 29,
     "metadata": {},
     "output_type": "execute_result"
    }
   ],
   "source": [
    "df"
   ],
   "metadata": {
    "collapsed": false,
    "ExecuteTime": {
     "end_time": "2023-11-07T14:39:06.173679800Z",
     "start_time": "2023-11-07T14:39:04.696436200Z"
    }
   },
   "id": "7f6339d1b43074e3"
  },
  {
   "cell_type": "code",
   "execution_count": 30,
   "outputs": [
    {
     "data": {
      "text/plain": "75"
     },
     "execution_count": 30,
     "metadata": {},
     "output_type": "execute_result"
    }
   ],
   "source": [
    "df['area'].isnull().sum()"
   ],
   "metadata": {
    "collapsed": false,
    "ExecuteTime": {
     "end_time": "2023-11-07T14:39:06.173679800Z",
     "start_time": "2023-11-07T14:39:04.718478300Z"
    }
   },
   "id": "d29bda892a66c1f1"
  },
  {
   "cell_type": "code",
   "execution_count": 31,
   "outputs": [],
   "source": [
    "df['area'].fillna(df['area'].mean(),inplace=True)"
   ],
   "metadata": {
    "collapsed": false,
    "ExecuteTime": {
     "end_time": "2023-11-07T14:39:06.173679800Z",
     "start_time": "2023-11-07T14:39:04.720551400Z"
    }
   },
   "id": "882364fc2114935d"
  },
  {
   "cell_type": "code",
   "execution_count": 32,
   "outputs": [
    {
     "data": {
      "text/plain": "        price         area  bedrooms  bathrooms  stories mainroad guestroom  \\\n0    13300000  7420.000000       4.0        NaN      3.0      NaN       NaN   \n1    12250000  8960.000000       NaN        4.0      4.0      Yes        No   \n2    12250000  9960.000000       3.0        2.0      2.0      Yes       NaN   \n3    12215000  7500.000000       NaN        NaN      NaN      NaN        No   \n4    11410000  7420.000000       NaN        1.0      2.0      NaN       Yes   \n..        ...          ...       ...        ...      ...      ...       ...   \n540   1820000  4658.370000       2.0        NaN      1.0      NaN        No   \n541   1767150  5348.270000       3.0        1.0      1.0       No        No   \n542   1750000  3620.000000       NaN        NaN      NaN      Yes        No   \n543   1750000  5268.134974       NaN        1.0      1.0       No        No   \n544   1750000  3850.000000       3.0        1.0      2.0      NaN       NaN   \n\n    basement hotwaterheating airconditioning  parking prefarea  \\\n0        NaN             NaN             Yes      2.0      Yes   \n1         No              No             Yes      NaN       No   \n2        Yes              No              No      2.0      Yes   \n3        Yes              No             Yes      3.0      Yes   \n4        Yes             NaN             Yes      2.0       No   \n..       ...             ...             ...      ...      ...   \n540      NaN              No              No      NaN       No   \n541       No              No              No      NaN      NaN   \n542       No             NaN             NaN      NaN       No   \n543       No              No              No      0.0      NaN   \n544      NaN             NaN              No      0.0       No   \n\n    furnishingstatus  \n0          furnished  \n1          furnished  \n2     semi-furnished  \n3          furnished  \n4                NaN  \n..               ...  \n540      unfurnished  \n541              NaN  \n542      unfurnished  \n543        furnished  \n544              NaN  \n\n[545 rows x 13 columns]",
      "text/html": "<div>\n<style scoped>\n    .dataframe tbody tr th:only-of-type {\n        vertical-align: middle;\n    }\n\n    .dataframe tbody tr th {\n        vertical-align: top;\n    }\n\n    .dataframe thead th {\n        text-align: right;\n    }\n</style>\n<table border=\"1\" class=\"dataframe\">\n  <thead>\n    <tr style=\"text-align: right;\">\n      <th></th>\n      <th>price</th>\n      <th>area</th>\n      <th>bedrooms</th>\n      <th>bathrooms</th>\n      <th>stories</th>\n      <th>mainroad</th>\n      <th>guestroom</th>\n      <th>basement</th>\n      <th>hotwaterheating</th>\n      <th>airconditioning</th>\n      <th>parking</th>\n      <th>prefarea</th>\n      <th>furnishingstatus</th>\n    </tr>\n  </thead>\n  <tbody>\n    <tr>\n      <th>0</th>\n      <td>13300000</td>\n      <td>7420.000000</td>\n      <td>4.0</td>\n      <td>NaN</td>\n      <td>3.0</td>\n      <td>NaN</td>\n      <td>NaN</td>\n      <td>NaN</td>\n      <td>NaN</td>\n      <td>Yes</td>\n      <td>2.0</td>\n      <td>Yes</td>\n      <td>furnished</td>\n    </tr>\n    <tr>\n      <th>1</th>\n      <td>12250000</td>\n      <td>8960.000000</td>\n      <td>NaN</td>\n      <td>4.0</td>\n      <td>4.0</td>\n      <td>Yes</td>\n      <td>No</td>\n      <td>No</td>\n      <td>No</td>\n      <td>Yes</td>\n      <td>NaN</td>\n      <td>No</td>\n      <td>furnished</td>\n    </tr>\n    <tr>\n      <th>2</th>\n      <td>12250000</td>\n      <td>9960.000000</td>\n      <td>3.0</td>\n      <td>2.0</td>\n      <td>2.0</td>\n      <td>Yes</td>\n      <td>NaN</td>\n      <td>Yes</td>\n      <td>No</td>\n      <td>No</td>\n      <td>2.0</td>\n      <td>Yes</td>\n      <td>semi-furnished</td>\n    </tr>\n    <tr>\n      <th>3</th>\n      <td>12215000</td>\n      <td>7500.000000</td>\n      <td>NaN</td>\n      <td>NaN</td>\n      <td>NaN</td>\n      <td>NaN</td>\n      <td>No</td>\n      <td>Yes</td>\n      <td>No</td>\n      <td>Yes</td>\n      <td>3.0</td>\n      <td>Yes</td>\n      <td>furnished</td>\n    </tr>\n    <tr>\n      <th>4</th>\n      <td>11410000</td>\n      <td>7420.000000</td>\n      <td>NaN</td>\n      <td>1.0</td>\n      <td>2.0</td>\n      <td>NaN</td>\n      <td>Yes</td>\n      <td>Yes</td>\n      <td>NaN</td>\n      <td>Yes</td>\n      <td>2.0</td>\n      <td>No</td>\n      <td>NaN</td>\n    </tr>\n    <tr>\n      <th>...</th>\n      <td>...</td>\n      <td>...</td>\n      <td>...</td>\n      <td>...</td>\n      <td>...</td>\n      <td>...</td>\n      <td>...</td>\n      <td>...</td>\n      <td>...</td>\n      <td>...</td>\n      <td>...</td>\n      <td>...</td>\n      <td>...</td>\n    </tr>\n    <tr>\n      <th>540</th>\n      <td>1820000</td>\n      <td>4658.370000</td>\n      <td>2.0</td>\n      <td>NaN</td>\n      <td>1.0</td>\n      <td>NaN</td>\n      <td>No</td>\n      <td>NaN</td>\n      <td>No</td>\n      <td>No</td>\n      <td>NaN</td>\n      <td>No</td>\n      <td>unfurnished</td>\n    </tr>\n    <tr>\n      <th>541</th>\n      <td>1767150</td>\n      <td>5348.270000</td>\n      <td>3.0</td>\n      <td>1.0</td>\n      <td>1.0</td>\n      <td>No</td>\n      <td>No</td>\n      <td>No</td>\n      <td>No</td>\n      <td>No</td>\n      <td>NaN</td>\n      <td>NaN</td>\n      <td>NaN</td>\n    </tr>\n    <tr>\n      <th>542</th>\n      <td>1750000</td>\n      <td>3620.000000</td>\n      <td>NaN</td>\n      <td>NaN</td>\n      <td>NaN</td>\n      <td>Yes</td>\n      <td>No</td>\n      <td>No</td>\n      <td>NaN</td>\n      <td>NaN</td>\n      <td>NaN</td>\n      <td>No</td>\n      <td>unfurnished</td>\n    </tr>\n    <tr>\n      <th>543</th>\n      <td>1750000</td>\n      <td>5268.134974</td>\n      <td>NaN</td>\n      <td>1.0</td>\n      <td>1.0</td>\n      <td>No</td>\n      <td>No</td>\n      <td>No</td>\n      <td>No</td>\n      <td>No</td>\n      <td>0.0</td>\n      <td>NaN</td>\n      <td>furnished</td>\n    </tr>\n    <tr>\n      <th>544</th>\n      <td>1750000</td>\n      <td>3850.000000</td>\n      <td>3.0</td>\n      <td>1.0</td>\n      <td>2.0</td>\n      <td>NaN</td>\n      <td>NaN</td>\n      <td>NaN</td>\n      <td>NaN</td>\n      <td>No</td>\n      <td>0.0</td>\n      <td>No</td>\n      <td>NaN</td>\n    </tr>\n  </tbody>\n</table>\n<p>545 rows × 13 columns</p>\n</div>"
     },
     "execution_count": 32,
     "metadata": {},
     "output_type": "execute_result"
    }
   ],
   "source": [
    "df"
   ],
   "metadata": {
    "collapsed": false,
    "ExecuteTime": {
     "end_time": "2023-11-07T14:39:06.173679800Z",
     "start_time": "2023-11-07T14:39:04.726869500Z"
    }
   },
   "id": "4dc064898cdbebfe"
  },
  {
   "cell_type": "code",
   "execution_count": 33,
   "outputs": [],
   "source": [
    "df.loc[:,'bedrooms']=df.loc[:,'bedrooms'].fillna(df['bathrooms']+2)\n"
   ],
   "metadata": {
    "collapsed": false,
    "ExecuteTime": {
     "end_time": "2023-11-07T14:39:06.173679800Z",
     "start_time": "2023-11-07T14:39:04.742507900Z"
    }
   },
   "id": "aac48a20ad69b44f"
  },
  {
   "cell_type": "code",
   "execution_count": 34,
   "outputs": [
    {
     "data": {
      "text/plain": "        price         area  bedrooms  bathrooms  stories mainroad guestroom  \\\n0    13300000  7420.000000       4.0        NaN      3.0      NaN       NaN   \n1    12250000  8960.000000       6.0        4.0      4.0      Yes        No   \n2    12250000  9960.000000       3.0        2.0      2.0      Yes       NaN   \n3    12215000  7500.000000       NaN        NaN      NaN      NaN        No   \n4    11410000  7420.000000       3.0        1.0      2.0      NaN       Yes   \n..        ...          ...       ...        ...      ...      ...       ...   \n540   1820000  4658.370000       2.0        NaN      1.0      NaN        No   \n541   1767150  5348.270000       3.0        1.0      1.0       No        No   \n542   1750000  3620.000000       NaN        NaN      NaN      Yes        No   \n543   1750000  5268.134974       3.0        1.0      1.0       No        No   \n544   1750000  3850.000000       3.0        1.0      2.0      NaN       NaN   \n\n    basement hotwaterheating airconditioning  parking prefarea  \\\n0        NaN             NaN             Yes      2.0      Yes   \n1         No              No             Yes      NaN       No   \n2        Yes              No              No      2.0      Yes   \n3        Yes              No             Yes      3.0      Yes   \n4        Yes             NaN             Yes      2.0       No   \n..       ...             ...             ...      ...      ...   \n540      NaN              No              No      NaN       No   \n541       No              No              No      NaN      NaN   \n542       No             NaN             NaN      NaN       No   \n543       No              No              No      0.0      NaN   \n544      NaN             NaN              No      0.0       No   \n\n    furnishingstatus  \n0          furnished  \n1          furnished  \n2     semi-furnished  \n3          furnished  \n4                NaN  \n..               ...  \n540      unfurnished  \n541              NaN  \n542      unfurnished  \n543        furnished  \n544              NaN  \n\n[545 rows x 13 columns]",
      "text/html": "<div>\n<style scoped>\n    .dataframe tbody tr th:only-of-type {\n        vertical-align: middle;\n    }\n\n    .dataframe tbody tr th {\n        vertical-align: top;\n    }\n\n    .dataframe thead th {\n        text-align: right;\n    }\n</style>\n<table border=\"1\" class=\"dataframe\">\n  <thead>\n    <tr style=\"text-align: right;\">\n      <th></th>\n      <th>price</th>\n      <th>area</th>\n      <th>bedrooms</th>\n      <th>bathrooms</th>\n      <th>stories</th>\n      <th>mainroad</th>\n      <th>guestroom</th>\n      <th>basement</th>\n      <th>hotwaterheating</th>\n      <th>airconditioning</th>\n      <th>parking</th>\n      <th>prefarea</th>\n      <th>furnishingstatus</th>\n    </tr>\n  </thead>\n  <tbody>\n    <tr>\n      <th>0</th>\n      <td>13300000</td>\n      <td>7420.000000</td>\n      <td>4.0</td>\n      <td>NaN</td>\n      <td>3.0</td>\n      <td>NaN</td>\n      <td>NaN</td>\n      <td>NaN</td>\n      <td>NaN</td>\n      <td>Yes</td>\n      <td>2.0</td>\n      <td>Yes</td>\n      <td>furnished</td>\n    </tr>\n    <tr>\n      <th>1</th>\n      <td>12250000</td>\n      <td>8960.000000</td>\n      <td>6.0</td>\n      <td>4.0</td>\n      <td>4.0</td>\n      <td>Yes</td>\n      <td>No</td>\n      <td>No</td>\n      <td>No</td>\n      <td>Yes</td>\n      <td>NaN</td>\n      <td>No</td>\n      <td>furnished</td>\n    </tr>\n    <tr>\n      <th>2</th>\n      <td>12250000</td>\n      <td>9960.000000</td>\n      <td>3.0</td>\n      <td>2.0</td>\n      <td>2.0</td>\n      <td>Yes</td>\n      <td>NaN</td>\n      <td>Yes</td>\n      <td>No</td>\n      <td>No</td>\n      <td>2.0</td>\n      <td>Yes</td>\n      <td>semi-furnished</td>\n    </tr>\n    <tr>\n      <th>3</th>\n      <td>12215000</td>\n      <td>7500.000000</td>\n      <td>NaN</td>\n      <td>NaN</td>\n      <td>NaN</td>\n      <td>NaN</td>\n      <td>No</td>\n      <td>Yes</td>\n      <td>No</td>\n      <td>Yes</td>\n      <td>3.0</td>\n      <td>Yes</td>\n      <td>furnished</td>\n    </tr>\n    <tr>\n      <th>4</th>\n      <td>11410000</td>\n      <td>7420.000000</td>\n      <td>3.0</td>\n      <td>1.0</td>\n      <td>2.0</td>\n      <td>NaN</td>\n      <td>Yes</td>\n      <td>Yes</td>\n      <td>NaN</td>\n      <td>Yes</td>\n      <td>2.0</td>\n      <td>No</td>\n      <td>NaN</td>\n    </tr>\n    <tr>\n      <th>...</th>\n      <td>...</td>\n      <td>...</td>\n      <td>...</td>\n      <td>...</td>\n      <td>...</td>\n      <td>...</td>\n      <td>...</td>\n      <td>...</td>\n      <td>...</td>\n      <td>...</td>\n      <td>...</td>\n      <td>...</td>\n      <td>...</td>\n    </tr>\n    <tr>\n      <th>540</th>\n      <td>1820000</td>\n      <td>4658.370000</td>\n      <td>2.0</td>\n      <td>NaN</td>\n      <td>1.0</td>\n      <td>NaN</td>\n      <td>No</td>\n      <td>NaN</td>\n      <td>No</td>\n      <td>No</td>\n      <td>NaN</td>\n      <td>No</td>\n      <td>unfurnished</td>\n    </tr>\n    <tr>\n      <th>541</th>\n      <td>1767150</td>\n      <td>5348.270000</td>\n      <td>3.0</td>\n      <td>1.0</td>\n      <td>1.0</td>\n      <td>No</td>\n      <td>No</td>\n      <td>No</td>\n      <td>No</td>\n      <td>No</td>\n      <td>NaN</td>\n      <td>NaN</td>\n      <td>NaN</td>\n    </tr>\n    <tr>\n      <th>542</th>\n      <td>1750000</td>\n      <td>3620.000000</td>\n      <td>NaN</td>\n      <td>NaN</td>\n      <td>NaN</td>\n      <td>Yes</td>\n      <td>No</td>\n      <td>No</td>\n      <td>NaN</td>\n      <td>NaN</td>\n      <td>NaN</td>\n      <td>No</td>\n      <td>unfurnished</td>\n    </tr>\n    <tr>\n      <th>543</th>\n      <td>1750000</td>\n      <td>5268.134974</td>\n      <td>3.0</td>\n      <td>1.0</td>\n      <td>1.0</td>\n      <td>No</td>\n      <td>No</td>\n      <td>No</td>\n      <td>No</td>\n      <td>No</td>\n      <td>0.0</td>\n      <td>NaN</td>\n      <td>furnished</td>\n    </tr>\n    <tr>\n      <th>544</th>\n      <td>1750000</td>\n      <td>3850.000000</td>\n      <td>3.0</td>\n      <td>1.0</td>\n      <td>2.0</td>\n      <td>NaN</td>\n      <td>NaN</td>\n      <td>NaN</td>\n      <td>NaN</td>\n      <td>No</td>\n      <td>0.0</td>\n      <td>No</td>\n      <td>NaN</td>\n    </tr>\n  </tbody>\n</table>\n<p>545 rows × 13 columns</p>\n</div>"
     },
     "execution_count": 34,
     "metadata": {},
     "output_type": "execute_result"
    }
   ],
   "source": [
    "df"
   ],
   "metadata": {
    "collapsed": false,
    "ExecuteTime": {
     "end_time": "2023-11-07T14:39:06.173679800Z",
     "start_time": "2023-11-07T14:39:04.750441900Z"
    }
   },
   "id": "cb3bbf711bf116f2"
  },
  {
   "cell_type": "code",
   "execution_count": 35,
   "outputs": [
    {
     "data": {
      "text/plain": "array([nan,  4.,  2.,  1.,  3.])"
     },
     "execution_count": 35,
     "metadata": {},
     "output_type": "execute_result"
    }
   ],
   "source": [
    "df['bathrooms'].unique()"
   ],
   "metadata": {
    "collapsed": false,
    "ExecuteTime": {
     "end_time": "2023-11-07T14:39:06.173679800Z",
     "start_time": "2023-11-07T14:39:04.765766200Z"
    }
   },
   "id": "b78626838a2800d2"
  },
  {
   "cell_type": "code",
   "execution_count": 36,
   "outputs": [],
   "source": [
    "df.loc[df['bedrooms']>3,'bathrooms']=df.loc[df['bedrooms']>3,'bathrooms'].fillna(df['bedrooms']-2)\n"
   ],
   "metadata": {
    "collapsed": false,
    "ExecuteTime": {
     "end_time": "2023-11-07T14:39:06.173679800Z",
     "start_time": "2023-11-07T14:39:04.771708500Z"
    }
   },
   "id": "3ee31627d16088c1"
  },
  {
   "cell_type": "code",
   "execution_count": 37,
   "outputs": [
    {
     "data": {
      "text/plain": "        price         area  bedrooms  bathrooms  stories mainroad guestroom  \\\n0    13300000  7420.000000       4.0        2.0      3.0      NaN       NaN   \n1    12250000  8960.000000       6.0        4.0      4.0      Yes        No   \n2    12250000  9960.000000       3.0        2.0      2.0      Yes       NaN   \n3    12215000  7500.000000       NaN        NaN      NaN      NaN        No   \n4    11410000  7420.000000       3.0        1.0      2.0      NaN       Yes   \n..        ...          ...       ...        ...      ...      ...       ...   \n540   1820000  4658.370000       2.0        NaN      1.0      NaN        No   \n541   1767150  5348.270000       3.0        1.0      1.0       No        No   \n542   1750000  3620.000000       NaN        NaN      NaN      Yes        No   \n543   1750000  5268.134974       3.0        1.0      1.0       No        No   \n544   1750000  3850.000000       3.0        1.0      2.0      NaN       NaN   \n\n    basement hotwaterheating airconditioning  parking prefarea  \\\n0        NaN             NaN             Yes      2.0      Yes   \n1         No              No             Yes      NaN       No   \n2        Yes              No              No      2.0      Yes   \n3        Yes              No             Yes      3.0      Yes   \n4        Yes             NaN             Yes      2.0       No   \n..       ...             ...             ...      ...      ...   \n540      NaN              No              No      NaN       No   \n541       No              No              No      NaN      NaN   \n542       No             NaN             NaN      NaN       No   \n543       No              No              No      0.0      NaN   \n544      NaN             NaN              No      0.0       No   \n\n    furnishingstatus  \n0          furnished  \n1          furnished  \n2     semi-furnished  \n3          furnished  \n4                NaN  \n..               ...  \n540      unfurnished  \n541              NaN  \n542      unfurnished  \n543        furnished  \n544              NaN  \n\n[545 rows x 13 columns]",
      "text/html": "<div>\n<style scoped>\n    .dataframe tbody tr th:only-of-type {\n        vertical-align: middle;\n    }\n\n    .dataframe tbody tr th {\n        vertical-align: top;\n    }\n\n    .dataframe thead th {\n        text-align: right;\n    }\n</style>\n<table border=\"1\" class=\"dataframe\">\n  <thead>\n    <tr style=\"text-align: right;\">\n      <th></th>\n      <th>price</th>\n      <th>area</th>\n      <th>bedrooms</th>\n      <th>bathrooms</th>\n      <th>stories</th>\n      <th>mainroad</th>\n      <th>guestroom</th>\n      <th>basement</th>\n      <th>hotwaterheating</th>\n      <th>airconditioning</th>\n      <th>parking</th>\n      <th>prefarea</th>\n      <th>furnishingstatus</th>\n    </tr>\n  </thead>\n  <tbody>\n    <tr>\n      <th>0</th>\n      <td>13300000</td>\n      <td>7420.000000</td>\n      <td>4.0</td>\n      <td>2.0</td>\n      <td>3.0</td>\n      <td>NaN</td>\n      <td>NaN</td>\n      <td>NaN</td>\n      <td>NaN</td>\n      <td>Yes</td>\n      <td>2.0</td>\n      <td>Yes</td>\n      <td>furnished</td>\n    </tr>\n    <tr>\n      <th>1</th>\n      <td>12250000</td>\n      <td>8960.000000</td>\n      <td>6.0</td>\n      <td>4.0</td>\n      <td>4.0</td>\n      <td>Yes</td>\n      <td>No</td>\n      <td>No</td>\n      <td>No</td>\n      <td>Yes</td>\n      <td>NaN</td>\n      <td>No</td>\n      <td>furnished</td>\n    </tr>\n    <tr>\n      <th>2</th>\n      <td>12250000</td>\n      <td>9960.000000</td>\n      <td>3.0</td>\n      <td>2.0</td>\n      <td>2.0</td>\n      <td>Yes</td>\n      <td>NaN</td>\n      <td>Yes</td>\n      <td>No</td>\n      <td>No</td>\n      <td>2.0</td>\n      <td>Yes</td>\n      <td>semi-furnished</td>\n    </tr>\n    <tr>\n      <th>3</th>\n      <td>12215000</td>\n      <td>7500.000000</td>\n      <td>NaN</td>\n      <td>NaN</td>\n      <td>NaN</td>\n      <td>NaN</td>\n      <td>No</td>\n      <td>Yes</td>\n      <td>No</td>\n      <td>Yes</td>\n      <td>3.0</td>\n      <td>Yes</td>\n      <td>furnished</td>\n    </tr>\n    <tr>\n      <th>4</th>\n      <td>11410000</td>\n      <td>7420.000000</td>\n      <td>3.0</td>\n      <td>1.0</td>\n      <td>2.0</td>\n      <td>NaN</td>\n      <td>Yes</td>\n      <td>Yes</td>\n      <td>NaN</td>\n      <td>Yes</td>\n      <td>2.0</td>\n      <td>No</td>\n      <td>NaN</td>\n    </tr>\n    <tr>\n      <th>...</th>\n      <td>...</td>\n      <td>...</td>\n      <td>...</td>\n      <td>...</td>\n      <td>...</td>\n      <td>...</td>\n      <td>...</td>\n      <td>...</td>\n      <td>...</td>\n      <td>...</td>\n      <td>...</td>\n      <td>...</td>\n      <td>...</td>\n    </tr>\n    <tr>\n      <th>540</th>\n      <td>1820000</td>\n      <td>4658.370000</td>\n      <td>2.0</td>\n      <td>NaN</td>\n      <td>1.0</td>\n      <td>NaN</td>\n      <td>No</td>\n      <td>NaN</td>\n      <td>No</td>\n      <td>No</td>\n      <td>NaN</td>\n      <td>No</td>\n      <td>unfurnished</td>\n    </tr>\n    <tr>\n      <th>541</th>\n      <td>1767150</td>\n      <td>5348.270000</td>\n      <td>3.0</td>\n      <td>1.0</td>\n      <td>1.0</td>\n      <td>No</td>\n      <td>No</td>\n      <td>No</td>\n      <td>No</td>\n      <td>No</td>\n      <td>NaN</td>\n      <td>NaN</td>\n      <td>NaN</td>\n    </tr>\n    <tr>\n      <th>542</th>\n      <td>1750000</td>\n      <td>3620.000000</td>\n      <td>NaN</td>\n      <td>NaN</td>\n      <td>NaN</td>\n      <td>Yes</td>\n      <td>No</td>\n      <td>No</td>\n      <td>NaN</td>\n      <td>NaN</td>\n      <td>NaN</td>\n      <td>No</td>\n      <td>unfurnished</td>\n    </tr>\n    <tr>\n      <th>543</th>\n      <td>1750000</td>\n      <td>5268.134974</td>\n      <td>3.0</td>\n      <td>1.0</td>\n      <td>1.0</td>\n      <td>No</td>\n      <td>No</td>\n      <td>No</td>\n      <td>No</td>\n      <td>No</td>\n      <td>0.0</td>\n      <td>NaN</td>\n      <td>furnished</td>\n    </tr>\n    <tr>\n      <th>544</th>\n      <td>1750000</td>\n      <td>3850.000000</td>\n      <td>3.0</td>\n      <td>1.0</td>\n      <td>2.0</td>\n      <td>NaN</td>\n      <td>NaN</td>\n      <td>NaN</td>\n      <td>NaN</td>\n      <td>No</td>\n      <td>0.0</td>\n      <td>No</td>\n      <td>NaN</td>\n    </tr>\n  </tbody>\n</table>\n<p>545 rows × 13 columns</p>\n</div>"
     },
     "execution_count": 37,
     "metadata": {},
     "output_type": "execute_result"
    }
   ],
   "source": [
    "df"
   ],
   "metadata": {
    "collapsed": false,
    "ExecuteTime": {
     "end_time": "2023-11-07T14:39:06.173679800Z",
     "start_time": "2023-11-07T14:39:04.781514900Z"
    }
   },
   "id": "6b6091b4888de97f"
  },
  {
   "cell_type": "code",
   "execution_count": 38,
   "outputs": [
    {
     "data": {
      "text/plain": "1.309090909090909"
     },
     "execution_count": 38,
     "metadata": {},
     "output_type": "execute_result"
    }
   ],
   "source": [
    "df['bathrooms'].mean()"
   ],
   "metadata": {
    "collapsed": false,
    "ExecuteTime": {
     "end_time": "2023-11-07T14:39:06.173679800Z",
     "start_time": "2023-11-07T14:39:04.797237400Z"
    }
   },
   "id": "4923904c962a29f2"
  },
  {
   "cell_type": "code",
   "execution_count": 39,
   "outputs": [],
   "source": [
    "df['bathrooms'].fillna(1,inplace=True)"
   ],
   "metadata": {
    "collapsed": false,
    "ExecuteTime": {
     "end_time": "2023-11-07T14:39:06.173679800Z",
     "start_time": "2023-11-07T14:39:04.810322300Z"
    }
   },
   "id": "68014f0f1fea2dbb"
  },
  {
   "cell_type": "code",
   "execution_count": 40,
   "outputs": [
    {
     "data": {
      "text/plain": "3.016293279022403"
     },
     "execution_count": 40,
     "metadata": {},
     "output_type": "execute_result"
    }
   ],
   "source": [
    "df['bedrooms'].mean()"
   ],
   "metadata": {
    "collapsed": false,
    "ExecuteTime": {
     "end_time": "2023-11-07T14:39:06.173679800Z",
     "start_time": "2023-11-07T14:39:04.813334400Z"
    }
   },
   "id": "8489d27527a919cd"
  },
  {
   "cell_type": "code",
   "execution_count": 41,
   "outputs": [],
   "source": [
    "df['bedrooms'].fillna(3,inplace=True)"
   ],
   "metadata": {
    "collapsed": false,
    "ExecuteTime": {
     "end_time": "2023-11-07T14:39:06.173679800Z",
     "start_time": "2023-11-07T14:39:04.818344800Z"
    }
   },
   "id": "b9fedea36daa38ee"
  },
  {
   "cell_type": "code",
   "execution_count": 42,
   "outputs": [
    {
     "data": {
      "text/plain": "        price         area  bedrooms  bathrooms  stories mainroad guestroom  \\\n0    13300000  7420.000000       4.0        2.0      3.0      NaN       NaN   \n1    12250000  8960.000000       6.0        4.0      4.0      Yes        No   \n2    12250000  9960.000000       3.0        2.0      2.0      Yes       NaN   \n3    12215000  7500.000000       3.0        1.0      NaN      NaN        No   \n4    11410000  7420.000000       3.0        1.0      2.0      NaN       Yes   \n..        ...          ...       ...        ...      ...      ...       ...   \n540   1820000  4658.370000       2.0        1.0      1.0      NaN        No   \n541   1767150  5348.270000       3.0        1.0      1.0       No        No   \n542   1750000  3620.000000       3.0        1.0      NaN      Yes        No   \n543   1750000  5268.134974       3.0        1.0      1.0       No        No   \n544   1750000  3850.000000       3.0        1.0      2.0      NaN       NaN   \n\n    basement hotwaterheating airconditioning  parking prefarea  \\\n0        NaN             NaN             Yes      2.0      Yes   \n1         No              No             Yes      NaN       No   \n2        Yes              No              No      2.0      Yes   \n3        Yes              No             Yes      3.0      Yes   \n4        Yes             NaN             Yes      2.0       No   \n..       ...             ...             ...      ...      ...   \n540      NaN              No              No      NaN       No   \n541       No              No              No      NaN      NaN   \n542       No             NaN             NaN      NaN       No   \n543       No              No              No      0.0      NaN   \n544      NaN             NaN              No      0.0       No   \n\n    furnishingstatus  \n0          furnished  \n1          furnished  \n2     semi-furnished  \n3          furnished  \n4                NaN  \n..               ...  \n540      unfurnished  \n541              NaN  \n542      unfurnished  \n543        furnished  \n544              NaN  \n\n[545 rows x 13 columns]",
      "text/html": "<div>\n<style scoped>\n    .dataframe tbody tr th:only-of-type {\n        vertical-align: middle;\n    }\n\n    .dataframe tbody tr th {\n        vertical-align: top;\n    }\n\n    .dataframe thead th {\n        text-align: right;\n    }\n</style>\n<table border=\"1\" class=\"dataframe\">\n  <thead>\n    <tr style=\"text-align: right;\">\n      <th></th>\n      <th>price</th>\n      <th>area</th>\n      <th>bedrooms</th>\n      <th>bathrooms</th>\n      <th>stories</th>\n      <th>mainroad</th>\n      <th>guestroom</th>\n      <th>basement</th>\n      <th>hotwaterheating</th>\n      <th>airconditioning</th>\n      <th>parking</th>\n      <th>prefarea</th>\n      <th>furnishingstatus</th>\n    </tr>\n  </thead>\n  <tbody>\n    <tr>\n      <th>0</th>\n      <td>13300000</td>\n      <td>7420.000000</td>\n      <td>4.0</td>\n      <td>2.0</td>\n      <td>3.0</td>\n      <td>NaN</td>\n      <td>NaN</td>\n      <td>NaN</td>\n      <td>NaN</td>\n      <td>Yes</td>\n      <td>2.0</td>\n      <td>Yes</td>\n      <td>furnished</td>\n    </tr>\n    <tr>\n      <th>1</th>\n      <td>12250000</td>\n      <td>8960.000000</td>\n      <td>6.0</td>\n      <td>4.0</td>\n      <td>4.0</td>\n      <td>Yes</td>\n      <td>No</td>\n      <td>No</td>\n      <td>No</td>\n      <td>Yes</td>\n      <td>NaN</td>\n      <td>No</td>\n      <td>furnished</td>\n    </tr>\n    <tr>\n      <th>2</th>\n      <td>12250000</td>\n      <td>9960.000000</td>\n      <td>3.0</td>\n      <td>2.0</td>\n      <td>2.0</td>\n      <td>Yes</td>\n      <td>NaN</td>\n      <td>Yes</td>\n      <td>No</td>\n      <td>No</td>\n      <td>2.0</td>\n      <td>Yes</td>\n      <td>semi-furnished</td>\n    </tr>\n    <tr>\n      <th>3</th>\n      <td>12215000</td>\n      <td>7500.000000</td>\n      <td>3.0</td>\n      <td>1.0</td>\n      <td>NaN</td>\n      <td>NaN</td>\n      <td>No</td>\n      <td>Yes</td>\n      <td>No</td>\n      <td>Yes</td>\n      <td>3.0</td>\n      <td>Yes</td>\n      <td>furnished</td>\n    </tr>\n    <tr>\n      <th>4</th>\n      <td>11410000</td>\n      <td>7420.000000</td>\n      <td>3.0</td>\n      <td>1.0</td>\n      <td>2.0</td>\n      <td>NaN</td>\n      <td>Yes</td>\n      <td>Yes</td>\n      <td>NaN</td>\n      <td>Yes</td>\n      <td>2.0</td>\n      <td>No</td>\n      <td>NaN</td>\n    </tr>\n    <tr>\n      <th>...</th>\n      <td>...</td>\n      <td>...</td>\n      <td>...</td>\n      <td>...</td>\n      <td>...</td>\n      <td>...</td>\n      <td>...</td>\n      <td>...</td>\n      <td>...</td>\n      <td>...</td>\n      <td>...</td>\n      <td>...</td>\n      <td>...</td>\n    </tr>\n    <tr>\n      <th>540</th>\n      <td>1820000</td>\n      <td>4658.370000</td>\n      <td>2.0</td>\n      <td>1.0</td>\n      <td>1.0</td>\n      <td>NaN</td>\n      <td>No</td>\n      <td>NaN</td>\n      <td>No</td>\n      <td>No</td>\n      <td>NaN</td>\n      <td>No</td>\n      <td>unfurnished</td>\n    </tr>\n    <tr>\n      <th>541</th>\n      <td>1767150</td>\n      <td>5348.270000</td>\n      <td>3.0</td>\n      <td>1.0</td>\n      <td>1.0</td>\n      <td>No</td>\n      <td>No</td>\n      <td>No</td>\n      <td>No</td>\n      <td>No</td>\n      <td>NaN</td>\n      <td>NaN</td>\n      <td>NaN</td>\n    </tr>\n    <tr>\n      <th>542</th>\n      <td>1750000</td>\n      <td>3620.000000</td>\n      <td>3.0</td>\n      <td>1.0</td>\n      <td>NaN</td>\n      <td>Yes</td>\n      <td>No</td>\n      <td>No</td>\n      <td>NaN</td>\n      <td>NaN</td>\n      <td>NaN</td>\n      <td>No</td>\n      <td>unfurnished</td>\n    </tr>\n    <tr>\n      <th>543</th>\n      <td>1750000</td>\n      <td>5268.134974</td>\n      <td>3.0</td>\n      <td>1.0</td>\n      <td>1.0</td>\n      <td>No</td>\n      <td>No</td>\n      <td>No</td>\n      <td>No</td>\n      <td>No</td>\n      <td>0.0</td>\n      <td>NaN</td>\n      <td>furnished</td>\n    </tr>\n    <tr>\n      <th>544</th>\n      <td>1750000</td>\n      <td>3850.000000</td>\n      <td>3.0</td>\n      <td>1.0</td>\n      <td>2.0</td>\n      <td>NaN</td>\n      <td>NaN</td>\n      <td>NaN</td>\n      <td>NaN</td>\n      <td>No</td>\n      <td>0.0</td>\n      <td>No</td>\n      <td>NaN</td>\n    </tr>\n  </tbody>\n</table>\n<p>545 rows × 13 columns</p>\n</div>"
     },
     "execution_count": 42,
     "metadata": {},
     "output_type": "execute_result"
    }
   ],
   "source": [
    "df"
   ],
   "metadata": {
    "collapsed": false,
    "ExecuteTime": {
     "end_time": "2023-11-07T14:39:06.173679800Z",
     "start_time": "2023-11-07T14:39:04.826834600Z"
    }
   },
   "id": "201e21f84231a88d"
  },
  {
   "cell_type": "code",
   "execution_count": 43,
   "outputs": [
    {
     "data": {
      "text/plain": "mainroad\nYes    296\nNo      55\nName: count, dtype: int64"
     },
     "execution_count": 43,
     "metadata": {},
     "output_type": "execute_result"
    }
   ],
   "source": [
    "df['mainroad'].value_counts()"
   ],
   "metadata": {
    "collapsed": false,
    "ExecuteTime": {
     "end_time": "2023-11-07T14:39:06.173679800Z",
     "start_time": "2023-11-07T14:39:04.840925900Z"
    }
   },
   "id": "9bdebee2b17fea17"
  },
  {
   "cell_type": "code",
   "execution_count": 44,
   "outputs": [],
   "source": [
    "df['mainroad'].fillna(\"yes\",inplace=True)"
   ],
   "metadata": {
    "collapsed": false,
    "ExecuteTime": {
     "end_time": "2023-11-07T14:39:06.173679800Z",
     "start_time": "2023-11-07T14:39:04.846640300Z"
    }
   },
   "id": "13e542a6f1f92e4b"
  },
  {
   "cell_type": "code",
   "execution_count": 45,
   "outputs": [
    {
     "data": {
      "text/plain": "        price         area  bedrooms  bathrooms  stories mainroad guestroom  \\\n0    13300000  7420.000000       4.0        2.0      3.0      yes       NaN   \n1    12250000  8960.000000       6.0        4.0      4.0      Yes        No   \n2    12250000  9960.000000       3.0        2.0      2.0      Yes       NaN   \n3    12215000  7500.000000       3.0        1.0      NaN      yes        No   \n4    11410000  7420.000000       3.0        1.0      2.0      yes       Yes   \n..        ...          ...       ...        ...      ...      ...       ...   \n540   1820000  4658.370000       2.0        1.0      1.0      yes        No   \n541   1767150  5348.270000       3.0        1.0      1.0       No        No   \n542   1750000  3620.000000       3.0        1.0      NaN      Yes        No   \n543   1750000  5268.134974       3.0        1.0      1.0       No        No   \n544   1750000  3850.000000       3.0        1.0      2.0      yes       NaN   \n\n    basement hotwaterheating airconditioning  parking prefarea  \\\n0        NaN             NaN             Yes      2.0      Yes   \n1         No              No             Yes      NaN       No   \n2        Yes              No              No      2.0      Yes   \n3        Yes              No             Yes      3.0      Yes   \n4        Yes             NaN             Yes      2.0       No   \n..       ...             ...             ...      ...      ...   \n540      NaN              No              No      NaN       No   \n541       No              No              No      NaN      NaN   \n542       No             NaN             NaN      NaN       No   \n543       No              No              No      0.0      NaN   \n544      NaN             NaN              No      0.0       No   \n\n    furnishingstatus  \n0          furnished  \n1          furnished  \n2     semi-furnished  \n3          furnished  \n4                NaN  \n..               ...  \n540      unfurnished  \n541              NaN  \n542      unfurnished  \n543        furnished  \n544              NaN  \n\n[545 rows x 13 columns]",
      "text/html": "<div>\n<style scoped>\n    .dataframe tbody tr th:only-of-type {\n        vertical-align: middle;\n    }\n\n    .dataframe tbody tr th {\n        vertical-align: top;\n    }\n\n    .dataframe thead th {\n        text-align: right;\n    }\n</style>\n<table border=\"1\" class=\"dataframe\">\n  <thead>\n    <tr style=\"text-align: right;\">\n      <th></th>\n      <th>price</th>\n      <th>area</th>\n      <th>bedrooms</th>\n      <th>bathrooms</th>\n      <th>stories</th>\n      <th>mainroad</th>\n      <th>guestroom</th>\n      <th>basement</th>\n      <th>hotwaterheating</th>\n      <th>airconditioning</th>\n      <th>parking</th>\n      <th>prefarea</th>\n      <th>furnishingstatus</th>\n    </tr>\n  </thead>\n  <tbody>\n    <tr>\n      <th>0</th>\n      <td>13300000</td>\n      <td>7420.000000</td>\n      <td>4.0</td>\n      <td>2.0</td>\n      <td>3.0</td>\n      <td>yes</td>\n      <td>NaN</td>\n      <td>NaN</td>\n      <td>NaN</td>\n      <td>Yes</td>\n      <td>2.0</td>\n      <td>Yes</td>\n      <td>furnished</td>\n    </tr>\n    <tr>\n      <th>1</th>\n      <td>12250000</td>\n      <td>8960.000000</td>\n      <td>6.0</td>\n      <td>4.0</td>\n      <td>4.0</td>\n      <td>Yes</td>\n      <td>No</td>\n      <td>No</td>\n      <td>No</td>\n      <td>Yes</td>\n      <td>NaN</td>\n      <td>No</td>\n      <td>furnished</td>\n    </tr>\n    <tr>\n      <th>2</th>\n      <td>12250000</td>\n      <td>9960.000000</td>\n      <td>3.0</td>\n      <td>2.0</td>\n      <td>2.0</td>\n      <td>Yes</td>\n      <td>NaN</td>\n      <td>Yes</td>\n      <td>No</td>\n      <td>No</td>\n      <td>2.0</td>\n      <td>Yes</td>\n      <td>semi-furnished</td>\n    </tr>\n    <tr>\n      <th>3</th>\n      <td>12215000</td>\n      <td>7500.000000</td>\n      <td>3.0</td>\n      <td>1.0</td>\n      <td>NaN</td>\n      <td>yes</td>\n      <td>No</td>\n      <td>Yes</td>\n      <td>No</td>\n      <td>Yes</td>\n      <td>3.0</td>\n      <td>Yes</td>\n      <td>furnished</td>\n    </tr>\n    <tr>\n      <th>4</th>\n      <td>11410000</td>\n      <td>7420.000000</td>\n      <td>3.0</td>\n      <td>1.0</td>\n      <td>2.0</td>\n      <td>yes</td>\n      <td>Yes</td>\n      <td>Yes</td>\n      <td>NaN</td>\n      <td>Yes</td>\n      <td>2.0</td>\n      <td>No</td>\n      <td>NaN</td>\n    </tr>\n    <tr>\n      <th>...</th>\n      <td>...</td>\n      <td>...</td>\n      <td>...</td>\n      <td>...</td>\n      <td>...</td>\n      <td>...</td>\n      <td>...</td>\n      <td>...</td>\n      <td>...</td>\n      <td>...</td>\n      <td>...</td>\n      <td>...</td>\n      <td>...</td>\n    </tr>\n    <tr>\n      <th>540</th>\n      <td>1820000</td>\n      <td>4658.370000</td>\n      <td>2.0</td>\n      <td>1.0</td>\n      <td>1.0</td>\n      <td>yes</td>\n      <td>No</td>\n      <td>NaN</td>\n      <td>No</td>\n      <td>No</td>\n      <td>NaN</td>\n      <td>No</td>\n      <td>unfurnished</td>\n    </tr>\n    <tr>\n      <th>541</th>\n      <td>1767150</td>\n      <td>5348.270000</td>\n      <td>3.0</td>\n      <td>1.0</td>\n      <td>1.0</td>\n      <td>No</td>\n      <td>No</td>\n      <td>No</td>\n      <td>No</td>\n      <td>No</td>\n      <td>NaN</td>\n      <td>NaN</td>\n      <td>NaN</td>\n    </tr>\n    <tr>\n      <th>542</th>\n      <td>1750000</td>\n      <td>3620.000000</td>\n      <td>3.0</td>\n      <td>1.0</td>\n      <td>NaN</td>\n      <td>Yes</td>\n      <td>No</td>\n      <td>No</td>\n      <td>NaN</td>\n      <td>NaN</td>\n      <td>NaN</td>\n      <td>No</td>\n      <td>unfurnished</td>\n    </tr>\n    <tr>\n      <th>543</th>\n      <td>1750000</td>\n      <td>5268.134974</td>\n      <td>3.0</td>\n      <td>1.0</td>\n      <td>1.0</td>\n      <td>No</td>\n      <td>No</td>\n      <td>No</td>\n      <td>No</td>\n      <td>No</td>\n      <td>0.0</td>\n      <td>NaN</td>\n      <td>furnished</td>\n    </tr>\n    <tr>\n      <th>544</th>\n      <td>1750000</td>\n      <td>3850.000000</td>\n      <td>3.0</td>\n      <td>1.0</td>\n      <td>2.0</td>\n      <td>yes</td>\n      <td>NaN</td>\n      <td>NaN</td>\n      <td>NaN</td>\n      <td>No</td>\n      <td>0.0</td>\n      <td>No</td>\n      <td>NaN</td>\n    </tr>\n  </tbody>\n</table>\n<p>545 rows × 13 columns</p>\n</div>"
     },
     "execution_count": 45,
     "metadata": {},
     "output_type": "execute_result"
    }
   ],
   "source": [
    "df"
   ],
   "metadata": {
    "collapsed": false,
    "ExecuteTime": {
     "end_time": "2023-11-07T14:39:06.173679800Z",
     "start_time": "2023-11-07T14:39:04.852977200Z"
    }
   },
   "id": "9ebd24bb1efd868c"
  },
  {
   "cell_type": "code",
   "execution_count": 46,
   "outputs": [
    {
     "data": {
      "text/plain": "stories\n2.0    162\n1.0    139\n4.0     30\n3.0     29\nName: count, dtype: int64"
     },
     "execution_count": 46,
     "metadata": {},
     "output_type": "execute_result"
    }
   ],
   "source": [
    "df['stories'].value_counts()"
   ],
   "metadata": {
    "collapsed": false,
    "ExecuteTime": {
     "end_time": "2023-11-07T14:39:06.189443900Z",
     "start_time": "2023-11-07T14:39:04.869892600Z"
    }
   },
   "id": "f154e13bfdc77b96"
  },
  {
   "cell_type": "code",
   "execution_count": 47,
   "outputs": [
    {
     "data": {
      "text/plain": "1.8611111111111112"
     },
     "execution_count": 47,
     "metadata": {},
     "output_type": "execute_result"
    }
   ],
   "source": [
    "df['stories'].mean()"
   ],
   "metadata": {
    "collapsed": false,
    "ExecuteTime": {
     "end_time": "2023-11-07T14:39:06.189443900Z",
     "start_time": "2023-11-07T14:39:04.876758800Z"
    }
   },
   "id": "e55b13ab7a5fda8c"
  },
  {
   "cell_type": "code",
   "execution_count": 48,
   "outputs": [
    {
     "data": {
      "text/plain": "185"
     },
     "execution_count": 48,
     "metadata": {},
     "output_type": "execute_result"
    }
   ],
   "source": [
    "df['stories'].isnull().sum()"
   ],
   "metadata": {
    "collapsed": false,
    "ExecuteTime": {
     "end_time": "2023-11-07T14:39:06.189443900Z",
     "start_time": "2023-11-07T14:39:04.883606Z"
    }
   },
   "id": "b512cd75fa3dd18e"
  },
  {
   "cell_type": "code",
   "execution_count": 49,
   "outputs": [],
   "source": [
    "#most of them have 2 stories so"
   ],
   "metadata": {
    "collapsed": false,
    "ExecuteTime": {
     "end_time": "2023-11-07T14:39:06.189443900Z",
     "start_time": "2023-11-07T14:39:04.892709400Z"
    }
   },
   "id": "f244281f3d1335e"
  },
  {
   "cell_type": "code",
   "execution_count": 50,
   "outputs": [
    {
     "data": {
      "text/plain": "1.1555555555555554"
     },
     "execution_count": 50,
     "metadata": {},
     "output_type": "execute_result"
    }
   ],
   "source": [
    "(df['bedrooms']-df[\"stories\"]).mean()"
   ],
   "metadata": {
    "collapsed": false,
    "ExecuteTime": {
     "end_time": "2023-11-07T14:39:06.189443900Z",
     "start_time": "2023-11-07T14:39:04.894997900Z"
    }
   },
   "id": "18c2a7a654f271c8"
  },
  {
   "cell_type": "code",
   "execution_count": 51,
   "outputs": [],
   "source": [
    "#mostly the stories are 1 less tha the bedrooms"
   ],
   "metadata": {
    "collapsed": false,
    "ExecuteTime": {
     "end_time": "2023-11-07T14:39:06.189443900Z",
     "start_time": "2023-11-07T14:39:04.903411800Z"
    }
   },
   "id": "2896ecadce8c234c"
  },
  {
   "cell_type": "code",
   "execution_count": 52,
   "outputs": [],
   "source": [
    "df.loc[df[\"bedrooms\"]>1,'stories']=df.loc[df[\"bedrooms\"]>1,'stories'].fillna(df['bedrooms']-1)"
   ],
   "metadata": {
    "collapsed": false,
    "ExecuteTime": {
     "end_time": "2023-11-07T14:39:06.189443900Z",
     "start_time": "2023-11-07T14:39:04.908215900Z"
    }
   },
   "id": "b36d20fc6f52a889"
  },
  {
   "cell_type": "code",
   "execution_count": 53,
   "outputs": [
    {
     "data": {
      "text/plain": "        price         area  bedrooms  bathrooms  stories mainroad guestroom  \\\n0    13300000  7420.000000       4.0        2.0      3.0      yes       NaN   \n1    12250000  8960.000000       6.0        4.0      4.0      Yes        No   \n2    12250000  9960.000000       3.0        2.0      2.0      Yes       NaN   \n3    12215000  7500.000000       3.0        1.0      2.0      yes        No   \n4    11410000  7420.000000       3.0        1.0      2.0      yes       Yes   \n..        ...          ...       ...        ...      ...      ...       ...   \n540   1820000  4658.370000       2.0        1.0      1.0      yes        No   \n541   1767150  5348.270000       3.0        1.0      1.0       No        No   \n542   1750000  3620.000000       3.0        1.0      2.0      Yes        No   \n543   1750000  5268.134974       3.0        1.0      1.0       No        No   \n544   1750000  3850.000000       3.0        1.0      2.0      yes       NaN   \n\n    basement hotwaterheating airconditioning  parking prefarea  \\\n0        NaN             NaN             Yes      2.0      Yes   \n1         No              No             Yes      NaN       No   \n2        Yes              No              No      2.0      Yes   \n3        Yes              No             Yes      3.0      Yes   \n4        Yes             NaN             Yes      2.0       No   \n..       ...             ...             ...      ...      ...   \n540      NaN              No              No      NaN       No   \n541       No              No              No      NaN      NaN   \n542       No             NaN             NaN      NaN       No   \n543       No              No              No      0.0      NaN   \n544      NaN             NaN              No      0.0       No   \n\n    furnishingstatus  \n0          furnished  \n1          furnished  \n2     semi-furnished  \n3          furnished  \n4                NaN  \n..               ...  \n540      unfurnished  \n541              NaN  \n542      unfurnished  \n543        furnished  \n544              NaN  \n\n[545 rows x 13 columns]",
      "text/html": "<div>\n<style scoped>\n    .dataframe tbody tr th:only-of-type {\n        vertical-align: middle;\n    }\n\n    .dataframe tbody tr th {\n        vertical-align: top;\n    }\n\n    .dataframe thead th {\n        text-align: right;\n    }\n</style>\n<table border=\"1\" class=\"dataframe\">\n  <thead>\n    <tr style=\"text-align: right;\">\n      <th></th>\n      <th>price</th>\n      <th>area</th>\n      <th>bedrooms</th>\n      <th>bathrooms</th>\n      <th>stories</th>\n      <th>mainroad</th>\n      <th>guestroom</th>\n      <th>basement</th>\n      <th>hotwaterheating</th>\n      <th>airconditioning</th>\n      <th>parking</th>\n      <th>prefarea</th>\n      <th>furnishingstatus</th>\n    </tr>\n  </thead>\n  <tbody>\n    <tr>\n      <th>0</th>\n      <td>13300000</td>\n      <td>7420.000000</td>\n      <td>4.0</td>\n      <td>2.0</td>\n      <td>3.0</td>\n      <td>yes</td>\n      <td>NaN</td>\n      <td>NaN</td>\n      <td>NaN</td>\n      <td>Yes</td>\n      <td>2.0</td>\n      <td>Yes</td>\n      <td>furnished</td>\n    </tr>\n    <tr>\n      <th>1</th>\n      <td>12250000</td>\n      <td>8960.000000</td>\n      <td>6.0</td>\n      <td>4.0</td>\n      <td>4.0</td>\n      <td>Yes</td>\n      <td>No</td>\n      <td>No</td>\n      <td>No</td>\n      <td>Yes</td>\n      <td>NaN</td>\n      <td>No</td>\n      <td>furnished</td>\n    </tr>\n    <tr>\n      <th>2</th>\n      <td>12250000</td>\n      <td>9960.000000</td>\n      <td>3.0</td>\n      <td>2.0</td>\n      <td>2.0</td>\n      <td>Yes</td>\n      <td>NaN</td>\n      <td>Yes</td>\n      <td>No</td>\n      <td>No</td>\n      <td>2.0</td>\n      <td>Yes</td>\n      <td>semi-furnished</td>\n    </tr>\n    <tr>\n      <th>3</th>\n      <td>12215000</td>\n      <td>7500.000000</td>\n      <td>3.0</td>\n      <td>1.0</td>\n      <td>2.0</td>\n      <td>yes</td>\n      <td>No</td>\n      <td>Yes</td>\n      <td>No</td>\n      <td>Yes</td>\n      <td>3.0</td>\n      <td>Yes</td>\n      <td>furnished</td>\n    </tr>\n    <tr>\n      <th>4</th>\n      <td>11410000</td>\n      <td>7420.000000</td>\n      <td>3.0</td>\n      <td>1.0</td>\n      <td>2.0</td>\n      <td>yes</td>\n      <td>Yes</td>\n      <td>Yes</td>\n      <td>NaN</td>\n      <td>Yes</td>\n      <td>2.0</td>\n      <td>No</td>\n      <td>NaN</td>\n    </tr>\n    <tr>\n      <th>...</th>\n      <td>...</td>\n      <td>...</td>\n      <td>...</td>\n      <td>...</td>\n      <td>...</td>\n      <td>...</td>\n      <td>...</td>\n      <td>...</td>\n      <td>...</td>\n      <td>...</td>\n      <td>...</td>\n      <td>...</td>\n      <td>...</td>\n    </tr>\n    <tr>\n      <th>540</th>\n      <td>1820000</td>\n      <td>4658.370000</td>\n      <td>2.0</td>\n      <td>1.0</td>\n      <td>1.0</td>\n      <td>yes</td>\n      <td>No</td>\n      <td>NaN</td>\n      <td>No</td>\n      <td>No</td>\n      <td>NaN</td>\n      <td>No</td>\n      <td>unfurnished</td>\n    </tr>\n    <tr>\n      <th>541</th>\n      <td>1767150</td>\n      <td>5348.270000</td>\n      <td>3.0</td>\n      <td>1.0</td>\n      <td>1.0</td>\n      <td>No</td>\n      <td>No</td>\n      <td>No</td>\n      <td>No</td>\n      <td>No</td>\n      <td>NaN</td>\n      <td>NaN</td>\n      <td>NaN</td>\n    </tr>\n    <tr>\n      <th>542</th>\n      <td>1750000</td>\n      <td>3620.000000</td>\n      <td>3.0</td>\n      <td>1.0</td>\n      <td>2.0</td>\n      <td>Yes</td>\n      <td>No</td>\n      <td>No</td>\n      <td>NaN</td>\n      <td>NaN</td>\n      <td>NaN</td>\n      <td>No</td>\n      <td>unfurnished</td>\n    </tr>\n    <tr>\n      <th>543</th>\n      <td>1750000</td>\n      <td>5268.134974</td>\n      <td>3.0</td>\n      <td>1.0</td>\n      <td>1.0</td>\n      <td>No</td>\n      <td>No</td>\n      <td>No</td>\n      <td>No</td>\n      <td>No</td>\n      <td>0.0</td>\n      <td>NaN</td>\n      <td>furnished</td>\n    </tr>\n    <tr>\n      <th>544</th>\n      <td>1750000</td>\n      <td>3850.000000</td>\n      <td>3.0</td>\n      <td>1.0</td>\n      <td>2.0</td>\n      <td>yes</td>\n      <td>NaN</td>\n      <td>NaN</td>\n      <td>NaN</td>\n      <td>No</td>\n      <td>0.0</td>\n      <td>No</td>\n      <td>NaN</td>\n    </tr>\n  </tbody>\n</table>\n<p>545 rows × 13 columns</p>\n</div>"
     },
     "execution_count": 53,
     "metadata": {},
     "output_type": "execute_result"
    }
   ],
   "source": [
    "df"
   ],
   "metadata": {
    "collapsed": false,
    "ExecuteTime": {
     "end_time": "2023-11-07T14:39:06.189443900Z",
     "start_time": "2023-11-07T14:39:04.926713800Z"
    }
   },
   "id": "1dddccc1f600a930"
  },
  {
   "cell_type": "code",
   "execution_count": 54,
   "outputs": [
    {
     "data": {
      "text/plain": "0"
     },
     "execution_count": 54,
     "metadata": {},
     "output_type": "execute_result"
    }
   ],
   "source": [
    "df['stories'].isnull().sum()"
   ],
   "metadata": {
    "collapsed": false,
    "ExecuteTime": {
     "end_time": "2023-11-07T14:39:06.189443900Z",
     "start_time": "2023-11-07T14:39:04.931881300Z"
    }
   },
   "id": "f679d9c157641e22"
  },
  {
   "cell_type": "code",
   "execution_count": 55,
   "outputs": [
    {
     "data": {
      "text/plain": "210"
     },
     "execution_count": 55,
     "metadata": {},
     "output_type": "execute_result"
    }
   ],
   "source": [
    "df['guestroom'].isnull().sum()"
   ],
   "metadata": {
    "collapsed": false,
    "ExecuteTime": {
     "end_time": "2023-11-07T14:39:06.189443900Z",
     "start_time": "2023-11-07T14:39:04.940175Z"
    }
   },
   "id": "3157a6fd75032dd0"
  },
  {
   "cell_type": "code",
   "execution_count": 56,
   "outputs": [
    {
     "data": {
      "text/plain": "hotwaterheating\nNo     323\nYes     18\nName: count, dtype: int64"
     },
     "execution_count": 56,
     "metadata": {},
     "output_type": "execute_result"
    }
   ],
   "source": [
    "df['hotwaterheating'].value_counts()"
   ],
   "metadata": {
    "collapsed": false,
    "ExecuteTime": {
     "end_time": "2023-11-07T14:39:06.189443900Z",
     "start_time": "2023-11-07T14:39:04.944071900Z"
    }
   },
   "id": "2a0b42131a2bf6a1"
  },
  {
   "cell_type": "code",
   "execution_count": 57,
   "outputs": [],
   "source": [
    "#most hot water is no "
   ],
   "metadata": {
    "collapsed": false,
    "ExecuteTime": {
     "end_time": "2023-11-07T14:39:06.189443900Z",
     "start_time": "2023-11-07T14:39:04.951712300Z"
    }
   },
   "id": "a57c7c50eaf61e42"
  },
  {
   "cell_type": "code",
   "execution_count": 58,
   "outputs": [],
   "source": [
    "df['hotwaterheating'].fillna(\"No\",inplace=True)"
   ],
   "metadata": {
    "collapsed": false,
    "ExecuteTime": {
     "end_time": "2023-11-07T14:39:06.189443900Z",
     "start_time": "2023-11-07T14:39:04.955962700Z"
    }
   },
   "id": "65bdf3d2be4b489f"
  },
  {
   "cell_type": "code",
   "execution_count": 59,
   "outputs": [
    {
     "data": {
      "text/plain": "        price         area  bedrooms  bathrooms  stories mainroad guestroom  \\\n0    13300000  7420.000000       4.0        2.0      3.0      yes       NaN   \n1    12250000  8960.000000       6.0        4.0      4.0      Yes        No   \n2    12250000  9960.000000       3.0        2.0      2.0      Yes       NaN   \n3    12215000  7500.000000       3.0        1.0      2.0      yes        No   \n4    11410000  7420.000000       3.0        1.0      2.0      yes       Yes   \n..        ...          ...       ...        ...      ...      ...       ...   \n540   1820000  4658.370000       2.0        1.0      1.0      yes        No   \n541   1767150  5348.270000       3.0        1.0      1.0       No        No   \n542   1750000  3620.000000       3.0        1.0      2.0      Yes        No   \n543   1750000  5268.134974       3.0        1.0      1.0       No        No   \n544   1750000  3850.000000       3.0        1.0      2.0      yes       NaN   \n\n    basement hotwaterheating airconditioning  parking prefarea  \\\n0        NaN              No             Yes      2.0      Yes   \n1         No              No             Yes      NaN       No   \n2        Yes              No              No      2.0      Yes   \n3        Yes              No             Yes      3.0      Yes   \n4        Yes              No             Yes      2.0       No   \n..       ...             ...             ...      ...      ...   \n540      NaN              No              No      NaN       No   \n541       No              No              No      NaN      NaN   \n542       No              No             NaN      NaN       No   \n543       No              No              No      0.0      NaN   \n544      NaN              No              No      0.0       No   \n\n    furnishingstatus  \n0          furnished  \n1          furnished  \n2     semi-furnished  \n3          furnished  \n4                NaN  \n..               ...  \n540      unfurnished  \n541              NaN  \n542      unfurnished  \n543        furnished  \n544              NaN  \n\n[545 rows x 13 columns]",
      "text/html": "<div>\n<style scoped>\n    .dataframe tbody tr th:only-of-type {\n        vertical-align: middle;\n    }\n\n    .dataframe tbody tr th {\n        vertical-align: top;\n    }\n\n    .dataframe thead th {\n        text-align: right;\n    }\n</style>\n<table border=\"1\" class=\"dataframe\">\n  <thead>\n    <tr style=\"text-align: right;\">\n      <th></th>\n      <th>price</th>\n      <th>area</th>\n      <th>bedrooms</th>\n      <th>bathrooms</th>\n      <th>stories</th>\n      <th>mainroad</th>\n      <th>guestroom</th>\n      <th>basement</th>\n      <th>hotwaterheating</th>\n      <th>airconditioning</th>\n      <th>parking</th>\n      <th>prefarea</th>\n      <th>furnishingstatus</th>\n    </tr>\n  </thead>\n  <tbody>\n    <tr>\n      <th>0</th>\n      <td>13300000</td>\n      <td>7420.000000</td>\n      <td>4.0</td>\n      <td>2.0</td>\n      <td>3.0</td>\n      <td>yes</td>\n      <td>NaN</td>\n      <td>NaN</td>\n      <td>No</td>\n      <td>Yes</td>\n      <td>2.0</td>\n      <td>Yes</td>\n      <td>furnished</td>\n    </tr>\n    <tr>\n      <th>1</th>\n      <td>12250000</td>\n      <td>8960.000000</td>\n      <td>6.0</td>\n      <td>4.0</td>\n      <td>4.0</td>\n      <td>Yes</td>\n      <td>No</td>\n      <td>No</td>\n      <td>No</td>\n      <td>Yes</td>\n      <td>NaN</td>\n      <td>No</td>\n      <td>furnished</td>\n    </tr>\n    <tr>\n      <th>2</th>\n      <td>12250000</td>\n      <td>9960.000000</td>\n      <td>3.0</td>\n      <td>2.0</td>\n      <td>2.0</td>\n      <td>Yes</td>\n      <td>NaN</td>\n      <td>Yes</td>\n      <td>No</td>\n      <td>No</td>\n      <td>2.0</td>\n      <td>Yes</td>\n      <td>semi-furnished</td>\n    </tr>\n    <tr>\n      <th>3</th>\n      <td>12215000</td>\n      <td>7500.000000</td>\n      <td>3.0</td>\n      <td>1.0</td>\n      <td>2.0</td>\n      <td>yes</td>\n      <td>No</td>\n      <td>Yes</td>\n      <td>No</td>\n      <td>Yes</td>\n      <td>3.0</td>\n      <td>Yes</td>\n      <td>furnished</td>\n    </tr>\n    <tr>\n      <th>4</th>\n      <td>11410000</td>\n      <td>7420.000000</td>\n      <td>3.0</td>\n      <td>1.0</td>\n      <td>2.0</td>\n      <td>yes</td>\n      <td>Yes</td>\n      <td>Yes</td>\n      <td>No</td>\n      <td>Yes</td>\n      <td>2.0</td>\n      <td>No</td>\n      <td>NaN</td>\n    </tr>\n    <tr>\n      <th>...</th>\n      <td>...</td>\n      <td>...</td>\n      <td>...</td>\n      <td>...</td>\n      <td>...</td>\n      <td>...</td>\n      <td>...</td>\n      <td>...</td>\n      <td>...</td>\n      <td>...</td>\n      <td>...</td>\n      <td>...</td>\n      <td>...</td>\n    </tr>\n    <tr>\n      <th>540</th>\n      <td>1820000</td>\n      <td>4658.370000</td>\n      <td>2.0</td>\n      <td>1.0</td>\n      <td>1.0</td>\n      <td>yes</td>\n      <td>No</td>\n      <td>NaN</td>\n      <td>No</td>\n      <td>No</td>\n      <td>NaN</td>\n      <td>No</td>\n      <td>unfurnished</td>\n    </tr>\n    <tr>\n      <th>541</th>\n      <td>1767150</td>\n      <td>5348.270000</td>\n      <td>3.0</td>\n      <td>1.0</td>\n      <td>1.0</td>\n      <td>No</td>\n      <td>No</td>\n      <td>No</td>\n      <td>No</td>\n      <td>No</td>\n      <td>NaN</td>\n      <td>NaN</td>\n      <td>NaN</td>\n    </tr>\n    <tr>\n      <th>542</th>\n      <td>1750000</td>\n      <td>3620.000000</td>\n      <td>3.0</td>\n      <td>1.0</td>\n      <td>2.0</td>\n      <td>Yes</td>\n      <td>No</td>\n      <td>No</td>\n      <td>No</td>\n      <td>NaN</td>\n      <td>NaN</td>\n      <td>No</td>\n      <td>unfurnished</td>\n    </tr>\n    <tr>\n      <th>543</th>\n      <td>1750000</td>\n      <td>5268.134974</td>\n      <td>3.0</td>\n      <td>1.0</td>\n      <td>1.0</td>\n      <td>No</td>\n      <td>No</td>\n      <td>No</td>\n      <td>No</td>\n      <td>No</td>\n      <td>0.0</td>\n      <td>NaN</td>\n      <td>furnished</td>\n    </tr>\n    <tr>\n      <th>544</th>\n      <td>1750000</td>\n      <td>3850.000000</td>\n      <td>3.0</td>\n      <td>1.0</td>\n      <td>2.0</td>\n      <td>yes</td>\n      <td>NaN</td>\n      <td>NaN</td>\n      <td>No</td>\n      <td>No</td>\n      <td>0.0</td>\n      <td>No</td>\n      <td>NaN</td>\n    </tr>\n  </tbody>\n</table>\n<p>545 rows × 13 columns</p>\n</div>"
     },
     "execution_count": 59,
     "metadata": {},
     "output_type": "execute_result"
    }
   ],
   "source": [
    "df"
   ],
   "metadata": {
    "collapsed": false,
    "ExecuteTime": {
     "end_time": "2023-11-07T14:39:06.189443900Z",
     "start_time": "2023-11-07T14:39:04.961989100Z"
    }
   },
   "id": "bf0a30d9a0fcd487"
  },
  {
   "cell_type": "code",
   "execution_count": 60,
   "outputs": [
    {
     "data": {
      "text/plain": "parking\n0.0    189\n1.0     73\n2.0     68\n3.0      7\nName: count, dtype: int64"
     },
     "execution_count": 60,
     "metadata": {},
     "output_type": "execute_result"
    }
   ],
   "source": [
    "df['parking'].value_counts()"
   ],
   "metadata": {
    "collapsed": false,
    "ExecuteTime": {
     "end_time": "2023-11-07T14:39:06.189443900Z",
     "start_time": "2023-11-07T14:39:04.977787900Z"
    }
   },
   "id": "71e85b442e91eadb"
  },
  {
   "cell_type": "code",
   "execution_count": 61,
   "outputs": [
    {
     "data": {
      "text/plain": "7      16200.000000\n14      7800.000000\n26      6000.000000\n41      6360.000000\n45      6000.000000\n           ...     \n533     2400.000000\n534     3000.000000\n538     3649.000000\n543     5268.134974\n544     3850.000000\nName: area, Length: 189, dtype: float64"
     },
     "execution_count": 61,
     "metadata": {},
     "output_type": "execute_result"
    }
   ],
   "source": [
    "df.loc[df['parking']==0,\"area\"]"
   ],
   "metadata": {
    "collapsed": false,
    "ExecuteTime": {
     "end_time": "2023-11-07T14:39:06.189443900Z",
     "start_time": "2023-11-07T14:39:04.987412700Z"
    }
   },
   "id": "b97bf6a0bd691301"
  },
  {
   "cell_type": "code",
   "execution_count": 62,
   "outputs": [],
   "source": [
    "s=(df.loc[df['parking']==0,\"area\"]).mean().round(decimals=2)"
   ],
   "metadata": {
    "collapsed": false,
    "ExecuteTime": {
     "end_time": "2023-11-07T14:39:06.189443900Z",
     "start_time": "2023-11-07T14:39:04.993983500Z"
    }
   },
   "id": "d23a690c88e5e2a8"
  },
  {
   "cell_type": "code",
   "execution_count": 63,
   "outputs": [
    {
     "data": {
      "text/plain": "4801.72"
     },
     "execution_count": 63,
     "metadata": {},
     "output_type": "execute_result"
    }
   ],
   "source": [
    "s"
   ],
   "metadata": {
    "collapsed": false,
    "ExecuteTime": {
     "end_time": "2023-11-07T14:39:06.189443900Z",
     "start_time": "2023-11-07T14:39:05.003075900Z"
    }
   },
   "id": "3c6c51a6b2363ff6"
  },
  {
   "cell_type": "code",
   "execution_count": 64,
   "outputs": [],
   "source": [
    "df.loc[df['area']<s,\"parking\"]=df.loc[df['area']<s,\"parking\"].fillna(0)"
   ],
   "metadata": {
    "collapsed": false,
    "ExecuteTime": {
     "end_time": "2023-11-07T14:39:06.189443900Z",
     "start_time": "2023-11-07T14:39:05.006969300Z"
    }
   },
   "id": "33ca07c2ef200c06"
  },
  {
   "cell_type": "code",
   "execution_count": 65,
   "outputs": [
    {
     "data": {
      "text/plain": "        price         area  bedrooms  bathrooms  stories mainroad guestroom  \\\n0    13300000  7420.000000       4.0        2.0      3.0      yes       NaN   \n1    12250000  8960.000000       6.0        4.0      4.0      Yes        No   \n2    12250000  9960.000000       3.0        2.0      2.0      Yes       NaN   \n3    12215000  7500.000000       3.0        1.0      2.0      yes        No   \n4    11410000  7420.000000       3.0        1.0      2.0      yes       Yes   \n..        ...          ...       ...        ...      ...      ...       ...   \n540   1820000  4658.370000       2.0        1.0      1.0      yes        No   \n541   1767150  5348.270000       3.0        1.0      1.0       No        No   \n542   1750000  3620.000000       3.0        1.0      2.0      Yes        No   \n543   1750000  5268.134974       3.0        1.0      1.0       No        No   \n544   1750000  3850.000000       3.0        1.0      2.0      yes       NaN   \n\n    basement hotwaterheating airconditioning  parking prefarea  \\\n0        NaN              No             Yes      2.0      Yes   \n1         No              No             Yes      NaN       No   \n2        Yes              No              No      2.0      Yes   \n3        Yes              No             Yes      3.0      Yes   \n4        Yes              No             Yes      2.0       No   \n..       ...             ...             ...      ...      ...   \n540      NaN              No              No      0.0       No   \n541       No              No              No      NaN      NaN   \n542       No              No             NaN      0.0       No   \n543       No              No              No      0.0      NaN   \n544      NaN              No              No      0.0       No   \n\n    furnishingstatus  \n0          furnished  \n1          furnished  \n2     semi-furnished  \n3          furnished  \n4                NaN  \n..               ...  \n540      unfurnished  \n541              NaN  \n542      unfurnished  \n543        furnished  \n544              NaN  \n\n[545 rows x 13 columns]",
      "text/html": "<div>\n<style scoped>\n    .dataframe tbody tr th:only-of-type {\n        vertical-align: middle;\n    }\n\n    .dataframe tbody tr th {\n        vertical-align: top;\n    }\n\n    .dataframe thead th {\n        text-align: right;\n    }\n</style>\n<table border=\"1\" class=\"dataframe\">\n  <thead>\n    <tr style=\"text-align: right;\">\n      <th></th>\n      <th>price</th>\n      <th>area</th>\n      <th>bedrooms</th>\n      <th>bathrooms</th>\n      <th>stories</th>\n      <th>mainroad</th>\n      <th>guestroom</th>\n      <th>basement</th>\n      <th>hotwaterheating</th>\n      <th>airconditioning</th>\n      <th>parking</th>\n      <th>prefarea</th>\n      <th>furnishingstatus</th>\n    </tr>\n  </thead>\n  <tbody>\n    <tr>\n      <th>0</th>\n      <td>13300000</td>\n      <td>7420.000000</td>\n      <td>4.0</td>\n      <td>2.0</td>\n      <td>3.0</td>\n      <td>yes</td>\n      <td>NaN</td>\n      <td>NaN</td>\n      <td>No</td>\n      <td>Yes</td>\n      <td>2.0</td>\n      <td>Yes</td>\n      <td>furnished</td>\n    </tr>\n    <tr>\n      <th>1</th>\n      <td>12250000</td>\n      <td>8960.000000</td>\n      <td>6.0</td>\n      <td>4.0</td>\n      <td>4.0</td>\n      <td>Yes</td>\n      <td>No</td>\n      <td>No</td>\n      <td>No</td>\n      <td>Yes</td>\n      <td>NaN</td>\n      <td>No</td>\n      <td>furnished</td>\n    </tr>\n    <tr>\n      <th>2</th>\n      <td>12250000</td>\n      <td>9960.000000</td>\n      <td>3.0</td>\n      <td>2.0</td>\n      <td>2.0</td>\n      <td>Yes</td>\n      <td>NaN</td>\n      <td>Yes</td>\n      <td>No</td>\n      <td>No</td>\n      <td>2.0</td>\n      <td>Yes</td>\n      <td>semi-furnished</td>\n    </tr>\n    <tr>\n      <th>3</th>\n      <td>12215000</td>\n      <td>7500.000000</td>\n      <td>3.0</td>\n      <td>1.0</td>\n      <td>2.0</td>\n      <td>yes</td>\n      <td>No</td>\n      <td>Yes</td>\n      <td>No</td>\n      <td>Yes</td>\n      <td>3.0</td>\n      <td>Yes</td>\n      <td>furnished</td>\n    </tr>\n    <tr>\n      <th>4</th>\n      <td>11410000</td>\n      <td>7420.000000</td>\n      <td>3.0</td>\n      <td>1.0</td>\n      <td>2.0</td>\n      <td>yes</td>\n      <td>Yes</td>\n      <td>Yes</td>\n      <td>No</td>\n      <td>Yes</td>\n      <td>2.0</td>\n      <td>No</td>\n      <td>NaN</td>\n    </tr>\n    <tr>\n      <th>...</th>\n      <td>...</td>\n      <td>...</td>\n      <td>...</td>\n      <td>...</td>\n      <td>...</td>\n      <td>...</td>\n      <td>...</td>\n      <td>...</td>\n      <td>...</td>\n      <td>...</td>\n      <td>...</td>\n      <td>...</td>\n      <td>...</td>\n    </tr>\n    <tr>\n      <th>540</th>\n      <td>1820000</td>\n      <td>4658.370000</td>\n      <td>2.0</td>\n      <td>1.0</td>\n      <td>1.0</td>\n      <td>yes</td>\n      <td>No</td>\n      <td>NaN</td>\n      <td>No</td>\n      <td>No</td>\n      <td>0.0</td>\n      <td>No</td>\n      <td>unfurnished</td>\n    </tr>\n    <tr>\n      <th>541</th>\n      <td>1767150</td>\n      <td>5348.270000</td>\n      <td>3.0</td>\n      <td>1.0</td>\n      <td>1.0</td>\n      <td>No</td>\n      <td>No</td>\n      <td>No</td>\n      <td>No</td>\n      <td>No</td>\n      <td>NaN</td>\n      <td>NaN</td>\n      <td>NaN</td>\n    </tr>\n    <tr>\n      <th>542</th>\n      <td>1750000</td>\n      <td>3620.000000</td>\n      <td>3.0</td>\n      <td>1.0</td>\n      <td>2.0</td>\n      <td>Yes</td>\n      <td>No</td>\n      <td>No</td>\n      <td>No</td>\n      <td>NaN</td>\n      <td>0.0</td>\n      <td>No</td>\n      <td>unfurnished</td>\n    </tr>\n    <tr>\n      <th>543</th>\n      <td>1750000</td>\n      <td>5268.134974</td>\n      <td>3.0</td>\n      <td>1.0</td>\n      <td>1.0</td>\n      <td>No</td>\n      <td>No</td>\n      <td>No</td>\n      <td>No</td>\n      <td>No</td>\n      <td>0.0</td>\n      <td>NaN</td>\n      <td>furnished</td>\n    </tr>\n    <tr>\n      <th>544</th>\n      <td>1750000</td>\n      <td>3850.000000</td>\n      <td>3.0</td>\n      <td>1.0</td>\n      <td>2.0</td>\n      <td>yes</td>\n      <td>NaN</td>\n      <td>NaN</td>\n      <td>No</td>\n      <td>No</td>\n      <td>0.0</td>\n      <td>No</td>\n      <td>NaN</td>\n    </tr>\n  </tbody>\n</table>\n<p>545 rows × 13 columns</p>\n</div>"
     },
     "execution_count": 65,
     "metadata": {},
     "output_type": "execute_result"
    }
   ],
   "source": [
    "df"
   ],
   "metadata": {
    "collapsed": false,
    "ExecuteTime": {
     "end_time": "2023-11-07T14:39:06.189443900Z",
     "start_time": "2023-11-07T14:39:05.013301700Z"
    }
   },
   "id": "dc6f65c4b751a74"
  },
  {
   "cell_type": "code",
   "execution_count": 66,
   "outputs": [
    {
     "data": {
      "text/plain": "parking\n0.0    273\n1.0     73\n2.0     68\n3.0      7\nName: count, dtype: int64"
     },
     "execution_count": 66,
     "metadata": {},
     "output_type": "execute_result"
    }
   ],
   "source": [
    "df['parking'].value_counts()"
   ],
   "metadata": {
    "collapsed": false,
    "ExecuteTime": {
     "end_time": "2023-11-07T14:39:06.189443900Z",
     "start_time": "2023-11-07T14:39:05.034683800Z"
    }
   },
   "id": "a4735cf48a01fbf5"
  },
  {
   "cell_type": "code",
   "execution_count": 67,
   "outputs": [],
   "source": [
    "s1=(df.loc[df['parking']==1,\"area\"]).mean().round(decimals=2)"
   ],
   "metadata": {
    "collapsed": false,
    "ExecuteTime": {
     "end_time": "2023-11-07T14:39:06.189443900Z",
     "start_time": "2023-11-07T14:39:05.038212300Z"
    }
   },
   "id": "8c6ef2cd1bd224e4"
  },
  {
   "cell_type": "code",
   "execution_count": 68,
   "outputs": [
    {
     "data": {
      "text/plain": "5467.53"
     },
     "execution_count": 68,
     "metadata": {},
     "output_type": "execute_result"
    }
   ],
   "source": [
    "s1"
   ],
   "metadata": {
    "collapsed": false,
    "ExecuteTime": {
     "end_time": "2023-11-07T14:39:06.189443900Z",
     "start_time": "2023-11-07T14:39:05.043649200Z"
    }
   },
   "id": "4374a0377558ae10"
  },
  {
   "cell_type": "code",
   "execution_count": 69,
   "outputs": [],
   "source": [
    "df.loc[df['area']<s1,\"parking\"]=df.loc[df['area']<s1,\"parking\"].fillna(1)"
   ],
   "metadata": {
    "collapsed": false,
    "ExecuteTime": {
     "end_time": "2023-11-07T14:39:06.189443900Z",
     "start_time": "2023-11-07T14:39:05.050455200Z"
    }
   },
   "id": "b2a9b2e7d4845764"
  },
  {
   "cell_type": "code",
   "execution_count": 70,
   "outputs": [],
   "source": [
    "s2=(df.loc[df['parking']==2,\"area\"]).mean().round(decimals=2)"
   ],
   "metadata": {
    "collapsed": false,
    "ExecuteTime": {
     "end_time": "2023-11-07T14:39:06.189443900Z",
     "start_time": "2023-11-07T14:39:05.056975800Z"
    }
   },
   "id": "fcf060534767a2d9"
  },
  {
   "cell_type": "code",
   "execution_count": 71,
   "outputs": [
    {
     "data": {
      "text/plain": "6112.02"
     },
     "execution_count": 71,
     "metadata": {},
     "output_type": "execute_result"
    }
   ],
   "source": [
    "s2"
   ],
   "metadata": {
    "collapsed": false,
    "ExecuteTime": {
     "end_time": "2023-11-07T14:39:06.189443900Z",
     "start_time": "2023-11-07T14:39:05.065919800Z"
    }
   },
   "id": "49ca6cec96d9ab0a"
  },
  {
   "cell_type": "code",
   "execution_count": 72,
   "outputs": [],
   "source": [
    "df.loc[df['area']<s2,\"parking\"]=df.loc[df['area']<s2,\"parking\"].fillna(2)"
   ],
   "metadata": {
    "collapsed": false,
    "ExecuteTime": {
     "end_time": "2023-11-07T14:39:06.189443900Z",
     "start_time": "2023-11-07T14:39:05.069731800Z"
    }
   },
   "id": "7ff01696a0a34c89"
  },
  {
   "cell_type": "code",
   "execution_count": 73,
   "outputs": [
    {
     "data": {
      "text/plain": "        price         area  bedrooms  bathrooms  stories mainroad guestroom  \\\n0    13300000  7420.000000       4.0        2.0      3.0      yes       NaN   \n1    12250000  8960.000000       6.0        4.0      4.0      Yes        No   \n2    12250000  9960.000000       3.0        2.0      2.0      Yes       NaN   \n3    12215000  7500.000000       3.0        1.0      2.0      yes        No   \n4    11410000  7420.000000       3.0        1.0      2.0      yes       Yes   \n..        ...          ...       ...        ...      ...      ...       ...   \n540   1820000  4658.370000       2.0        1.0      1.0      yes        No   \n541   1767150  5348.270000       3.0        1.0      1.0       No        No   \n542   1750000  3620.000000       3.0        1.0      2.0      Yes        No   \n543   1750000  5268.134974       3.0        1.0      1.0       No        No   \n544   1750000  3850.000000       3.0        1.0      2.0      yes       NaN   \n\n    basement hotwaterheating airconditioning  parking prefarea  \\\n0        NaN              No             Yes      2.0      Yes   \n1         No              No             Yes      NaN       No   \n2        Yes              No              No      2.0      Yes   \n3        Yes              No             Yes      3.0      Yes   \n4        Yes              No             Yes      2.0       No   \n..       ...             ...             ...      ...      ...   \n540      NaN              No              No      0.0       No   \n541       No              No              No      1.0      NaN   \n542       No              No             NaN      0.0       No   \n543       No              No              No      0.0      NaN   \n544      NaN              No              No      0.0       No   \n\n    furnishingstatus  \n0          furnished  \n1          furnished  \n2     semi-furnished  \n3          furnished  \n4                NaN  \n..               ...  \n540      unfurnished  \n541              NaN  \n542      unfurnished  \n543        furnished  \n544              NaN  \n\n[545 rows x 13 columns]",
      "text/html": "<div>\n<style scoped>\n    .dataframe tbody tr th:only-of-type {\n        vertical-align: middle;\n    }\n\n    .dataframe tbody tr th {\n        vertical-align: top;\n    }\n\n    .dataframe thead th {\n        text-align: right;\n    }\n</style>\n<table border=\"1\" class=\"dataframe\">\n  <thead>\n    <tr style=\"text-align: right;\">\n      <th></th>\n      <th>price</th>\n      <th>area</th>\n      <th>bedrooms</th>\n      <th>bathrooms</th>\n      <th>stories</th>\n      <th>mainroad</th>\n      <th>guestroom</th>\n      <th>basement</th>\n      <th>hotwaterheating</th>\n      <th>airconditioning</th>\n      <th>parking</th>\n      <th>prefarea</th>\n      <th>furnishingstatus</th>\n    </tr>\n  </thead>\n  <tbody>\n    <tr>\n      <th>0</th>\n      <td>13300000</td>\n      <td>7420.000000</td>\n      <td>4.0</td>\n      <td>2.0</td>\n      <td>3.0</td>\n      <td>yes</td>\n      <td>NaN</td>\n      <td>NaN</td>\n      <td>No</td>\n      <td>Yes</td>\n      <td>2.0</td>\n      <td>Yes</td>\n      <td>furnished</td>\n    </tr>\n    <tr>\n      <th>1</th>\n      <td>12250000</td>\n      <td>8960.000000</td>\n      <td>6.0</td>\n      <td>4.0</td>\n      <td>4.0</td>\n      <td>Yes</td>\n      <td>No</td>\n      <td>No</td>\n      <td>No</td>\n      <td>Yes</td>\n      <td>NaN</td>\n      <td>No</td>\n      <td>furnished</td>\n    </tr>\n    <tr>\n      <th>2</th>\n      <td>12250000</td>\n      <td>9960.000000</td>\n      <td>3.0</td>\n      <td>2.0</td>\n      <td>2.0</td>\n      <td>Yes</td>\n      <td>NaN</td>\n      <td>Yes</td>\n      <td>No</td>\n      <td>No</td>\n      <td>2.0</td>\n      <td>Yes</td>\n      <td>semi-furnished</td>\n    </tr>\n    <tr>\n      <th>3</th>\n      <td>12215000</td>\n      <td>7500.000000</td>\n      <td>3.0</td>\n      <td>1.0</td>\n      <td>2.0</td>\n      <td>yes</td>\n      <td>No</td>\n      <td>Yes</td>\n      <td>No</td>\n      <td>Yes</td>\n      <td>3.0</td>\n      <td>Yes</td>\n      <td>furnished</td>\n    </tr>\n    <tr>\n      <th>4</th>\n      <td>11410000</td>\n      <td>7420.000000</td>\n      <td>3.0</td>\n      <td>1.0</td>\n      <td>2.0</td>\n      <td>yes</td>\n      <td>Yes</td>\n      <td>Yes</td>\n      <td>No</td>\n      <td>Yes</td>\n      <td>2.0</td>\n      <td>No</td>\n      <td>NaN</td>\n    </tr>\n    <tr>\n      <th>...</th>\n      <td>...</td>\n      <td>...</td>\n      <td>...</td>\n      <td>...</td>\n      <td>...</td>\n      <td>...</td>\n      <td>...</td>\n      <td>...</td>\n      <td>...</td>\n      <td>...</td>\n      <td>...</td>\n      <td>...</td>\n      <td>...</td>\n    </tr>\n    <tr>\n      <th>540</th>\n      <td>1820000</td>\n      <td>4658.370000</td>\n      <td>2.0</td>\n      <td>1.0</td>\n      <td>1.0</td>\n      <td>yes</td>\n      <td>No</td>\n      <td>NaN</td>\n      <td>No</td>\n      <td>No</td>\n      <td>0.0</td>\n      <td>No</td>\n      <td>unfurnished</td>\n    </tr>\n    <tr>\n      <th>541</th>\n      <td>1767150</td>\n      <td>5348.270000</td>\n      <td>3.0</td>\n      <td>1.0</td>\n      <td>1.0</td>\n      <td>No</td>\n      <td>No</td>\n      <td>No</td>\n      <td>No</td>\n      <td>No</td>\n      <td>1.0</td>\n      <td>NaN</td>\n      <td>NaN</td>\n    </tr>\n    <tr>\n      <th>542</th>\n      <td>1750000</td>\n      <td>3620.000000</td>\n      <td>3.0</td>\n      <td>1.0</td>\n      <td>2.0</td>\n      <td>Yes</td>\n      <td>No</td>\n      <td>No</td>\n      <td>No</td>\n      <td>NaN</td>\n      <td>0.0</td>\n      <td>No</td>\n      <td>unfurnished</td>\n    </tr>\n    <tr>\n      <th>543</th>\n      <td>1750000</td>\n      <td>5268.134974</td>\n      <td>3.0</td>\n      <td>1.0</td>\n      <td>1.0</td>\n      <td>No</td>\n      <td>No</td>\n      <td>No</td>\n      <td>No</td>\n      <td>No</td>\n      <td>0.0</td>\n      <td>NaN</td>\n      <td>furnished</td>\n    </tr>\n    <tr>\n      <th>544</th>\n      <td>1750000</td>\n      <td>3850.000000</td>\n      <td>3.0</td>\n      <td>1.0</td>\n      <td>2.0</td>\n      <td>yes</td>\n      <td>NaN</td>\n      <td>NaN</td>\n      <td>No</td>\n      <td>No</td>\n      <td>0.0</td>\n      <td>No</td>\n      <td>NaN</td>\n    </tr>\n  </tbody>\n</table>\n<p>545 rows × 13 columns</p>\n</div>"
     },
     "execution_count": 73,
     "metadata": {},
     "output_type": "execute_result"
    }
   ],
   "source": [
    "df"
   ],
   "metadata": {
    "collapsed": false,
    "ExecuteTime": {
     "end_time": "2023-11-07T14:39:06.189443900Z",
     "start_time": "2023-11-07T14:39:05.075877800Z"
    }
   },
   "id": "a018c5f7edd69fe7"
  },
  {
   "cell_type": "code",
   "execution_count": 74,
   "outputs": [
    {
     "data": {
      "text/plain": "parking\n0.0    273\n1.0    134\n2.0     85\n3.0      7\nName: count, dtype: int64"
     },
     "execution_count": 74,
     "metadata": {},
     "output_type": "execute_result"
    }
   ],
   "source": [
    "df['parking'].value_counts()"
   ],
   "metadata": {
    "collapsed": false,
    "ExecuteTime": {
     "end_time": "2023-11-07T14:39:06.189443900Z",
     "start_time": "2023-11-07T14:39:05.091673600Z"
    }
   },
   "id": "457b12b03741d421"
  },
  {
   "cell_type": "code",
   "execution_count": 75,
   "outputs": [],
   "source": [
    "s3=(df.loc[df['parking']==3,\"area\"]).mean().round(decimals=2)"
   ],
   "metadata": {
    "collapsed": false,
    "ExecuteTime": {
     "end_time": "2023-11-07T14:39:06.189443900Z",
     "start_time": "2023-11-07T14:39:05.100505200Z"
    }
   },
   "id": "8123bcbf655107f7"
  },
  {
   "cell_type": "code",
   "execution_count": 76,
   "outputs": [
    {
     "data": {
      "text/plain": "6247.56"
     },
     "execution_count": 76,
     "metadata": {},
     "output_type": "execute_result"
    }
   ],
   "source": [
    "s3"
   ],
   "metadata": {
    "collapsed": false,
    "ExecuteTime": {
     "end_time": "2023-11-07T14:39:06.189443900Z",
     "start_time": "2023-11-07T14:39:05.107687500Z"
    }
   },
   "id": "8f7fe683cb8ec711"
  },
  {
   "cell_type": "code",
   "execution_count": 77,
   "outputs": [],
   "source": [
    "df.loc[df['area']<s3,\"parking\"]=df.loc[df['area']<s3,\"parking\"].fillna(2)"
   ],
   "metadata": {
    "collapsed": false,
    "ExecuteTime": {
     "end_time": "2023-11-07T14:39:06.189443900Z",
     "start_time": "2023-11-07T14:39:05.114971800Z"
    }
   },
   "id": "b636920f4eeb0b04"
  },
  {
   "cell_type": "code",
   "execution_count": 78,
   "outputs": [],
   "source": [
    "df.loc[df['area']>s3,\"parking\"]=df.loc[df['area']>s3,\"parking\"].fillna(3)"
   ],
   "metadata": {
    "collapsed": false,
    "ExecuteTime": {
     "end_time": "2023-11-07T14:39:06.189443900Z",
     "start_time": "2023-11-07T14:39:05.126872400Z"
    }
   },
   "id": "a8111c0bbe186ce5"
  },
  {
   "cell_type": "code",
   "execution_count": 79,
   "outputs": [
    {
     "data": {
      "text/plain": "        price         area  bedrooms  bathrooms  stories mainroad guestroom  \\\n0    13300000  7420.000000       4.0        2.0      3.0      yes       NaN   \n1    12250000  8960.000000       6.0        4.0      4.0      Yes        No   \n2    12250000  9960.000000       3.0        2.0      2.0      Yes       NaN   \n3    12215000  7500.000000       3.0        1.0      2.0      yes        No   \n4    11410000  7420.000000       3.0        1.0      2.0      yes       Yes   \n..        ...          ...       ...        ...      ...      ...       ...   \n540   1820000  4658.370000       2.0        1.0      1.0      yes        No   \n541   1767150  5348.270000       3.0        1.0      1.0       No        No   \n542   1750000  3620.000000       3.0        1.0      2.0      Yes        No   \n543   1750000  5268.134974       3.0        1.0      1.0       No        No   \n544   1750000  3850.000000       3.0        1.0      2.0      yes       NaN   \n\n    basement hotwaterheating airconditioning  parking prefarea  \\\n0        NaN              No             Yes      2.0      Yes   \n1         No              No             Yes      3.0       No   \n2        Yes              No              No      2.0      Yes   \n3        Yes              No             Yes      3.0      Yes   \n4        Yes              No             Yes      2.0       No   \n..       ...             ...             ...      ...      ...   \n540      NaN              No              No      0.0       No   \n541       No              No              No      1.0      NaN   \n542       No              No             NaN      0.0       No   \n543       No              No              No      0.0      NaN   \n544      NaN              No              No      0.0       No   \n\n    furnishingstatus  \n0          furnished  \n1          furnished  \n2     semi-furnished  \n3          furnished  \n4                NaN  \n..               ...  \n540      unfurnished  \n541              NaN  \n542      unfurnished  \n543        furnished  \n544              NaN  \n\n[545 rows x 13 columns]",
      "text/html": "<div>\n<style scoped>\n    .dataframe tbody tr th:only-of-type {\n        vertical-align: middle;\n    }\n\n    .dataframe tbody tr th {\n        vertical-align: top;\n    }\n\n    .dataframe thead th {\n        text-align: right;\n    }\n</style>\n<table border=\"1\" class=\"dataframe\">\n  <thead>\n    <tr style=\"text-align: right;\">\n      <th></th>\n      <th>price</th>\n      <th>area</th>\n      <th>bedrooms</th>\n      <th>bathrooms</th>\n      <th>stories</th>\n      <th>mainroad</th>\n      <th>guestroom</th>\n      <th>basement</th>\n      <th>hotwaterheating</th>\n      <th>airconditioning</th>\n      <th>parking</th>\n      <th>prefarea</th>\n      <th>furnishingstatus</th>\n    </tr>\n  </thead>\n  <tbody>\n    <tr>\n      <th>0</th>\n      <td>13300000</td>\n      <td>7420.000000</td>\n      <td>4.0</td>\n      <td>2.0</td>\n      <td>3.0</td>\n      <td>yes</td>\n      <td>NaN</td>\n      <td>NaN</td>\n      <td>No</td>\n      <td>Yes</td>\n      <td>2.0</td>\n      <td>Yes</td>\n      <td>furnished</td>\n    </tr>\n    <tr>\n      <th>1</th>\n      <td>12250000</td>\n      <td>8960.000000</td>\n      <td>6.0</td>\n      <td>4.0</td>\n      <td>4.0</td>\n      <td>Yes</td>\n      <td>No</td>\n      <td>No</td>\n      <td>No</td>\n      <td>Yes</td>\n      <td>3.0</td>\n      <td>No</td>\n      <td>furnished</td>\n    </tr>\n    <tr>\n      <th>2</th>\n      <td>12250000</td>\n      <td>9960.000000</td>\n      <td>3.0</td>\n      <td>2.0</td>\n      <td>2.0</td>\n      <td>Yes</td>\n      <td>NaN</td>\n      <td>Yes</td>\n      <td>No</td>\n      <td>No</td>\n      <td>2.0</td>\n      <td>Yes</td>\n      <td>semi-furnished</td>\n    </tr>\n    <tr>\n      <th>3</th>\n      <td>12215000</td>\n      <td>7500.000000</td>\n      <td>3.0</td>\n      <td>1.0</td>\n      <td>2.0</td>\n      <td>yes</td>\n      <td>No</td>\n      <td>Yes</td>\n      <td>No</td>\n      <td>Yes</td>\n      <td>3.0</td>\n      <td>Yes</td>\n      <td>furnished</td>\n    </tr>\n    <tr>\n      <th>4</th>\n      <td>11410000</td>\n      <td>7420.000000</td>\n      <td>3.0</td>\n      <td>1.0</td>\n      <td>2.0</td>\n      <td>yes</td>\n      <td>Yes</td>\n      <td>Yes</td>\n      <td>No</td>\n      <td>Yes</td>\n      <td>2.0</td>\n      <td>No</td>\n      <td>NaN</td>\n    </tr>\n    <tr>\n      <th>...</th>\n      <td>...</td>\n      <td>...</td>\n      <td>...</td>\n      <td>...</td>\n      <td>...</td>\n      <td>...</td>\n      <td>...</td>\n      <td>...</td>\n      <td>...</td>\n      <td>...</td>\n      <td>...</td>\n      <td>...</td>\n      <td>...</td>\n    </tr>\n    <tr>\n      <th>540</th>\n      <td>1820000</td>\n      <td>4658.370000</td>\n      <td>2.0</td>\n      <td>1.0</td>\n      <td>1.0</td>\n      <td>yes</td>\n      <td>No</td>\n      <td>NaN</td>\n      <td>No</td>\n      <td>No</td>\n      <td>0.0</td>\n      <td>No</td>\n      <td>unfurnished</td>\n    </tr>\n    <tr>\n      <th>541</th>\n      <td>1767150</td>\n      <td>5348.270000</td>\n      <td>3.0</td>\n      <td>1.0</td>\n      <td>1.0</td>\n      <td>No</td>\n      <td>No</td>\n      <td>No</td>\n      <td>No</td>\n      <td>No</td>\n      <td>1.0</td>\n      <td>NaN</td>\n      <td>NaN</td>\n    </tr>\n    <tr>\n      <th>542</th>\n      <td>1750000</td>\n      <td>3620.000000</td>\n      <td>3.0</td>\n      <td>1.0</td>\n      <td>2.0</td>\n      <td>Yes</td>\n      <td>No</td>\n      <td>No</td>\n      <td>No</td>\n      <td>NaN</td>\n      <td>0.0</td>\n      <td>No</td>\n      <td>unfurnished</td>\n    </tr>\n    <tr>\n      <th>543</th>\n      <td>1750000</td>\n      <td>5268.134974</td>\n      <td>3.0</td>\n      <td>1.0</td>\n      <td>1.0</td>\n      <td>No</td>\n      <td>No</td>\n      <td>No</td>\n      <td>No</td>\n      <td>No</td>\n      <td>0.0</td>\n      <td>NaN</td>\n      <td>furnished</td>\n    </tr>\n    <tr>\n      <th>544</th>\n      <td>1750000</td>\n      <td>3850.000000</td>\n      <td>3.0</td>\n      <td>1.0</td>\n      <td>2.0</td>\n      <td>yes</td>\n      <td>NaN</td>\n      <td>NaN</td>\n      <td>No</td>\n      <td>No</td>\n      <td>0.0</td>\n      <td>No</td>\n      <td>NaN</td>\n    </tr>\n  </tbody>\n</table>\n<p>545 rows × 13 columns</p>\n</div>"
     },
     "execution_count": 79,
     "metadata": {},
     "output_type": "execute_result"
    }
   ],
   "source": [
    "df"
   ],
   "metadata": {
    "collapsed": false,
    "ExecuteTime": {
     "end_time": "2023-11-07T14:39:06.189443900Z",
     "start_time": "2023-11-07T14:39:05.129885900Z"
    }
   },
   "id": "5a5a3adaccc815ec"
  },
  {
   "cell_type": "code",
   "execution_count": 80,
   "outputs": [
    {
     "data": {
      "text/plain": "3.0332103321033212"
     },
     "execution_count": 80,
     "metadata": {},
     "output_type": "execute_result"
    }
   ],
   "source": [
    "(df.loc[df['guestroom']==\"No\",'bedrooms']).mean()"
   ],
   "metadata": {
    "collapsed": false,
    "ExecuteTime": {
     "end_time": "2023-11-07T14:39:06.189443900Z",
     "start_time": "2023-11-07T14:39:05.146357600Z"
    }
   },
   "id": "8dd7724c5a1c5fbd"
  },
  {
   "cell_type": "code",
   "execution_count": 81,
   "outputs": [],
   "source": [
    "df.loc[df['bedrooms']==3,\"guestroom\"]=df.loc[df['bedrooms']==3,\"guestroom\"].fillna(\"No\")"
   ],
   "metadata": {
    "collapsed": false,
    "ExecuteTime": {
     "end_time": "2023-11-07T14:39:06.189443900Z",
     "start_time": "2023-11-07T14:39:05.154820Z"
    }
   },
   "id": "da58a630ef5f04ec"
  },
  {
   "cell_type": "code",
   "execution_count": 82,
   "outputs": [
    {
     "data": {
      "text/plain": "        price         area  bedrooms  bathrooms  stories mainroad guestroom  \\\n0    13300000  7420.000000       4.0        2.0      3.0      yes       NaN   \n1    12250000  8960.000000       6.0        4.0      4.0      Yes        No   \n2    12250000  9960.000000       3.0        2.0      2.0      Yes        No   \n3    12215000  7500.000000       3.0        1.0      2.0      yes        No   \n4    11410000  7420.000000       3.0        1.0      2.0      yes       Yes   \n..        ...          ...       ...        ...      ...      ...       ...   \n540   1820000  4658.370000       2.0        1.0      1.0      yes        No   \n541   1767150  5348.270000       3.0        1.0      1.0       No        No   \n542   1750000  3620.000000       3.0        1.0      2.0      Yes        No   \n543   1750000  5268.134974       3.0        1.0      1.0       No        No   \n544   1750000  3850.000000       3.0        1.0      2.0      yes        No   \n\n    basement hotwaterheating airconditioning  parking prefarea  \\\n0        NaN              No             Yes      2.0      Yes   \n1         No              No             Yes      3.0       No   \n2        Yes              No              No      2.0      Yes   \n3        Yes              No             Yes      3.0      Yes   \n4        Yes              No             Yes      2.0       No   \n..       ...             ...             ...      ...      ...   \n540      NaN              No              No      0.0       No   \n541       No              No              No      1.0      NaN   \n542       No              No             NaN      0.0       No   \n543       No              No              No      0.0      NaN   \n544      NaN              No              No      0.0       No   \n\n    furnishingstatus  \n0          furnished  \n1          furnished  \n2     semi-furnished  \n3          furnished  \n4                NaN  \n..               ...  \n540      unfurnished  \n541              NaN  \n542      unfurnished  \n543        furnished  \n544              NaN  \n\n[545 rows x 13 columns]",
      "text/html": "<div>\n<style scoped>\n    .dataframe tbody tr th:only-of-type {\n        vertical-align: middle;\n    }\n\n    .dataframe tbody tr th {\n        vertical-align: top;\n    }\n\n    .dataframe thead th {\n        text-align: right;\n    }\n</style>\n<table border=\"1\" class=\"dataframe\">\n  <thead>\n    <tr style=\"text-align: right;\">\n      <th></th>\n      <th>price</th>\n      <th>area</th>\n      <th>bedrooms</th>\n      <th>bathrooms</th>\n      <th>stories</th>\n      <th>mainroad</th>\n      <th>guestroom</th>\n      <th>basement</th>\n      <th>hotwaterheating</th>\n      <th>airconditioning</th>\n      <th>parking</th>\n      <th>prefarea</th>\n      <th>furnishingstatus</th>\n    </tr>\n  </thead>\n  <tbody>\n    <tr>\n      <th>0</th>\n      <td>13300000</td>\n      <td>7420.000000</td>\n      <td>4.0</td>\n      <td>2.0</td>\n      <td>3.0</td>\n      <td>yes</td>\n      <td>NaN</td>\n      <td>NaN</td>\n      <td>No</td>\n      <td>Yes</td>\n      <td>2.0</td>\n      <td>Yes</td>\n      <td>furnished</td>\n    </tr>\n    <tr>\n      <th>1</th>\n      <td>12250000</td>\n      <td>8960.000000</td>\n      <td>6.0</td>\n      <td>4.0</td>\n      <td>4.0</td>\n      <td>Yes</td>\n      <td>No</td>\n      <td>No</td>\n      <td>No</td>\n      <td>Yes</td>\n      <td>3.0</td>\n      <td>No</td>\n      <td>furnished</td>\n    </tr>\n    <tr>\n      <th>2</th>\n      <td>12250000</td>\n      <td>9960.000000</td>\n      <td>3.0</td>\n      <td>2.0</td>\n      <td>2.0</td>\n      <td>Yes</td>\n      <td>No</td>\n      <td>Yes</td>\n      <td>No</td>\n      <td>No</td>\n      <td>2.0</td>\n      <td>Yes</td>\n      <td>semi-furnished</td>\n    </tr>\n    <tr>\n      <th>3</th>\n      <td>12215000</td>\n      <td>7500.000000</td>\n      <td>3.0</td>\n      <td>1.0</td>\n      <td>2.0</td>\n      <td>yes</td>\n      <td>No</td>\n      <td>Yes</td>\n      <td>No</td>\n      <td>Yes</td>\n      <td>3.0</td>\n      <td>Yes</td>\n      <td>furnished</td>\n    </tr>\n    <tr>\n      <th>4</th>\n      <td>11410000</td>\n      <td>7420.000000</td>\n      <td>3.0</td>\n      <td>1.0</td>\n      <td>2.0</td>\n      <td>yes</td>\n      <td>Yes</td>\n      <td>Yes</td>\n      <td>No</td>\n      <td>Yes</td>\n      <td>2.0</td>\n      <td>No</td>\n      <td>NaN</td>\n    </tr>\n    <tr>\n      <th>...</th>\n      <td>...</td>\n      <td>...</td>\n      <td>...</td>\n      <td>...</td>\n      <td>...</td>\n      <td>...</td>\n      <td>...</td>\n      <td>...</td>\n      <td>...</td>\n      <td>...</td>\n      <td>...</td>\n      <td>...</td>\n      <td>...</td>\n    </tr>\n    <tr>\n      <th>540</th>\n      <td>1820000</td>\n      <td>4658.370000</td>\n      <td>2.0</td>\n      <td>1.0</td>\n      <td>1.0</td>\n      <td>yes</td>\n      <td>No</td>\n      <td>NaN</td>\n      <td>No</td>\n      <td>No</td>\n      <td>0.0</td>\n      <td>No</td>\n      <td>unfurnished</td>\n    </tr>\n    <tr>\n      <th>541</th>\n      <td>1767150</td>\n      <td>5348.270000</td>\n      <td>3.0</td>\n      <td>1.0</td>\n      <td>1.0</td>\n      <td>No</td>\n      <td>No</td>\n      <td>No</td>\n      <td>No</td>\n      <td>No</td>\n      <td>1.0</td>\n      <td>NaN</td>\n      <td>NaN</td>\n    </tr>\n    <tr>\n      <th>542</th>\n      <td>1750000</td>\n      <td>3620.000000</td>\n      <td>3.0</td>\n      <td>1.0</td>\n      <td>2.0</td>\n      <td>Yes</td>\n      <td>No</td>\n      <td>No</td>\n      <td>No</td>\n      <td>NaN</td>\n      <td>0.0</td>\n      <td>No</td>\n      <td>unfurnished</td>\n    </tr>\n    <tr>\n      <th>543</th>\n      <td>1750000</td>\n      <td>5268.134974</td>\n      <td>3.0</td>\n      <td>1.0</td>\n      <td>1.0</td>\n      <td>No</td>\n      <td>No</td>\n      <td>No</td>\n      <td>No</td>\n      <td>No</td>\n      <td>0.0</td>\n      <td>NaN</td>\n      <td>furnished</td>\n    </tr>\n    <tr>\n      <th>544</th>\n      <td>1750000</td>\n      <td>3850.000000</td>\n      <td>3.0</td>\n      <td>1.0</td>\n      <td>2.0</td>\n      <td>yes</td>\n      <td>No</td>\n      <td>NaN</td>\n      <td>No</td>\n      <td>No</td>\n      <td>0.0</td>\n      <td>No</td>\n      <td>NaN</td>\n    </tr>\n  </tbody>\n</table>\n<p>545 rows × 13 columns</p>\n</div>"
     },
     "execution_count": 82,
     "metadata": {},
     "output_type": "execute_result"
    }
   ],
   "source": [
    "df"
   ],
   "metadata": {
    "collapsed": false,
    "ExecuteTime": {
     "end_time": "2023-11-07T14:39:06.189443900Z",
     "start_time": "2023-11-07T14:39:05.161071100Z"
    }
   },
   "id": "4e735d209dde92e"
  },
  {
   "cell_type": "code",
   "execution_count": 83,
   "outputs": [
    {
     "data": {
      "text/plain": "guestroom\nNo     407\nYes     64\nName: count, dtype: int64"
     },
     "execution_count": 83,
     "metadata": {},
     "output_type": "execute_result"
    }
   ],
   "source": [
    "df[\"guestroom\"].value_counts()"
   ],
   "metadata": {
    "collapsed": false,
    "ExecuteTime": {
     "end_time": "2023-11-07T14:39:06.189443900Z",
     "start_time": "2023-11-07T14:39:05.177304300Z"
    }
   },
   "id": "283e4fc3dd1adc72"
  },
  {
   "cell_type": "code",
   "execution_count": 84,
   "outputs": [
    {
     "data": {
      "text/plain": "3.171875"
     },
     "execution_count": 84,
     "metadata": {},
     "output_type": "execute_result"
    }
   ],
   "source": [
    "(df.loc[df['guestroom']==\"Yes\",'bedrooms']).mean()"
   ],
   "metadata": {
    "collapsed": false,
    "ExecuteTime": {
     "end_time": "2023-11-07T14:39:06.189443900Z",
     "start_time": "2023-11-07T14:39:05.184401500Z"
    }
   },
   "id": "3ba2ff880867d697"
  },
  {
   "cell_type": "code",
   "execution_count": 85,
   "outputs": [],
   "source": [
    "df.loc[df['bedrooms']>3,\"guestroom\"]=df.loc[df['bedrooms']>3,\"guestroom\"].fillna(\"Yes\")"
   ],
   "metadata": {
    "collapsed": false,
    "ExecuteTime": {
     "end_time": "2023-11-07T14:39:06.189443900Z",
     "start_time": "2023-11-07T14:39:05.192353900Z"
    }
   },
   "id": "280ec9111e959306"
  },
  {
   "cell_type": "code",
   "execution_count": 86,
   "outputs": [
    {
     "data": {
      "text/plain": "44"
     },
     "execution_count": 86,
     "metadata": {},
     "output_type": "execute_result"
    }
   ],
   "source": [
    "df['guestroom'].isnull().sum()"
   ],
   "metadata": {
    "collapsed": false,
    "ExecuteTime": {
     "end_time": "2023-11-07T14:39:06.189443900Z",
     "start_time": "2023-11-07T14:39:05.197845100Z"
    }
   },
   "id": "9b6c7f8ec2d3385a"
  },
  {
   "cell_type": "code",
   "execution_count": 87,
   "outputs": [],
   "source": [
    "df['guestroom'].fillna(\"No\",inplace=True)"
   ],
   "metadata": {
    "collapsed": false,
    "ExecuteTime": {
     "end_time": "2023-11-07T14:39:06.189443900Z",
     "start_time": "2023-11-07T14:39:05.203471900Z"
    }
   },
   "id": "513e42cfb4973c81"
  },
  {
   "cell_type": "code",
   "execution_count": 88,
   "outputs": [
    {
     "data": {
      "text/plain": "        price         area  bedrooms  bathrooms  stories mainroad guestroom  \\\n0    13300000  7420.000000       4.0        2.0      3.0      yes       Yes   \n1    12250000  8960.000000       6.0        4.0      4.0      Yes        No   \n2    12250000  9960.000000       3.0        2.0      2.0      Yes        No   \n3    12215000  7500.000000       3.0        1.0      2.0      yes        No   \n4    11410000  7420.000000       3.0        1.0      2.0      yes       Yes   \n..        ...          ...       ...        ...      ...      ...       ...   \n540   1820000  4658.370000       2.0        1.0      1.0      yes        No   \n541   1767150  5348.270000       3.0        1.0      1.0       No        No   \n542   1750000  3620.000000       3.0        1.0      2.0      Yes        No   \n543   1750000  5268.134974       3.0        1.0      1.0       No        No   \n544   1750000  3850.000000       3.0        1.0      2.0      yes        No   \n\n    basement hotwaterheating airconditioning  parking prefarea  \\\n0        NaN              No             Yes      2.0      Yes   \n1         No              No             Yes      3.0       No   \n2        Yes              No              No      2.0      Yes   \n3        Yes              No             Yes      3.0      Yes   \n4        Yes              No             Yes      2.0       No   \n..       ...             ...             ...      ...      ...   \n540      NaN              No              No      0.0       No   \n541       No              No              No      1.0      NaN   \n542       No              No             NaN      0.0       No   \n543       No              No              No      0.0      NaN   \n544      NaN              No              No      0.0       No   \n\n    furnishingstatus  \n0          furnished  \n1          furnished  \n2     semi-furnished  \n3          furnished  \n4                NaN  \n..               ...  \n540      unfurnished  \n541              NaN  \n542      unfurnished  \n543        furnished  \n544              NaN  \n\n[545 rows x 13 columns]",
      "text/html": "<div>\n<style scoped>\n    .dataframe tbody tr th:only-of-type {\n        vertical-align: middle;\n    }\n\n    .dataframe tbody tr th {\n        vertical-align: top;\n    }\n\n    .dataframe thead th {\n        text-align: right;\n    }\n</style>\n<table border=\"1\" class=\"dataframe\">\n  <thead>\n    <tr style=\"text-align: right;\">\n      <th></th>\n      <th>price</th>\n      <th>area</th>\n      <th>bedrooms</th>\n      <th>bathrooms</th>\n      <th>stories</th>\n      <th>mainroad</th>\n      <th>guestroom</th>\n      <th>basement</th>\n      <th>hotwaterheating</th>\n      <th>airconditioning</th>\n      <th>parking</th>\n      <th>prefarea</th>\n      <th>furnishingstatus</th>\n    </tr>\n  </thead>\n  <tbody>\n    <tr>\n      <th>0</th>\n      <td>13300000</td>\n      <td>7420.000000</td>\n      <td>4.0</td>\n      <td>2.0</td>\n      <td>3.0</td>\n      <td>yes</td>\n      <td>Yes</td>\n      <td>NaN</td>\n      <td>No</td>\n      <td>Yes</td>\n      <td>2.0</td>\n      <td>Yes</td>\n      <td>furnished</td>\n    </tr>\n    <tr>\n      <th>1</th>\n      <td>12250000</td>\n      <td>8960.000000</td>\n      <td>6.0</td>\n      <td>4.0</td>\n      <td>4.0</td>\n      <td>Yes</td>\n      <td>No</td>\n      <td>No</td>\n      <td>No</td>\n      <td>Yes</td>\n      <td>3.0</td>\n      <td>No</td>\n      <td>furnished</td>\n    </tr>\n    <tr>\n      <th>2</th>\n      <td>12250000</td>\n      <td>9960.000000</td>\n      <td>3.0</td>\n      <td>2.0</td>\n      <td>2.0</td>\n      <td>Yes</td>\n      <td>No</td>\n      <td>Yes</td>\n      <td>No</td>\n      <td>No</td>\n      <td>2.0</td>\n      <td>Yes</td>\n      <td>semi-furnished</td>\n    </tr>\n    <tr>\n      <th>3</th>\n      <td>12215000</td>\n      <td>7500.000000</td>\n      <td>3.0</td>\n      <td>1.0</td>\n      <td>2.0</td>\n      <td>yes</td>\n      <td>No</td>\n      <td>Yes</td>\n      <td>No</td>\n      <td>Yes</td>\n      <td>3.0</td>\n      <td>Yes</td>\n      <td>furnished</td>\n    </tr>\n    <tr>\n      <th>4</th>\n      <td>11410000</td>\n      <td>7420.000000</td>\n      <td>3.0</td>\n      <td>1.0</td>\n      <td>2.0</td>\n      <td>yes</td>\n      <td>Yes</td>\n      <td>Yes</td>\n      <td>No</td>\n      <td>Yes</td>\n      <td>2.0</td>\n      <td>No</td>\n      <td>NaN</td>\n    </tr>\n    <tr>\n      <th>...</th>\n      <td>...</td>\n      <td>...</td>\n      <td>...</td>\n      <td>...</td>\n      <td>...</td>\n      <td>...</td>\n      <td>...</td>\n      <td>...</td>\n      <td>...</td>\n      <td>...</td>\n      <td>...</td>\n      <td>...</td>\n      <td>...</td>\n    </tr>\n    <tr>\n      <th>540</th>\n      <td>1820000</td>\n      <td>4658.370000</td>\n      <td>2.0</td>\n      <td>1.0</td>\n      <td>1.0</td>\n      <td>yes</td>\n      <td>No</td>\n      <td>NaN</td>\n      <td>No</td>\n      <td>No</td>\n      <td>0.0</td>\n      <td>No</td>\n      <td>unfurnished</td>\n    </tr>\n    <tr>\n      <th>541</th>\n      <td>1767150</td>\n      <td>5348.270000</td>\n      <td>3.0</td>\n      <td>1.0</td>\n      <td>1.0</td>\n      <td>No</td>\n      <td>No</td>\n      <td>No</td>\n      <td>No</td>\n      <td>No</td>\n      <td>1.0</td>\n      <td>NaN</td>\n      <td>NaN</td>\n    </tr>\n    <tr>\n      <th>542</th>\n      <td>1750000</td>\n      <td>3620.000000</td>\n      <td>3.0</td>\n      <td>1.0</td>\n      <td>2.0</td>\n      <td>Yes</td>\n      <td>No</td>\n      <td>No</td>\n      <td>No</td>\n      <td>NaN</td>\n      <td>0.0</td>\n      <td>No</td>\n      <td>unfurnished</td>\n    </tr>\n    <tr>\n      <th>543</th>\n      <td>1750000</td>\n      <td>5268.134974</td>\n      <td>3.0</td>\n      <td>1.0</td>\n      <td>1.0</td>\n      <td>No</td>\n      <td>No</td>\n      <td>No</td>\n      <td>No</td>\n      <td>No</td>\n      <td>0.0</td>\n      <td>NaN</td>\n      <td>furnished</td>\n    </tr>\n    <tr>\n      <th>544</th>\n      <td>1750000</td>\n      <td>3850.000000</td>\n      <td>3.0</td>\n      <td>1.0</td>\n      <td>2.0</td>\n      <td>yes</td>\n      <td>No</td>\n      <td>NaN</td>\n      <td>No</td>\n      <td>No</td>\n      <td>0.0</td>\n      <td>No</td>\n      <td>NaN</td>\n    </tr>\n  </tbody>\n</table>\n<p>545 rows × 13 columns</p>\n</div>"
     },
     "execution_count": 88,
     "metadata": {},
     "output_type": "execute_result"
    }
   ],
   "source": [
    "df"
   ],
   "metadata": {
    "collapsed": false,
    "ExecuteTime": {
     "end_time": "2023-11-07T14:39:06.189443900Z",
     "start_time": "2023-11-07T14:39:05.208535300Z"
    }
   },
   "id": "6dc034dc8a66b240"
  },
  {
   "cell_type": "code",
   "execution_count": 89,
   "outputs": [
    {
     "data": {
      "text/plain": "basement\nNo     225\nYes    116\nName: count, dtype: int64"
     },
     "execution_count": 89,
     "metadata": {},
     "output_type": "execute_result"
    }
   ],
   "source": [
    "df['basement'].value_counts()"
   ],
   "metadata": {
    "collapsed": false,
    "ExecuteTime": {
     "end_time": "2023-11-07T14:39:06.189443900Z",
     "start_time": "2023-11-07T14:39:05.223483900Z"
    }
   },
   "id": "301b677d55761980"
  },
  {
   "cell_type": "code",
   "execution_count": 90,
   "outputs": [
    {
     "data": {
      "text/plain": "1.9422222222222223"
     },
     "execution_count": 90,
     "metadata": {},
     "output_type": "execute_result"
    }
   ],
   "source": [
    "(df.loc[df['basement']==\"No\",\"stories\"]).mean()"
   ],
   "metadata": {
    "collapsed": false,
    "ExecuteTime": {
     "end_time": "2023-11-07T14:39:06.189443900Z",
     "start_time": "2023-11-07T14:39:05.232690200Z"
    }
   },
   "id": "cdc084d7f9dfbd6"
  },
  {
   "cell_type": "code",
   "execution_count": 97,
   "outputs": [
    {
     "data": {
      "text/plain": "        price         area  bedrooms  bathrooms  stories mainroad guestroom  \\\n0    13300000  7420.000000       4.0        2.0      3.0      yes       Yes   \n1    12250000  8960.000000       6.0        4.0      4.0      Yes        No   \n2    12250000  9960.000000       3.0        2.0      2.0      Yes        No   \n3    12215000  7500.000000       3.0        1.0      2.0      yes        No   \n4    11410000  7420.000000       3.0        1.0      2.0      yes       Yes   \n..        ...          ...       ...        ...      ...      ...       ...   \n540   1820000  4658.370000       2.0        1.0      1.0      yes        No   \n541   1767150  5348.270000       3.0        1.0      1.0       No        No   \n542   1750000  3620.000000       3.0        1.0      2.0      Yes        No   \n543   1750000  5268.134974       3.0        1.0      1.0       No        No   \n544   1750000  3850.000000       3.0        1.0      2.0      yes        No   \n\n    basement hotwaterheating airconditioning  parking prefarea  \\\n0         No              No             Yes      2.0      Yes   \n1         No              No             Yes      3.0       No   \n2        Yes              No              No      2.0      Yes   \n3        Yes              No             Yes      3.0      Yes   \n4        Yes              No             Yes      2.0       No   \n..       ...             ...             ...      ...      ...   \n540      Yes              No              No      0.0       No   \n541       No              No              No      1.0      NaN   \n542       No              No             NaN      0.0       No   \n543       No              No              No      0.0      NaN   \n544      Yes              No              No      0.0       No   \n\n    furnishingstatus  \n0          furnished  \n1          furnished  \n2     semi-furnished  \n3          furnished  \n4                NaN  \n..               ...  \n540      unfurnished  \n541              NaN  \n542      unfurnished  \n543        furnished  \n544              NaN  \n\n[545 rows x 13 columns]",
      "text/html": "<div>\n<style scoped>\n    .dataframe tbody tr th:only-of-type {\n        vertical-align: middle;\n    }\n\n    .dataframe tbody tr th {\n        vertical-align: top;\n    }\n\n    .dataframe thead th {\n        text-align: right;\n    }\n</style>\n<table border=\"1\" class=\"dataframe\">\n  <thead>\n    <tr style=\"text-align: right;\">\n      <th></th>\n      <th>price</th>\n      <th>area</th>\n      <th>bedrooms</th>\n      <th>bathrooms</th>\n      <th>stories</th>\n      <th>mainroad</th>\n      <th>guestroom</th>\n      <th>basement</th>\n      <th>hotwaterheating</th>\n      <th>airconditioning</th>\n      <th>parking</th>\n      <th>prefarea</th>\n      <th>furnishingstatus</th>\n    </tr>\n  </thead>\n  <tbody>\n    <tr>\n      <th>0</th>\n      <td>13300000</td>\n      <td>7420.000000</td>\n      <td>4.0</td>\n      <td>2.0</td>\n      <td>3.0</td>\n      <td>yes</td>\n      <td>Yes</td>\n      <td>No</td>\n      <td>No</td>\n      <td>Yes</td>\n      <td>2.0</td>\n      <td>Yes</td>\n      <td>furnished</td>\n    </tr>\n    <tr>\n      <th>1</th>\n      <td>12250000</td>\n      <td>8960.000000</td>\n      <td>6.0</td>\n      <td>4.0</td>\n      <td>4.0</td>\n      <td>Yes</td>\n      <td>No</td>\n      <td>No</td>\n      <td>No</td>\n      <td>Yes</td>\n      <td>3.0</td>\n      <td>No</td>\n      <td>furnished</td>\n    </tr>\n    <tr>\n      <th>2</th>\n      <td>12250000</td>\n      <td>9960.000000</td>\n      <td>3.0</td>\n      <td>2.0</td>\n      <td>2.0</td>\n      <td>Yes</td>\n      <td>No</td>\n      <td>Yes</td>\n      <td>No</td>\n      <td>No</td>\n      <td>2.0</td>\n      <td>Yes</td>\n      <td>semi-furnished</td>\n    </tr>\n    <tr>\n      <th>3</th>\n      <td>12215000</td>\n      <td>7500.000000</td>\n      <td>3.0</td>\n      <td>1.0</td>\n      <td>2.0</td>\n      <td>yes</td>\n      <td>No</td>\n      <td>Yes</td>\n      <td>No</td>\n      <td>Yes</td>\n      <td>3.0</td>\n      <td>Yes</td>\n      <td>furnished</td>\n    </tr>\n    <tr>\n      <th>4</th>\n      <td>11410000</td>\n      <td>7420.000000</td>\n      <td>3.0</td>\n      <td>1.0</td>\n      <td>2.0</td>\n      <td>yes</td>\n      <td>Yes</td>\n      <td>Yes</td>\n      <td>No</td>\n      <td>Yes</td>\n      <td>2.0</td>\n      <td>No</td>\n      <td>NaN</td>\n    </tr>\n    <tr>\n      <th>...</th>\n      <td>...</td>\n      <td>...</td>\n      <td>...</td>\n      <td>...</td>\n      <td>...</td>\n      <td>...</td>\n      <td>...</td>\n      <td>...</td>\n      <td>...</td>\n      <td>...</td>\n      <td>...</td>\n      <td>...</td>\n      <td>...</td>\n    </tr>\n    <tr>\n      <th>540</th>\n      <td>1820000</td>\n      <td>4658.370000</td>\n      <td>2.0</td>\n      <td>1.0</td>\n      <td>1.0</td>\n      <td>yes</td>\n      <td>No</td>\n      <td>Yes</td>\n      <td>No</td>\n      <td>No</td>\n      <td>0.0</td>\n      <td>No</td>\n      <td>unfurnished</td>\n    </tr>\n    <tr>\n      <th>541</th>\n      <td>1767150</td>\n      <td>5348.270000</td>\n      <td>3.0</td>\n      <td>1.0</td>\n      <td>1.0</td>\n      <td>No</td>\n      <td>No</td>\n      <td>No</td>\n      <td>No</td>\n      <td>No</td>\n      <td>1.0</td>\n      <td>NaN</td>\n      <td>NaN</td>\n    </tr>\n    <tr>\n      <th>542</th>\n      <td>1750000</td>\n      <td>3620.000000</td>\n      <td>3.0</td>\n      <td>1.0</td>\n      <td>2.0</td>\n      <td>Yes</td>\n      <td>No</td>\n      <td>No</td>\n      <td>No</td>\n      <td>NaN</td>\n      <td>0.0</td>\n      <td>No</td>\n      <td>unfurnished</td>\n    </tr>\n    <tr>\n      <th>543</th>\n      <td>1750000</td>\n      <td>5268.134974</td>\n      <td>3.0</td>\n      <td>1.0</td>\n      <td>1.0</td>\n      <td>No</td>\n      <td>No</td>\n      <td>No</td>\n      <td>No</td>\n      <td>No</td>\n      <td>0.0</td>\n      <td>NaN</td>\n      <td>furnished</td>\n    </tr>\n    <tr>\n      <th>544</th>\n      <td>1750000</td>\n      <td>3850.000000</td>\n      <td>3.0</td>\n      <td>1.0</td>\n      <td>2.0</td>\n      <td>yes</td>\n      <td>No</td>\n      <td>Yes</td>\n      <td>No</td>\n      <td>No</td>\n      <td>0.0</td>\n      <td>No</td>\n      <td>NaN</td>\n    </tr>\n  </tbody>\n</table>\n<p>545 rows × 13 columns</p>\n</div>"
     },
     "execution_count": 97,
     "metadata": {},
     "output_type": "execute_result"
    }
   ],
   "source": [
    "df.loc[df['stories']<=2,'basement']=df.loc[df['stories']<=2,'basement'].fillna(\"Yes\")\n",
    "df"
   ],
   "metadata": {
    "collapsed": false,
    "ExecuteTime": {
     "end_time": "2023-11-07T14:41:26.122208400Z",
     "start_time": "2023-11-07T14:41:26.058510100Z"
    }
   },
   "id": "5e77ef83c6e4b65d"
  },
  {
   "cell_type": "code",
   "execution_count": 92,
   "outputs": [
    {
     "data": {
      "text/plain": "2      Yes\n3      Yes\n4      Yes\n5      Yes\n7       No\n      ... \n534     No\n536     No\n537     No\n542     No\n544    Yes\nName: basement, Length: 281, dtype: object"
     },
     "execution_count": 92,
     "metadata": {},
     "output_type": "execute_result"
    }
   ],
   "source": [
    "df.loc[df['stories']==2,\"basement\"]"
   ],
   "metadata": {
    "collapsed": false,
    "ExecuteTime": {
     "end_time": "2023-11-07T14:39:06.189443900Z",
     "start_time": "2023-11-07T14:39:05.257737400Z"
    }
   },
   "id": "cdd16e4e23c36ecd"
  },
  {
   "cell_type": "code",
   "execution_count": 94,
   "outputs": [],
   "source": [
    "df['basement'].fillna(\"No\",inplace=True)"
   ],
   "metadata": {
    "collapsed": false,
    "ExecuteTime": {
     "end_time": "2023-11-07T14:39:58.279121800Z",
     "start_time": "2023-11-07T14:39:58.250400300Z"
    }
   },
   "id": "366a13677234fdfd"
  },
  {
   "cell_type": "code",
   "execution_count": 95,
   "outputs": [
    {
     "data": {
      "text/plain": "        price         area  bedrooms  bathrooms  stories mainroad guestroom  \\\n0    13300000  7420.000000       4.0        2.0      3.0      yes       Yes   \n1    12250000  8960.000000       6.0        4.0      4.0      Yes        No   \n2    12250000  9960.000000       3.0        2.0      2.0      Yes        No   \n3    12215000  7500.000000       3.0        1.0      2.0      yes        No   \n4    11410000  7420.000000       3.0        1.0      2.0      yes       Yes   \n..        ...          ...       ...        ...      ...      ...       ...   \n540   1820000  4658.370000       2.0        1.0      1.0      yes        No   \n541   1767150  5348.270000       3.0        1.0      1.0       No        No   \n542   1750000  3620.000000       3.0        1.0      2.0      Yes        No   \n543   1750000  5268.134974       3.0        1.0      1.0       No        No   \n544   1750000  3850.000000       3.0        1.0      2.0      yes        No   \n\n    basement hotwaterheating airconditioning  parking prefarea  \\\n0         No              No             Yes      2.0      Yes   \n1         No              No             Yes      3.0       No   \n2        Yes              No              No      2.0      Yes   \n3        Yes              No             Yes      3.0      Yes   \n4        Yes              No             Yes      2.0       No   \n..       ...             ...             ...      ...      ...   \n540      Yes              No              No      0.0       No   \n541       No              No              No      1.0      NaN   \n542       No              No             NaN      0.0       No   \n543       No              No              No      0.0      NaN   \n544      Yes              No              No      0.0       No   \n\n    furnishingstatus  \n0          furnished  \n1          furnished  \n2     semi-furnished  \n3          furnished  \n4                NaN  \n..               ...  \n540      unfurnished  \n541              NaN  \n542      unfurnished  \n543        furnished  \n544              NaN  \n\n[545 rows x 13 columns]",
      "text/html": "<div>\n<style scoped>\n    .dataframe tbody tr th:only-of-type {\n        vertical-align: middle;\n    }\n\n    .dataframe tbody tr th {\n        vertical-align: top;\n    }\n\n    .dataframe thead th {\n        text-align: right;\n    }\n</style>\n<table border=\"1\" class=\"dataframe\">\n  <thead>\n    <tr style=\"text-align: right;\">\n      <th></th>\n      <th>price</th>\n      <th>area</th>\n      <th>bedrooms</th>\n      <th>bathrooms</th>\n      <th>stories</th>\n      <th>mainroad</th>\n      <th>guestroom</th>\n      <th>basement</th>\n      <th>hotwaterheating</th>\n      <th>airconditioning</th>\n      <th>parking</th>\n      <th>prefarea</th>\n      <th>furnishingstatus</th>\n    </tr>\n  </thead>\n  <tbody>\n    <tr>\n      <th>0</th>\n      <td>13300000</td>\n      <td>7420.000000</td>\n      <td>4.0</td>\n      <td>2.0</td>\n      <td>3.0</td>\n      <td>yes</td>\n      <td>Yes</td>\n      <td>No</td>\n      <td>No</td>\n      <td>Yes</td>\n      <td>2.0</td>\n      <td>Yes</td>\n      <td>furnished</td>\n    </tr>\n    <tr>\n      <th>1</th>\n      <td>12250000</td>\n      <td>8960.000000</td>\n      <td>6.0</td>\n      <td>4.0</td>\n      <td>4.0</td>\n      <td>Yes</td>\n      <td>No</td>\n      <td>No</td>\n      <td>No</td>\n      <td>Yes</td>\n      <td>3.0</td>\n      <td>No</td>\n      <td>furnished</td>\n    </tr>\n    <tr>\n      <th>2</th>\n      <td>12250000</td>\n      <td>9960.000000</td>\n      <td>3.0</td>\n      <td>2.0</td>\n      <td>2.0</td>\n      <td>Yes</td>\n      <td>No</td>\n      <td>Yes</td>\n      <td>No</td>\n      <td>No</td>\n      <td>2.0</td>\n      <td>Yes</td>\n      <td>semi-furnished</td>\n    </tr>\n    <tr>\n      <th>3</th>\n      <td>12215000</td>\n      <td>7500.000000</td>\n      <td>3.0</td>\n      <td>1.0</td>\n      <td>2.0</td>\n      <td>yes</td>\n      <td>No</td>\n      <td>Yes</td>\n      <td>No</td>\n      <td>Yes</td>\n      <td>3.0</td>\n      <td>Yes</td>\n      <td>furnished</td>\n    </tr>\n    <tr>\n      <th>4</th>\n      <td>11410000</td>\n      <td>7420.000000</td>\n      <td>3.0</td>\n      <td>1.0</td>\n      <td>2.0</td>\n      <td>yes</td>\n      <td>Yes</td>\n      <td>Yes</td>\n      <td>No</td>\n      <td>Yes</td>\n      <td>2.0</td>\n      <td>No</td>\n      <td>NaN</td>\n    </tr>\n    <tr>\n      <th>...</th>\n      <td>...</td>\n      <td>...</td>\n      <td>...</td>\n      <td>...</td>\n      <td>...</td>\n      <td>...</td>\n      <td>...</td>\n      <td>...</td>\n      <td>...</td>\n      <td>...</td>\n      <td>...</td>\n      <td>...</td>\n      <td>...</td>\n    </tr>\n    <tr>\n      <th>540</th>\n      <td>1820000</td>\n      <td>4658.370000</td>\n      <td>2.0</td>\n      <td>1.0</td>\n      <td>1.0</td>\n      <td>yes</td>\n      <td>No</td>\n      <td>Yes</td>\n      <td>No</td>\n      <td>No</td>\n      <td>0.0</td>\n      <td>No</td>\n      <td>unfurnished</td>\n    </tr>\n    <tr>\n      <th>541</th>\n      <td>1767150</td>\n      <td>5348.270000</td>\n      <td>3.0</td>\n      <td>1.0</td>\n      <td>1.0</td>\n      <td>No</td>\n      <td>No</td>\n      <td>No</td>\n      <td>No</td>\n      <td>No</td>\n      <td>1.0</td>\n      <td>NaN</td>\n      <td>NaN</td>\n    </tr>\n    <tr>\n      <th>542</th>\n      <td>1750000</td>\n      <td>3620.000000</td>\n      <td>3.0</td>\n      <td>1.0</td>\n      <td>2.0</td>\n      <td>Yes</td>\n      <td>No</td>\n      <td>No</td>\n      <td>No</td>\n      <td>NaN</td>\n      <td>0.0</td>\n      <td>No</td>\n      <td>unfurnished</td>\n    </tr>\n    <tr>\n      <th>543</th>\n      <td>1750000</td>\n      <td>5268.134974</td>\n      <td>3.0</td>\n      <td>1.0</td>\n      <td>1.0</td>\n      <td>No</td>\n      <td>No</td>\n      <td>No</td>\n      <td>No</td>\n      <td>No</td>\n      <td>0.0</td>\n      <td>NaN</td>\n      <td>furnished</td>\n    </tr>\n    <tr>\n      <th>544</th>\n      <td>1750000</td>\n      <td>3850.000000</td>\n      <td>3.0</td>\n      <td>1.0</td>\n      <td>2.0</td>\n      <td>yes</td>\n      <td>No</td>\n      <td>Yes</td>\n      <td>No</td>\n      <td>No</td>\n      <td>0.0</td>\n      <td>No</td>\n      <td>NaN</td>\n    </tr>\n  </tbody>\n</table>\n<p>545 rows × 13 columns</p>\n</div>"
     },
     "execution_count": 95,
     "metadata": {},
     "output_type": "execute_result"
    }
   ],
   "source": [
    "df"
   ],
   "metadata": {
    "collapsed": false,
    "ExecuteTime": {
     "end_time": "2023-11-07T14:40:00.237412900Z",
     "start_time": "2023-11-07T14:40:00.158603400Z"
    }
   },
   "id": "fb5fb8fd20838454"
  },
  {
   "cell_type": "code",
   "execution_count": 96,
   "outputs": [
    {
     "data": {
      "text/plain": "0"
     },
     "execution_count": 96,
     "metadata": {},
     "output_type": "execute_result"
    }
   ],
   "source": [
    "df['price'].isnull().sum()"
   ],
   "metadata": {
    "collapsed": false,
    "ExecuteTime": {
     "end_time": "2023-11-07T14:40:25.577854200Z",
     "start_time": "2023-11-07T14:40:25.368758Z"
    }
   },
   "id": "7637881609c10fcb"
  },
  {
   "cell_type": "code",
   "execution_count": 98,
   "outputs": [
    {
     "name": "stdout",
     "output_type": "stream",
     "text": [
      "<class 'pandas.core.frame.DataFrame'>\n",
      "RangeIndex: 545 entries, 0 to 544\n",
      "Data columns (total 13 columns):\n",
      " #   Column            Non-Null Count  Dtype  \n",
      "---  ------            --------------  -----  \n",
      " 0   price             545 non-null    int64  \n",
      " 1   area              545 non-null    float64\n",
      " 2   bedrooms          545 non-null    float64\n",
      " 3   bathrooms         545 non-null    float64\n",
      " 4   stories           545 non-null    float64\n",
      " 5   mainroad          545 non-null    object \n",
      " 6   guestroom         545 non-null    object \n",
      " 7   basement          545 non-null    object \n",
      " 8   hotwaterheating   545 non-null    object \n",
      " 9   airconditioning   357 non-null    object \n",
      " 10  parking           545 non-null    float64\n",
      " 11  prefarea          357 non-null    object \n",
      " 12  furnishingstatus  358 non-null    object \n",
      "dtypes: float64(5), int64(1), object(7)\n",
      "memory usage: 55.5+ KB\n"
     ]
    }
   ],
   "source": [
    "df.info()"
   ],
   "metadata": {
    "collapsed": false,
    "ExecuteTime": {
     "end_time": "2023-11-07T14:41:49.225480700Z",
     "start_time": "2023-11-07T14:41:49.099529500Z"
    }
   },
   "id": "97307e14d769b73"
  },
  {
   "cell_type": "code",
   "execution_count": 103,
   "outputs": [],
   "source": [
    "a=(df.loc[df['airconditioning']==\"No\",'price']).mean()"
   ],
   "metadata": {
    "collapsed": false,
    "ExecuteTime": {
     "end_time": "2023-11-07T14:44:54.648570800Z",
     "start_time": "2023-11-07T14:44:54.599601600Z"
    }
   },
   "id": "e98ee4af85913290"
  },
  {
   "cell_type": "code",
   "execution_count": 104,
   "outputs": [],
   "source": [
    "b=(df.loc[df['airconditioning']==\"Yes\",'price']).mean()"
   ],
   "metadata": {
    "collapsed": false,
    "ExecuteTime": {
     "end_time": "2023-11-07T14:44:55.349384500Z",
     "start_time": "2023-11-07T14:44:55.302139800Z"
    }
   },
   "id": "496eb37b08fd6560"
  },
  {
   "cell_type": "code",
   "execution_count": 106,
   "outputs": [],
   "source": [
    "k=(a+b)/2"
   ],
   "metadata": {
    "collapsed": false,
    "ExecuteTime": {
     "end_time": "2023-11-07T14:45:03.654554500Z",
     "start_time": "2023-11-07T14:45:03.621126800Z"
    }
   },
   "id": "7560a6bd63c54100"
  },
  {
   "cell_type": "code",
   "execution_count": 107,
   "outputs": [
    {
     "data": {
      "text/plain": "        price         area  bedrooms  bathrooms  stories mainroad guestroom  \\\n0    13300000  7420.000000       4.0        2.0      3.0      yes       Yes   \n1    12250000  8960.000000       6.0        4.0      4.0      Yes        No   \n2    12250000  9960.000000       3.0        2.0      2.0      Yes        No   \n3    12215000  7500.000000       3.0        1.0      2.0      yes        No   \n4    11410000  7420.000000       3.0        1.0      2.0      yes       Yes   \n..        ...          ...       ...        ...      ...      ...       ...   \n540   1820000  4658.370000       2.0        1.0      1.0      yes        No   \n541   1767150  5348.270000       3.0        1.0      1.0       No        No   \n542   1750000  3620.000000       3.0        1.0      2.0      Yes        No   \n543   1750000  5268.134974       3.0        1.0      1.0       No        No   \n544   1750000  3850.000000       3.0        1.0      2.0      yes        No   \n\n    basement hotwaterheating airconditioning  parking prefarea  \\\n0         No              No             Yes      2.0      Yes   \n1         No              No             Yes      3.0       No   \n2        Yes              No              No      2.0      Yes   \n3        Yes              No             Yes      3.0      Yes   \n4        Yes              No             Yes      2.0       No   \n..       ...             ...             ...      ...      ...   \n540      Yes              No              No      0.0       No   \n541       No              No              No      1.0      NaN   \n542       No              No              No      0.0       No   \n543       No              No              No      0.0      NaN   \n544      Yes              No              No      0.0       No   \n\n    furnishingstatus  \n0          furnished  \n1          furnished  \n2     semi-furnished  \n3          furnished  \n4                NaN  \n..               ...  \n540      unfurnished  \n541              NaN  \n542      unfurnished  \n543        furnished  \n544              NaN  \n\n[545 rows x 13 columns]",
      "text/html": "<div>\n<style scoped>\n    .dataframe tbody tr th:only-of-type {\n        vertical-align: middle;\n    }\n\n    .dataframe tbody tr th {\n        vertical-align: top;\n    }\n\n    .dataframe thead th {\n        text-align: right;\n    }\n</style>\n<table border=\"1\" class=\"dataframe\">\n  <thead>\n    <tr style=\"text-align: right;\">\n      <th></th>\n      <th>price</th>\n      <th>area</th>\n      <th>bedrooms</th>\n      <th>bathrooms</th>\n      <th>stories</th>\n      <th>mainroad</th>\n      <th>guestroom</th>\n      <th>basement</th>\n      <th>hotwaterheating</th>\n      <th>airconditioning</th>\n      <th>parking</th>\n      <th>prefarea</th>\n      <th>furnishingstatus</th>\n    </tr>\n  </thead>\n  <tbody>\n    <tr>\n      <th>0</th>\n      <td>13300000</td>\n      <td>7420.000000</td>\n      <td>4.0</td>\n      <td>2.0</td>\n      <td>3.0</td>\n      <td>yes</td>\n      <td>Yes</td>\n      <td>No</td>\n      <td>No</td>\n      <td>Yes</td>\n      <td>2.0</td>\n      <td>Yes</td>\n      <td>furnished</td>\n    </tr>\n    <tr>\n      <th>1</th>\n      <td>12250000</td>\n      <td>8960.000000</td>\n      <td>6.0</td>\n      <td>4.0</td>\n      <td>4.0</td>\n      <td>Yes</td>\n      <td>No</td>\n      <td>No</td>\n      <td>No</td>\n      <td>Yes</td>\n      <td>3.0</td>\n      <td>No</td>\n      <td>furnished</td>\n    </tr>\n    <tr>\n      <th>2</th>\n      <td>12250000</td>\n      <td>9960.000000</td>\n      <td>3.0</td>\n      <td>2.0</td>\n      <td>2.0</td>\n      <td>Yes</td>\n      <td>No</td>\n      <td>Yes</td>\n      <td>No</td>\n      <td>No</td>\n      <td>2.0</td>\n      <td>Yes</td>\n      <td>semi-furnished</td>\n    </tr>\n    <tr>\n      <th>3</th>\n      <td>12215000</td>\n      <td>7500.000000</td>\n      <td>3.0</td>\n      <td>1.0</td>\n      <td>2.0</td>\n      <td>yes</td>\n      <td>No</td>\n      <td>Yes</td>\n      <td>No</td>\n      <td>Yes</td>\n      <td>3.0</td>\n      <td>Yes</td>\n      <td>furnished</td>\n    </tr>\n    <tr>\n      <th>4</th>\n      <td>11410000</td>\n      <td>7420.000000</td>\n      <td>3.0</td>\n      <td>1.0</td>\n      <td>2.0</td>\n      <td>yes</td>\n      <td>Yes</td>\n      <td>Yes</td>\n      <td>No</td>\n      <td>Yes</td>\n      <td>2.0</td>\n      <td>No</td>\n      <td>NaN</td>\n    </tr>\n    <tr>\n      <th>...</th>\n      <td>...</td>\n      <td>...</td>\n      <td>...</td>\n      <td>...</td>\n      <td>...</td>\n      <td>...</td>\n      <td>...</td>\n      <td>...</td>\n      <td>...</td>\n      <td>...</td>\n      <td>...</td>\n      <td>...</td>\n      <td>...</td>\n    </tr>\n    <tr>\n      <th>540</th>\n      <td>1820000</td>\n      <td>4658.370000</td>\n      <td>2.0</td>\n      <td>1.0</td>\n      <td>1.0</td>\n      <td>yes</td>\n      <td>No</td>\n      <td>Yes</td>\n      <td>No</td>\n      <td>No</td>\n      <td>0.0</td>\n      <td>No</td>\n      <td>unfurnished</td>\n    </tr>\n    <tr>\n      <th>541</th>\n      <td>1767150</td>\n      <td>5348.270000</td>\n      <td>3.0</td>\n      <td>1.0</td>\n      <td>1.0</td>\n      <td>No</td>\n      <td>No</td>\n      <td>No</td>\n      <td>No</td>\n      <td>No</td>\n      <td>1.0</td>\n      <td>NaN</td>\n      <td>NaN</td>\n    </tr>\n    <tr>\n      <th>542</th>\n      <td>1750000</td>\n      <td>3620.000000</td>\n      <td>3.0</td>\n      <td>1.0</td>\n      <td>2.0</td>\n      <td>Yes</td>\n      <td>No</td>\n      <td>No</td>\n      <td>No</td>\n      <td>No</td>\n      <td>0.0</td>\n      <td>No</td>\n      <td>unfurnished</td>\n    </tr>\n    <tr>\n      <th>543</th>\n      <td>1750000</td>\n      <td>5268.134974</td>\n      <td>3.0</td>\n      <td>1.0</td>\n      <td>1.0</td>\n      <td>No</td>\n      <td>No</td>\n      <td>No</td>\n      <td>No</td>\n      <td>No</td>\n      <td>0.0</td>\n      <td>NaN</td>\n      <td>furnished</td>\n    </tr>\n    <tr>\n      <th>544</th>\n      <td>1750000</td>\n      <td>3850.000000</td>\n      <td>3.0</td>\n      <td>1.0</td>\n      <td>2.0</td>\n      <td>yes</td>\n      <td>No</td>\n      <td>Yes</td>\n      <td>No</td>\n      <td>No</td>\n      <td>0.0</td>\n      <td>No</td>\n      <td>NaN</td>\n    </tr>\n  </tbody>\n</table>\n<p>545 rows × 13 columns</p>\n</div>"
     },
     "execution_count": 107,
     "metadata": {},
     "output_type": "execute_result"
    }
   ],
   "source": [
    "df.loc[df['price']<=k,\"airconditioning\"]=df.loc[df['price']<=k,\"airconditioning\"].fillna(\"No\")\n",
    "df"
   ],
   "metadata": {
    "collapsed": false,
    "ExecuteTime": {
     "end_time": "2023-11-07T14:46:32.392520Z",
     "start_time": "2023-11-07T14:46:32.282504700Z"
    }
   },
   "id": "29fa5059934c2a99"
  },
  {
   "cell_type": "code",
   "execution_count": 108,
   "outputs": [
    {
     "data": {
      "text/plain": "        price         area  bedrooms  bathrooms  stories mainroad guestroom  \\\n0    13300000  7420.000000       4.0        2.0      3.0      yes       Yes   \n1    12250000  8960.000000       6.0        4.0      4.0      Yes        No   \n2    12250000  9960.000000       3.0        2.0      2.0      Yes        No   \n3    12215000  7500.000000       3.0        1.0      2.0      yes        No   \n4    11410000  7420.000000       3.0        1.0      2.0      yes       Yes   \n..        ...          ...       ...        ...      ...      ...       ...   \n540   1820000  4658.370000       2.0        1.0      1.0      yes        No   \n541   1767150  5348.270000       3.0        1.0      1.0       No        No   \n542   1750000  3620.000000       3.0        1.0      2.0      Yes        No   \n543   1750000  5268.134974       3.0        1.0      1.0       No        No   \n544   1750000  3850.000000       3.0        1.0      2.0      yes        No   \n\n    basement hotwaterheating airconditioning  parking prefarea  \\\n0         No              No             Yes      2.0      Yes   \n1         No              No             Yes      3.0       No   \n2        Yes              No              No      2.0      Yes   \n3        Yes              No             Yes      3.0      Yes   \n4        Yes              No             Yes      2.0       No   \n..       ...             ...             ...      ...      ...   \n540      Yes              No              No      0.0       No   \n541       No              No              No      1.0      NaN   \n542       No              No              No      0.0       No   \n543       No              No              No      0.0      NaN   \n544      Yes              No              No      0.0       No   \n\n    furnishingstatus  \n0          furnished  \n1          furnished  \n2     semi-furnished  \n3          furnished  \n4                NaN  \n..               ...  \n540      unfurnished  \n541              NaN  \n542      unfurnished  \n543        furnished  \n544              NaN  \n\n[545 rows x 13 columns]",
      "text/html": "<div>\n<style scoped>\n    .dataframe tbody tr th:only-of-type {\n        vertical-align: middle;\n    }\n\n    .dataframe tbody tr th {\n        vertical-align: top;\n    }\n\n    .dataframe thead th {\n        text-align: right;\n    }\n</style>\n<table border=\"1\" class=\"dataframe\">\n  <thead>\n    <tr style=\"text-align: right;\">\n      <th></th>\n      <th>price</th>\n      <th>area</th>\n      <th>bedrooms</th>\n      <th>bathrooms</th>\n      <th>stories</th>\n      <th>mainroad</th>\n      <th>guestroom</th>\n      <th>basement</th>\n      <th>hotwaterheating</th>\n      <th>airconditioning</th>\n      <th>parking</th>\n      <th>prefarea</th>\n      <th>furnishingstatus</th>\n    </tr>\n  </thead>\n  <tbody>\n    <tr>\n      <th>0</th>\n      <td>13300000</td>\n      <td>7420.000000</td>\n      <td>4.0</td>\n      <td>2.0</td>\n      <td>3.0</td>\n      <td>yes</td>\n      <td>Yes</td>\n      <td>No</td>\n      <td>No</td>\n      <td>Yes</td>\n      <td>2.0</td>\n      <td>Yes</td>\n      <td>furnished</td>\n    </tr>\n    <tr>\n      <th>1</th>\n      <td>12250000</td>\n      <td>8960.000000</td>\n      <td>6.0</td>\n      <td>4.0</td>\n      <td>4.0</td>\n      <td>Yes</td>\n      <td>No</td>\n      <td>No</td>\n      <td>No</td>\n      <td>Yes</td>\n      <td>3.0</td>\n      <td>No</td>\n      <td>furnished</td>\n    </tr>\n    <tr>\n      <th>2</th>\n      <td>12250000</td>\n      <td>9960.000000</td>\n      <td>3.0</td>\n      <td>2.0</td>\n      <td>2.0</td>\n      <td>Yes</td>\n      <td>No</td>\n      <td>Yes</td>\n      <td>No</td>\n      <td>No</td>\n      <td>2.0</td>\n      <td>Yes</td>\n      <td>semi-furnished</td>\n    </tr>\n    <tr>\n      <th>3</th>\n      <td>12215000</td>\n      <td>7500.000000</td>\n      <td>3.0</td>\n      <td>1.0</td>\n      <td>2.0</td>\n      <td>yes</td>\n      <td>No</td>\n      <td>Yes</td>\n      <td>No</td>\n      <td>Yes</td>\n      <td>3.0</td>\n      <td>Yes</td>\n      <td>furnished</td>\n    </tr>\n    <tr>\n      <th>4</th>\n      <td>11410000</td>\n      <td>7420.000000</td>\n      <td>3.0</td>\n      <td>1.0</td>\n      <td>2.0</td>\n      <td>yes</td>\n      <td>Yes</td>\n      <td>Yes</td>\n      <td>No</td>\n      <td>Yes</td>\n      <td>2.0</td>\n      <td>No</td>\n      <td>NaN</td>\n    </tr>\n    <tr>\n      <th>...</th>\n      <td>...</td>\n      <td>...</td>\n      <td>...</td>\n      <td>...</td>\n      <td>...</td>\n      <td>...</td>\n      <td>...</td>\n      <td>...</td>\n      <td>...</td>\n      <td>...</td>\n      <td>...</td>\n      <td>...</td>\n      <td>...</td>\n    </tr>\n    <tr>\n      <th>540</th>\n      <td>1820000</td>\n      <td>4658.370000</td>\n      <td>2.0</td>\n      <td>1.0</td>\n      <td>1.0</td>\n      <td>yes</td>\n      <td>No</td>\n      <td>Yes</td>\n      <td>No</td>\n      <td>No</td>\n      <td>0.0</td>\n      <td>No</td>\n      <td>unfurnished</td>\n    </tr>\n    <tr>\n      <th>541</th>\n      <td>1767150</td>\n      <td>5348.270000</td>\n      <td>3.0</td>\n      <td>1.0</td>\n      <td>1.0</td>\n      <td>No</td>\n      <td>No</td>\n      <td>No</td>\n      <td>No</td>\n      <td>No</td>\n      <td>1.0</td>\n      <td>NaN</td>\n      <td>NaN</td>\n    </tr>\n    <tr>\n      <th>542</th>\n      <td>1750000</td>\n      <td>3620.000000</td>\n      <td>3.0</td>\n      <td>1.0</td>\n      <td>2.0</td>\n      <td>Yes</td>\n      <td>No</td>\n      <td>No</td>\n      <td>No</td>\n      <td>No</td>\n      <td>0.0</td>\n      <td>No</td>\n      <td>unfurnished</td>\n    </tr>\n    <tr>\n      <th>543</th>\n      <td>1750000</td>\n      <td>5268.134974</td>\n      <td>3.0</td>\n      <td>1.0</td>\n      <td>1.0</td>\n      <td>No</td>\n      <td>No</td>\n      <td>No</td>\n      <td>No</td>\n      <td>No</td>\n      <td>0.0</td>\n      <td>NaN</td>\n      <td>furnished</td>\n    </tr>\n    <tr>\n      <th>544</th>\n      <td>1750000</td>\n      <td>3850.000000</td>\n      <td>3.0</td>\n      <td>1.0</td>\n      <td>2.0</td>\n      <td>yes</td>\n      <td>No</td>\n      <td>Yes</td>\n      <td>No</td>\n      <td>No</td>\n      <td>0.0</td>\n      <td>No</td>\n      <td>NaN</td>\n    </tr>\n  </tbody>\n</table>\n<p>545 rows × 13 columns</p>\n</div>"
     },
     "execution_count": 108,
     "metadata": {},
     "output_type": "execute_result"
    }
   ],
   "source": [
    "df.loc[df['price']>k,\"airconditioning\"]=df.loc[df['price']>k,\"airconditioning\"].fillna(\"Yes\")\n",
    "df"
   ],
   "metadata": {
    "collapsed": false,
    "ExecuteTime": {
     "end_time": "2023-11-07T14:47:09.510664500Z",
     "start_time": "2023-11-07T14:47:09.414394300Z"
    }
   },
   "id": "586f2e3a6f1d06be"
  },
  {
   "cell_type": "code",
   "execution_count": 112,
   "outputs": [],
   "source": [
    "x=(df.loc[df['prefarea']==\"No\",'price']).mean()"
   ],
   "metadata": {
    "collapsed": false,
    "ExecuteTime": {
     "end_time": "2023-11-07T14:48:54.224312900Z",
     "start_time": "2023-11-07T14:48:54.167725900Z"
    }
   },
   "id": "ec7edf343390455"
  },
  {
   "cell_type": "code",
   "execution_count": 113,
   "outputs": [],
   "source": [
    "y=(df.loc[df[\"prefarea\"]==\"Yes\",'price']).mean()"
   ],
   "metadata": {
    "collapsed": false,
    "ExecuteTime": {
     "end_time": "2023-11-07T14:48:54.618695700Z",
     "start_time": "2023-11-07T14:48:54.571272100Z"
    }
   },
   "id": "7b31699dc30805b2"
  },
  {
   "cell_type": "code",
   "execution_count": 114,
   "outputs": [],
   "source": [
    "l=(x+y)/2"
   ],
   "metadata": {
    "collapsed": false,
    "ExecuteTime": {
     "end_time": "2023-11-07T14:48:55.211381Z",
     "start_time": "2023-11-07T14:48:55.186666300Z"
    }
   },
   "id": "a4ff7e1432367cd1"
  },
  {
   "cell_type": "code",
   "execution_count": 115,
   "outputs": [
    {
     "data": {
      "text/plain": "        price         area  bedrooms  bathrooms  stories mainroad guestroom  \\\n0    13300000  7420.000000       4.0        2.0      3.0      yes       Yes   \n1    12250000  8960.000000       6.0        4.0      4.0      Yes        No   \n2    12250000  9960.000000       3.0        2.0      2.0      Yes        No   \n3    12215000  7500.000000       3.0        1.0      2.0      yes        No   \n4    11410000  7420.000000       3.0        1.0      2.0      yes       Yes   \n..        ...          ...       ...        ...      ...      ...       ...   \n540   1820000  4658.370000       2.0        1.0      1.0      yes        No   \n541   1767150  5348.270000       3.0        1.0      1.0       No        No   \n542   1750000  3620.000000       3.0        1.0      2.0      Yes        No   \n543   1750000  5268.134974       3.0        1.0      1.0       No        No   \n544   1750000  3850.000000       3.0        1.0      2.0      yes        No   \n\n    basement hotwaterheating airconditioning  parking prefarea  \\\n0         No              No             Yes      2.0      Yes   \n1         No              No             Yes      3.0       No   \n2        Yes              No              No      2.0      Yes   \n3        Yes              No             Yes      3.0      Yes   \n4        Yes              No             Yes      2.0       No   \n..       ...             ...             ...      ...      ...   \n540      Yes              No              No      0.0       No   \n541       No              No              No      1.0       No   \n542       No              No              No      0.0       No   \n543       No              No              No      0.0       No   \n544      Yes              No              No      0.0       No   \n\n    furnishingstatus  \n0          furnished  \n1          furnished  \n2     semi-furnished  \n3          furnished  \n4                NaN  \n..               ...  \n540      unfurnished  \n541              NaN  \n542      unfurnished  \n543        furnished  \n544              NaN  \n\n[545 rows x 13 columns]",
      "text/html": "<div>\n<style scoped>\n    .dataframe tbody tr th:only-of-type {\n        vertical-align: middle;\n    }\n\n    .dataframe tbody tr th {\n        vertical-align: top;\n    }\n\n    .dataframe thead th {\n        text-align: right;\n    }\n</style>\n<table border=\"1\" class=\"dataframe\">\n  <thead>\n    <tr style=\"text-align: right;\">\n      <th></th>\n      <th>price</th>\n      <th>area</th>\n      <th>bedrooms</th>\n      <th>bathrooms</th>\n      <th>stories</th>\n      <th>mainroad</th>\n      <th>guestroom</th>\n      <th>basement</th>\n      <th>hotwaterheating</th>\n      <th>airconditioning</th>\n      <th>parking</th>\n      <th>prefarea</th>\n      <th>furnishingstatus</th>\n    </tr>\n  </thead>\n  <tbody>\n    <tr>\n      <th>0</th>\n      <td>13300000</td>\n      <td>7420.000000</td>\n      <td>4.0</td>\n      <td>2.0</td>\n      <td>3.0</td>\n      <td>yes</td>\n      <td>Yes</td>\n      <td>No</td>\n      <td>No</td>\n      <td>Yes</td>\n      <td>2.0</td>\n      <td>Yes</td>\n      <td>furnished</td>\n    </tr>\n    <tr>\n      <th>1</th>\n      <td>12250000</td>\n      <td>8960.000000</td>\n      <td>6.0</td>\n      <td>4.0</td>\n      <td>4.0</td>\n      <td>Yes</td>\n      <td>No</td>\n      <td>No</td>\n      <td>No</td>\n      <td>Yes</td>\n      <td>3.0</td>\n      <td>No</td>\n      <td>furnished</td>\n    </tr>\n    <tr>\n      <th>2</th>\n      <td>12250000</td>\n      <td>9960.000000</td>\n      <td>3.0</td>\n      <td>2.0</td>\n      <td>2.0</td>\n      <td>Yes</td>\n      <td>No</td>\n      <td>Yes</td>\n      <td>No</td>\n      <td>No</td>\n      <td>2.0</td>\n      <td>Yes</td>\n      <td>semi-furnished</td>\n    </tr>\n    <tr>\n      <th>3</th>\n      <td>12215000</td>\n      <td>7500.000000</td>\n      <td>3.0</td>\n      <td>1.0</td>\n      <td>2.0</td>\n      <td>yes</td>\n      <td>No</td>\n      <td>Yes</td>\n      <td>No</td>\n      <td>Yes</td>\n      <td>3.0</td>\n      <td>Yes</td>\n      <td>furnished</td>\n    </tr>\n    <tr>\n      <th>4</th>\n      <td>11410000</td>\n      <td>7420.000000</td>\n      <td>3.0</td>\n      <td>1.0</td>\n      <td>2.0</td>\n      <td>yes</td>\n      <td>Yes</td>\n      <td>Yes</td>\n      <td>No</td>\n      <td>Yes</td>\n      <td>2.0</td>\n      <td>No</td>\n      <td>NaN</td>\n    </tr>\n    <tr>\n      <th>...</th>\n      <td>...</td>\n      <td>...</td>\n      <td>...</td>\n      <td>...</td>\n      <td>...</td>\n      <td>...</td>\n      <td>...</td>\n      <td>...</td>\n      <td>...</td>\n      <td>...</td>\n      <td>...</td>\n      <td>...</td>\n      <td>...</td>\n    </tr>\n    <tr>\n      <th>540</th>\n      <td>1820000</td>\n      <td>4658.370000</td>\n      <td>2.0</td>\n      <td>1.0</td>\n      <td>1.0</td>\n      <td>yes</td>\n      <td>No</td>\n      <td>Yes</td>\n      <td>No</td>\n      <td>No</td>\n      <td>0.0</td>\n      <td>No</td>\n      <td>unfurnished</td>\n    </tr>\n    <tr>\n      <th>541</th>\n      <td>1767150</td>\n      <td>5348.270000</td>\n      <td>3.0</td>\n      <td>1.0</td>\n      <td>1.0</td>\n      <td>No</td>\n      <td>No</td>\n      <td>No</td>\n      <td>No</td>\n      <td>No</td>\n      <td>1.0</td>\n      <td>No</td>\n      <td>NaN</td>\n    </tr>\n    <tr>\n      <th>542</th>\n      <td>1750000</td>\n      <td>3620.000000</td>\n      <td>3.0</td>\n      <td>1.0</td>\n      <td>2.0</td>\n      <td>Yes</td>\n      <td>No</td>\n      <td>No</td>\n      <td>No</td>\n      <td>No</td>\n      <td>0.0</td>\n      <td>No</td>\n      <td>unfurnished</td>\n    </tr>\n    <tr>\n      <th>543</th>\n      <td>1750000</td>\n      <td>5268.134974</td>\n      <td>3.0</td>\n      <td>1.0</td>\n      <td>1.0</td>\n      <td>No</td>\n      <td>No</td>\n      <td>No</td>\n      <td>No</td>\n      <td>No</td>\n      <td>0.0</td>\n      <td>No</td>\n      <td>furnished</td>\n    </tr>\n    <tr>\n      <th>544</th>\n      <td>1750000</td>\n      <td>3850.000000</td>\n      <td>3.0</td>\n      <td>1.0</td>\n      <td>2.0</td>\n      <td>yes</td>\n      <td>No</td>\n      <td>Yes</td>\n      <td>No</td>\n      <td>No</td>\n      <td>0.0</td>\n      <td>No</td>\n      <td>NaN</td>\n    </tr>\n  </tbody>\n</table>\n<p>545 rows × 13 columns</p>\n</div>"
     },
     "execution_count": 115,
     "metadata": {},
     "output_type": "execute_result"
    }
   ],
   "source": [
    "df.loc[df['price']<=l,\"prefarea\"]=df.loc[df['price']<=k,\"prefarea\"].fillna(\"No\")\n",
    "df"
   ],
   "metadata": {
    "collapsed": false,
    "ExecuteTime": {
     "end_time": "2023-11-07T14:49:58.683313700Z",
     "start_time": "2023-11-07T14:49:58.526429700Z"
    }
   },
   "id": "e74599fe978ede5c"
  },
  {
   "cell_type": "code",
   "execution_count": 116,
   "outputs": [],
   "source": [
    "df['prefarea'].fillna(\"Yes\",inplace=True)"
   ],
   "metadata": {
    "collapsed": false,
    "ExecuteTime": {
     "end_time": "2023-11-07T14:50:22.753100100Z",
     "start_time": "2023-11-07T14:50:22.595970900Z"
    }
   },
   "id": "b1a00ad8c1b1bcf0"
  },
  {
   "cell_type": "code",
   "execution_count": 117,
   "outputs": [
    {
     "data": {
      "text/plain": "        price         area  bedrooms  bathrooms  stories mainroad guestroom  \\\n0    13300000  7420.000000       4.0        2.0      3.0      yes       Yes   \n1    12250000  8960.000000       6.0        4.0      4.0      Yes        No   \n2    12250000  9960.000000       3.0        2.0      2.0      Yes        No   \n3    12215000  7500.000000       3.0        1.0      2.0      yes        No   \n4    11410000  7420.000000       3.0        1.0      2.0      yes       Yes   \n..        ...          ...       ...        ...      ...      ...       ...   \n540   1820000  4658.370000       2.0        1.0      1.0      yes        No   \n541   1767150  5348.270000       3.0        1.0      1.0       No        No   \n542   1750000  3620.000000       3.0        1.0      2.0      Yes        No   \n543   1750000  5268.134974       3.0        1.0      1.0       No        No   \n544   1750000  3850.000000       3.0        1.0      2.0      yes        No   \n\n    basement hotwaterheating airconditioning  parking prefarea  \\\n0         No              No             Yes      2.0      Yes   \n1         No              No             Yes      3.0       No   \n2        Yes              No              No      2.0      Yes   \n3        Yes              No             Yes      3.0      Yes   \n4        Yes              No             Yes      2.0       No   \n..       ...             ...             ...      ...      ...   \n540      Yes              No              No      0.0       No   \n541       No              No              No      1.0       No   \n542       No              No              No      0.0       No   \n543       No              No              No      0.0       No   \n544      Yes              No              No      0.0       No   \n\n    furnishingstatus  \n0          furnished  \n1          furnished  \n2     semi-furnished  \n3          furnished  \n4                NaN  \n..               ...  \n540      unfurnished  \n541              NaN  \n542      unfurnished  \n543        furnished  \n544              NaN  \n\n[545 rows x 13 columns]",
      "text/html": "<div>\n<style scoped>\n    .dataframe tbody tr th:only-of-type {\n        vertical-align: middle;\n    }\n\n    .dataframe tbody tr th {\n        vertical-align: top;\n    }\n\n    .dataframe thead th {\n        text-align: right;\n    }\n</style>\n<table border=\"1\" class=\"dataframe\">\n  <thead>\n    <tr style=\"text-align: right;\">\n      <th></th>\n      <th>price</th>\n      <th>area</th>\n      <th>bedrooms</th>\n      <th>bathrooms</th>\n      <th>stories</th>\n      <th>mainroad</th>\n      <th>guestroom</th>\n      <th>basement</th>\n      <th>hotwaterheating</th>\n      <th>airconditioning</th>\n      <th>parking</th>\n      <th>prefarea</th>\n      <th>furnishingstatus</th>\n    </tr>\n  </thead>\n  <tbody>\n    <tr>\n      <th>0</th>\n      <td>13300000</td>\n      <td>7420.000000</td>\n      <td>4.0</td>\n      <td>2.0</td>\n      <td>3.0</td>\n      <td>yes</td>\n      <td>Yes</td>\n      <td>No</td>\n      <td>No</td>\n      <td>Yes</td>\n      <td>2.0</td>\n      <td>Yes</td>\n      <td>furnished</td>\n    </tr>\n    <tr>\n      <th>1</th>\n      <td>12250000</td>\n      <td>8960.000000</td>\n      <td>6.0</td>\n      <td>4.0</td>\n      <td>4.0</td>\n      <td>Yes</td>\n      <td>No</td>\n      <td>No</td>\n      <td>No</td>\n      <td>Yes</td>\n      <td>3.0</td>\n      <td>No</td>\n      <td>furnished</td>\n    </tr>\n    <tr>\n      <th>2</th>\n      <td>12250000</td>\n      <td>9960.000000</td>\n      <td>3.0</td>\n      <td>2.0</td>\n      <td>2.0</td>\n      <td>Yes</td>\n      <td>No</td>\n      <td>Yes</td>\n      <td>No</td>\n      <td>No</td>\n      <td>2.0</td>\n      <td>Yes</td>\n      <td>semi-furnished</td>\n    </tr>\n    <tr>\n      <th>3</th>\n      <td>12215000</td>\n      <td>7500.000000</td>\n      <td>3.0</td>\n      <td>1.0</td>\n      <td>2.0</td>\n      <td>yes</td>\n      <td>No</td>\n      <td>Yes</td>\n      <td>No</td>\n      <td>Yes</td>\n      <td>3.0</td>\n      <td>Yes</td>\n      <td>furnished</td>\n    </tr>\n    <tr>\n      <th>4</th>\n      <td>11410000</td>\n      <td>7420.000000</td>\n      <td>3.0</td>\n      <td>1.0</td>\n      <td>2.0</td>\n      <td>yes</td>\n      <td>Yes</td>\n      <td>Yes</td>\n      <td>No</td>\n      <td>Yes</td>\n      <td>2.0</td>\n      <td>No</td>\n      <td>NaN</td>\n    </tr>\n    <tr>\n      <th>...</th>\n      <td>...</td>\n      <td>...</td>\n      <td>...</td>\n      <td>...</td>\n      <td>...</td>\n      <td>...</td>\n      <td>...</td>\n      <td>...</td>\n      <td>...</td>\n      <td>...</td>\n      <td>...</td>\n      <td>...</td>\n      <td>...</td>\n    </tr>\n    <tr>\n      <th>540</th>\n      <td>1820000</td>\n      <td>4658.370000</td>\n      <td>2.0</td>\n      <td>1.0</td>\n      <td>1.0</td>\n      <td>yes</td>\n      <td>No</td>\n      <td>Yes</td>\n      <td>No</td>\n      <td>No</td>\n      <td>0.0</td>\n      <td>No</td>\n      <td>unfurnished</td>\n    </tr>\n    <tr>\n      <th>541</th>\n      <td>1767150</td>\n      <td>5348.270000</td>\n      <td>3.0</td>\n      <td>1.0</td>\n      <td>1.0</td>\n      <td>No</td>\n      <td>No</td>\n      <td>No</td>\n      <td>No</td>\n      <td>No</td>\n      <td>1.0</td>\n      <td>No</td>\n      <td>NaN</td>\n    </tr>\n    <tr>\n      <th>542</th>\n      <td>1750000</td>\n      <td>3620.000000</td>\n      <td>3.0</td>\n      <td>1.0</td>\n      <td>2.0</td>\n      <td>Yes</td>\n      <td>No</td>\n      <td>No</td>\n      <td>No</td>\n      <td>No</td>\n      <td>0.0</td>\n      <td>No</td>\n      <td>unfurnished</td>\n    </tr>\n    <tr>\n      <th>543</th>\n      <td>1750000</td>\n      <td>5268.134974</td>\n      <td>3.0</td>\n      <td>1.0</td>\n      <td>1.0</td>\n      <td>No</td>\n      <td>No</td>\n      <td>No</td>\n      <td>No</td>\n      <td>No</td>\n      <td>0.0</td>\n      <td>No</td>\n      <td>furnished</td>\n    </tr>\n    <tr>\n      <th>544</th>\n      <td>1750000</td>\n      <td>3850.000000</td>\n      <td>3.0</td>\n      <td>1.0</td>\n      <td>2.0</td>\n      <td>yes</td>\n      <td>No</td>\n      <td>Yes</td>\n      <td>No</td>\n      <td>No</td>\n      <td>0.0</td>\n      <td>No</td>\n      <td>NaN</td>\n    </tr>\n  </tbody>\n</table>\n<p>545 rows × 13 columns</p>\n</div>"
     },
     "execution_count": 117,
     "metadata": {},
     "output_type": "execute_result"
    }
   ],
   "source": [
    "df"
   ],
   "metadata": {
    "collapsed": false,
    "ExecuteTime": {
     "end_time": "2023-11-07T14:50:24.764754300Z",
     "start_time": "2023-11-07T14:50:24.654571Z"
    }
   },
   "id": "e294cfdf71ffbee9"
  },
  {
   "cell_type": "code",
   "execution_count": 122,
   "outputs": [],
   "source": [
    "a1=(df.loc[df['furnishingstatus']==\"furnished\",'price']).mean()"
   ],
   "metadata": {
    "collapsed": false,
    "ExecuteTime": {
     "end_time": "2023-11-07T14:51:57.701612800Z",
     "start_time": "2023-11-07T14:51:57.595635300Z"
    }
   },
   "id": "b8d93f2588af0c6"
  },
  {
   "cell_type": "code",
   "execution_count": 123,
   "outputs": [],
   "source": [
    "b1=(df.loc[df['furnishingstatus']==\"semi-furnished\",'price']).mean()"
   ],
   "metadata": {
    "collapsed": false,
    "ExecuteTime": {
     "end_time": "2023-11-07T14:52:01.069250100Z",
     "start_time": "2023-11-07T14:52:01.011161400Z"
    }
   },
   "id": "973f6174992364b9"
  },
  {
   "cell_type": "code",
   "execution_count": 124,
   "outputs": [],
   "source": [
    "c1=(df.loc[df['furnishingstatus']==\"unfurnished\",'price']).mean()"
   ],
   "metadata": {
    "collapsed": false,
    "ExecuteTime": {
     "end_time": "2023-11-07T14:52:04.558220700Z",
     "start_time": "2023-11-07T14:52:04.527924200Z"
    }
   },
   "id": "d7071c7f1c11b1cb"
  },
  {
   "cell_type": "code",
   "execution_count": 125,
   "outputs": [],
   "source": [
    "am1=(a1+b1)/2"
   ],
   "metadata": {
    "collapsed": false,
    "ExecuteTime": {
     "end_time": "2023-11-07T14:52:35.051931800Z",
     "start_time": "2023-11-07T14:52:34.961309500Z"
    }
   },
   "id": "b10534509307417"
  },
  {
   "cell_type": "code",
   "execution_count": 126,
   "outputs": [],
   "source": [
    "am2=(b1+c1)/2"
   ],
   "metadata": {
    "collapsed": false,
    "ExecuteTime": {
     "end_time": "2023-11-07T14:52:48.761476800Z",
     "start_time": "2023-11-07T14:52:48.686440100Z"
    }
   },
   "id": "2d1f4c08d5de2a5a"
  },
  {
   "cell_type": "code",
   "execution_count": 128,
   "outputs": [
    {
     "data": {
      "text/plain": "        price         area  bedrooms  bathrooms  stories mainroad guestroom  \\\n0    13300000  7420.000000       4.0        2.0      3.0      yes       Yes   \n1    12250000  8960.000000       6.0        4.0      4.0      Yes        No   \n2    12250000  9960.000000       3.0        2.0      2.0      Yes        No   \n3    12215000  7500.000000       3.0        1.0      2.0      yes        No   \n4    11410000  7420.000000       3.0        1.0      2.0      yes       Yes   \n..        ...          ...       ...        ...      ...      ...       ...   \n540   1820000  4658.370000       2.0        1.0      1.0      yes        No   \n541   1767150  5348.270000       3.0        1.0      1.0       No        No   \n542   1750000  3620.000000       3.0        1.0      2.0      Yes        No   \n543   1750000  5268.134974       3.0        1.0      1.0       No        No   \n544   1750000  3850.000000       3.0        1.0      2.0      yes        No   \n\n    basement hotwaterheating airconditioning  parking prefarea  \\\n0         No              No             Yes      2.0      Yes   \n1         No              No             Yes      3.0       No   \n2        Yes              No              No      2.0      Yes   \n3        Yes              No             Yes      3.0      Yes   \n4        Yes              No             Yes      2.0       No   \n..       ...             ...             ...      ...      ...   \n540      Yes              No              No      0.0       No   \n541       No              No              No      1.0       No   \n542       No              No              No      0.0       No   \n543       No              No              No      0.0       No   \n544      Yes              No              No      0.0       No   \n\n    furnishingstatus  \n0          furnished  \n1          furnished  \n2     semi-furnished  \n3          furnished  \n4                NaN  \n..               ...  \n540      unfurnished  \n541      unfurnished  \n542      unfurnished  \n543        furnished  \n544      unfurnished  \n\n[545 rows x 13 columns]",
      "text/html": "<div>\n<style scoped>\n    .dataframe tbody tr th:only-of-type {\n        vertical-align: middle;\n    }\n\n    .dataframe tbody tr th {\n        vertical-align: top;\n    }\n\n    .dataframe thead th {\n        text-align: right;\n    }\n</style>\n<table border=\"1\" class=\"dataframe\">\n  <thead>\n    <tr style=\"text-align: right;\">\n      <th></th>\n      <th>price</th>\n      <th>area</th>\n      <th>bedrooms</th>\n      <th>bathrooms</th>\n      <th>stories</th>\n      <th>mainroad</th>\n      <th>guestroom</th>\n      <th>basement</th>\n      <th>hotwaterheating</th>\n      <th>airconditioning</th>\n      <th>parking</th>\n      <th>prefarea</th>\n      <th>furnishingstatus</th>\n    </tr>\n  </thead>\n  <tbody>\n    <tr>\n      <th>0</th>\n      <td>13300000</td>\n      <td>7420.000000</td>\n      <td>4.0</td>\n      <td>2.0</td>\n      <td>3.0</td>\n      <td>yes</td>\n      <td>Yes</td>\n      <td>No</td>\n      <td>No</td>\n      <td>Yes</td>\n      <td>2.0</td>\n      <td>Yes</td>\n      <td>furnished</td>\n    </tr>\n    <tr>\n      <th>1</th>\n      <td>12250000</td>\n      <td>8960.000000</td>\n      <td>6.0</td>\n      <td>4.0</td>\n      <td>4.0</td>\n      <td>Yes</td>\n      <td>No</td>\n      <td>No</td>\n      <td>No</td>\n      <td>Yes</td>\n      <td>3.0</td>\n      <td>No</td>\n      <td>furnished</td>\n    </tr>\n    <tr>\n      <th>2</th>\n      <td>12250000</td>\n      <td>9960.000000</td>\n      <td>3.0</td>\n      <td>2.0</td>\n      <td>2.0</td>\n      <td>Yes</td>\n      <td>No</td>\n      <td>Yes</td>\n      <td>No</td>\n      <td>No</td>\n      <td>2.0</td>\n      <td>Yes</td>\n      <td>semi-furnished</td>\n    </tr>\n    <tr>\n      <th>3</th>\n      <td>12215000</td>\n      <td>7500.000000</td>\n      <td>3.0</td>\n      <td>1.0</td>\n      <td>2.0</td>\n      <td>yes</td>\n      <td>No</td>\n      <td>Yes</td>\n      <td>No</td>\n      <td>Yes</td>\n      <td>3.0</td>\n      <td>Yes</td>\n      <td>furnished</td>\n    </tr>\n    <tr>\n      <th>4</th>\n      <td>11410000</td>\n      <td>7420.000000</td>\n      <td>3.0</td>\n      <td>1.0</td>\n      <td>2.0</td>\n      <td>yes</td>\n      <td>Yes</td>\n      <td>Yes</td>\n      <td>No</td>\n      <td>Yes</td>\n      <td>2.0</td>\n      <td>No</td>\n      <td>NaN</td>\n    </tr>\n    <tr>\n      <th>...</th>\n      <td>...</td>\n      <td>...</td>\n      <td>...</td>\n      <td>...</td>\n      <td>...</td>\n      <td>...</td>\n      <td>...</td>\n      <td>...</td>\n      <td>...</td>\n      <td>...</td>\n      <td>...</td>\n      <td>...</td>\n      <td>...</td>\n    </tr>\n    <tr>\n      <th>540</th>\n      <td>1820000</td>\n      <td>4658.370000</td>\n      <td>2.0</td>\n      <td>1.0</td>\n      <td>1.0</td>\n      <td>yes</td>\n      <td>No</td>\n      <td>Yes</td>\n      <td>No</td>\n      <td>No</td>\n      <td>0.0</td>\n      <td>No</td>\n      <td>unfurnished</td>\n    </tr>\n    <tr>\n      <th>541</th>\n      <td>1767150</td>\n      <td>5348.270000</td>\n      <td>3.0</td>\n      <td>1.0</td>\n      <td>1.0</td>\n      <td>No</td>\n      <td>No</td>\n      <td>No</td>\n      <td>No</td>\n      <td>No</td>\n      <td>1.0</td>\n      <td>No</td>\n      <td>unfurnished</td>\n    </tr>\n    <tr>\n      <th>542</th>\n      <td>1750000</td>\n      <td>3620.000000</td>\n      <td>3.0</td>\n      <td>1.0</td>\n      <td>2.0</td>\n      <td>Yes</td>\n      <td>No</td>\n      <td>No</td>\n      <td>No</td>\n      <td>No</td>\n      <td>0.0</td>\n      <td>No</td>\n      <td>unfurnished</td>\n    </tr>\n    <tr>\n      <th>543</th>\n      <td>1750000</td>\n      <td>5268.134974</td>\n      <td>3.0</td>\n      <td>1.0</td>\n      <td>1.0</td>\n      <td>No</td>\n      <td>No</td>\n      <td>No</td>\n      <td>No</td>\n      <td>No</td>\n      <td>0.0</td>\n      <td>No</td>\n      <td>furnished</td>\n    </tr>\n    <tr>\n      <th>544</th>\n      <td>1750000</td>\n      <td>3850.000000</td>\n      <td>3.0</td>\n      <td>1.0</td>\n      <td>2.0</td>\n      <td>yes</td>\n      <td>No</td>\n      <td>Yes</td>\n      <td>No</td>\n      <td>No</td>\n      <td>0.0</td>\n      <td>No</td>\n      <td>unfurnished</td>\n    </tr>\n  </tbody>\n</table>\n<p>545 rows × 13 columns</p>\n</div>"
     },
     "execution_count": 128,
     "metadata": {},
     "output_type": "execute_result"
    }
   ],
   "source": [
    "df.loc[df['price']<=am2,'furnishingstatus']=df.loc[df['price']<=am2,\"furnishingstatus\"].fillna(\"unfurnished\")\n",
    "df"
   ],
   "metadata": {
    "collapsed": false,
    "ExecuteTime": {
     "end_time": "2023-11-07T14:54:39.951098600Z",
     "start_time": "2023-11-07T14:54:39.871625600Z"
    }
   },
   "id": "7a3de87a58b106b6"
  },
  {
   "cell_type": "code",
   "execution_count": 129,
   "outputs": [
    {
     "data": {
      "text/plain": "        price         area  bedrooms  bathrooms  stories mainroad guestroom  \\\n0    13300000  7420.000000       4.0        2.0      3.0      yes       Yes   \n1    12250000  8960.000000       6.0        4.0      4.0      Yes        No   \n2    12250000  9960.000000       3.0        2.0      2.0      Yes        No   \n3    12215000  7500.000000       3.0        1.0      2.0      yes        No   \n4    11410000  7420.000000       3.0        1.0      2.0      yes       Yes   \n..        ...          ...       ...        ...      ...      ...       ...   \n540   1820000  4658.370000       2.0        1.0      1.0      yes        No   \n541   1767150  5348.270000       3.0        1.0      1.0       No        No   \n542   1750000  3620.000000       3.0        1.0      2.0      Yes        No   \n543   1750000  5268.134974       3.0        1.0      1.0       No        No   \n544   1750000  3850.000000       3.0        1.0      2.0      yes        No   \n\n    basement hotwaterheating airconditioning  parking prefarea  \\\n0         No              No             Yes      2.0      Yes   \n1         No              No             Yes      3.0       No   \n2        Yes              No              No      2.0      Yes   \n3        Yes              No             Yes      3.0      Yes   \n4        Yes              No             Yes      2.0       No   \n..       ...             ...             ...      ...      ...   \n540      Yes              No              No      0.0       No   \n541       No              No              No      1.0       No   \n542       No              No              No      0.0       No   \n543       No              No              No      0.0       No   \n544      Yes              No              No      0.0       No   \n\n    furnishingstatus  \n0          furnished  \n1          furnished  \n2     semi-furnished  \n3          furnished  \n4          furnished  \n..               ...  \n540      unfurnished  \n541      unfurnished  \n542      unfurnished  \n543        furnished  \n544      unfurnished  \n\n[545 rows x 13 columns]",
      "text/html": "<div>\n<style scoped>\n    .dataframe tbody tr th:only-of-type {\n        vertical-align: middle;\n    }\n\n    .dataframe tbody tr th {\n        vertical-align: top;\n    }\n\n    .dataframe thead th {\n        text-align: right;\n    }\n</style>\n<table border=\"1\" class=\"dataframe\">\n  <thead>\n    <tr style=\"text-align: right;\">\n      <th></th>\n      <th>price</th>\n      <th>area</th>\n      <th>bedrooms</th>\n      <th>bathrooms</th>\n      <th>stories</th>\n      <th>mainroad</th>\n      <th>guestroom</th>\n      <th>basement</th>\n      <th>hotwaterheating</th>\n      <th>airconditioning</th>\n      <th>parking</th>\n      <th>prefarea</th>\n      <th>furnishingstatus</th>\n    </tr>\n  </thead>\n  <tbody>\n    <tr>\n      <th>0</th>\n      <td>13300000</td>\n      <td>7420.000000</td>\n      <td>4.0</td>\n      <td>2.0</td>\n      <td>3.0</td>\n      <td>yes</td>\n      <td>Yes</td>\n      <td>No</td>\n      <td>No</td>\n      <td>Yes</td>\n      <td>2.0</td>\n      <td>Yes</td>\n      <td>furnished</td>\n    </tr>\n    <tr>\n      <th>1</th>\n      <td>12250000</td>\n      <td>8960.000000</td>\n      <td>6.0</td>\n      <td>4.0</td>\n      <td>4.0</td>\n      <td>Yes</td>\n      <td>No</td>\n      <td>No</td>\n      <td>No</td>\n      <td>Yes</td>\n      <td>3.0</td>\n      <td>No</td>\n      <td>furnished</td>\n    </tr>\n    <tr>\n      <th>2</th>\n      <td>12250000</td>\n      <td>9960.000000</td>\n      <td>3.0</td>\n      <td>2.0</td>\n      <td>2.0</td>\n      <td>Yes</td>\n      <td>No</td>\n      <td>Yes</td>\n      <td>No</td>\n      <td>No</td>\n      <td>2.0</td>\n      <td>Yes</td>\n      <td>semi-furnished</td>\n    </tr>\n    <tr>\n      <th>3</th>\n      <td>12215000</td>\n      <td>7500.000000</td>\n      <td>3.0</td>\n      <td>1.0</td>\n      <td>2.0</td>\n      <td>yes</td>\n      <td>No</td>\n      <td>Yes</td>\n      <td>No</td>\n      <td>Yes</td>\n      <td>3.0</td>\n      <td>Yes</td>\n      <td>furnished</td>\n    </tr>\n    <tr>\n      <th>4</th>\n      <td>11410000</td>\n      <td>7420.000000</td>\n      <td>3.0</td>\n      <td>1.0</td>\n      <td>2.0</td>\n      <td>yes</td>\n      <td>Yes</td>\n      <td>Yes</td>\n      <td>No</td>\n      <td>Yes</td>\n      <td>2.0</td>\n      <td>No</td>\n      <td>furnished</td>\n    </tr>\n    <tr>\n      <th>...</th>\n      <td>...</td>\n      <td>...</td>\n      <td>...</td>\n      <td>...</td>\n      <td>...</td>\n      <td>...</td>\n      <td>...</td>\n      <td>...</td>\n      <td>...</td>\n      <td>...</td>\n      <td>...</td>\n      <td>...</td>\n      <td>...</td>\n    </tr>\n    <tr>\n      <th>540</th>\n      <td>1820000</td>\n      <td>4658.370000</td>\n      <td>2.0</td>\n      <td>1.0</td>\n      <td>1.0</td>\n      <td>yes</td>\n      <td>No</td>\n      <td>Yes</td>\n      <td>No</td>\n      <td>No</td>\n      <td>0.0</td>\n      <td>No</td>\n      <td>unfurnished</td>\n    </tr>\n    <tr>\n      <th>541</th>\n      <td>1767150</td>\n      <td>5348.270000</td>\n      <td>3.0</td>\n      <td>1.0</td>\n      <td>1.0</td>\n      <td>No</td>\n      <td>No</td>\n      <td>No</td>\n      <td>No</td>\n      <td>No</td>\n      <td>1.0</td>\n      <td>No</td>\n      <td>unfurnished</td>\n    </tr>\n    <tr>\n      <th>542</th>\n      <td>1750000</td>\n      <td>3620.000000</td>\n      <td>3.0</td>\n      <td>1.0</td>\n      <td>2.0</td>\n      <td>Yes</td>\n      <td>No</td>\n      <td>No</td>\n      <td>No</td>\n      <td>No</td>\n      <td>0.0</td>\n      <td>No</td>\n      <td>unfurnished</td>\n    </tr>\n    <tr>\n      <th>543</th>\n      <td>1750000</td>\n      <td>5268.134974</td>\n      <td>3.0</td>\n      <td>1.0</td>\n      <td>1.0</td>\n      <td>No</td>\n      <td>No</td>\n      <td>No</td>\n      <td>No</td>\n      <td>No</td>\n      <td>0.0</td>\n      <td>No</td>\n      <td>furnished</td>\n    </tr>\n    <tr>\n      <th>544</th>\n      <td>1750000</td>\n      <td>3850.000000</td>\n      <td>3.0</td>\n      <td>1.0</td>\n      <td>2.0</td>\n      <td>yes</td>\n      <td>No</td>\n      <td>Yes</td>\n      <td>No</td>\n      <td>No</td>\n      <td>0.0</td>\n      <td>No</td>\n      <td>unfurnished</td>\n    </tr>\n  </tbody>\n</table>\n<p>545 rows × 13 columns</p>\n</div>"
     },
     "execution_count": 129,
     "metadata": {},
     "output_type": "execute_result"
    }
   ],
   "source": [
    "df.loc[df['price']>=am1,'furnishingstatus']=df.loc[df['price']>=am1,\"furnishingstatus\"].fillna(\"furnished\")\n",
    "df"
   ],
   "metadata": {
    "collapsed": false,
    "ExecuteTime": {
     "end_time": "2023-11-07T14:55:10.767830100Z",
     "start_time": "2023-11-07T14:55:10.598827Z"
    }
   },
   "id": "9bd2c2d3ba178d29"
  },
  {
   "cell_type": "code",
   "execution_count": 131,
   "outputs": [],
   "source": [
    "df['furnishingstatus'].fillna(\"semi-furnished\",inplace=True)"
   ],
   "metadata": {
    "collapsed": false,
    "ExecuteTime": {
     "end_time": "2023-11-07T14:55:48.178196300Z",
     "start_time": "2023-11-07T14:55:48.124186100Z"
    }
   },
   "id": "180659abe56cc7dc"
  },
  {
   "cell_type": "code",
   "execution_count": 132,
   "outputs": [
    {
     "data": {
      "text/plain": "        price         area  bedrooms  bathrooms  stories mainroad guestroom  \\\n0    13300000  7420.000000       4.0        2.0      3.0      yes       Yes   \n1    12250000  8960.000000       6.0        4.0      4.0      Yes        No   \n2    12250000  9960.000000       3.0        2.0      2.0      Yes        No   \n3    12215000  7500.000000       3.0        1.0      2.0      yes        No   \n4    11410000  7420.000000       3.0        1.0      2.0      yes       Yes   \n..        ...          ...       ...        ...      ...      ...       ...   \n540   1820000  4658.370000       2.0        1.0      1.0      yes        No   \n541   1767150  5348.270000       3.0        1.0      1.0       No        No   \n542   1750000  3620.000000       3.0        1.0      2.0      Yes        No   \n543   1750000  5268.134974       3.0        1.0      1.0       No        No   \n544   1750000  3850.000000       3.0        1.0      2.0      yes        No   \n\n    basement hotwaterheating airconditioning  parking prefarea  \\\n0         No              No             Yes      2.0      Yes   \n1         No              No             Yes      3.0       No   \n2        Yes              No              No      2.0      Yes   \n3        Yes              No             Yes      3.0      Yes   \n4        Yes              No             Yes      2.0       No   \n..       ...             ...             ...      ...      ...   \n540      Yes              No              No      0.0       No   \n541       No              No              No      1.0       No   \n542       No              No              No      0.0       No   \n543       No              No              No      0.0       No   \n544      Yes              No              No      0.0       No   \n\n    furnishingstatus  \n0          furnished  \n1          furnished  \n2     semi-furnished  \n3          furnished  \n4          furnished  \n..               ...  \n540      unfurnished  \n541      unfurnished  \n542      unfurnished  \n543        furnished  \n544      unfurnished  \n\n[545 rows x 13 columns]",
      "text/html": "<div>\n<style scoped>\n    .dataframe tbody tr th:only-of-type {\n        vertical-align: middle;\n    }\n\n    .dataframe tbody tr th {\n        vertical-align: top;\n    }\n\n    .dataframe thead th {\n        text-align: right;\n    }\n</style>\n<table border=\"1\" class=\"dataframe\">\n  <thead>\n    <tr style=\"text-align: right;\">\n      <th></th>\n      <th>price</th>\n      <th>area</th>\n      <th>bedrooms</th>\n      <th>bathrooms</th>\n      <th>stories</th>\n      <th>mainroad</th>\n      <th>guestroom</th>\n      <th>basement</th>\n      <th>hotwaterheating</th>\n      <th>airconditioning</th>\n      <th>parking</th>\n      <th>prefarea</th>\n      <th>furnishingstatus</th>\n    </tr>\n  </thead>\n  <tbody>\n    <tr>\n      <th>0</th>\n      <td>13300000</td>\n      <td>7420.000000</td>\n      <td>4.0</td>\n      <td>2.0</td>\n      <td>3.0</td>\n      <td>yes</td>\n      <td>Yes</td>\n      <td>No</td>\n      <td>No</td>\n      <td>Yes</td>\n      <td>2.0</td>\n      <td>Yes</td>\n      <td>furnished</td>\n    </tr>\n    <tr>\n      <th>1</th>\n      <td>12250000</td>\n      <td>8960.000000</td>\n      <td>6.0</td>\n      <td>4.0</td>\n      <td>4.0</td>\n      <td>Yes</td>\n      <td>No</td>\n      <td>No</td>\n      <td>No</td>\n      <td>Yes</td>\n      <td>3.0</td>\n      <td>No</td>\n      <td>furnished</td>\n    </tr>\n    <tr>\n      <th>2</th>\n      <td>12250000</td>\n      <td>9960.000000</td>\n      <td>3.0</td>\n      <td>2.0</td>\n      <td>2.0</td>\n      <td>Yes</td>\n      <td>No</td>\n      <td>Yes</td>\n      <td>No</td>\n      <td>No</td>\n      <td>2.0</td>\n      <td>Yes</td>\n      <td>semi-furnished</td>\n    </tr>\n    <tr>\n      <th>3</th>\n      <td>12215000</td>\n      <td>7500.000000</td>\n      <td>3.0</td>\n      <td>1.0</td>\n      <td>2.0</td>\n      <td>yes</td>\n      <td>No</td>\n      <td>Yes</td>\n      <td>No</td>\n      <td>Yes</td>\n      <td>3.0</td>\n      <td>Yes</td>\n      <td>furnished</td>\n    </tr>\n    <tr>\n      <th>4</th>\n      <td>11410000</td>\n      <td>7420.000000</td>\n      <td>3.0</td>\n      <td>1.0</td>\n      <td>2.0</td>\n      <td>yes</td>\n      <td>Yes</td>\n      <td>Yes</td>\n      <td>No</td>\n      <td>Yes</td>\n      <td>2.0</td>\n      <td>No</td>\n      <td>furnished</td>\n    </tr>\n    <tr>\n      <th>...</th>\n      <td>...</td>\n      <td>...</td>\n      <td>...</td>\n      <td>...</td>\n      <td>...</td>\n      <td>...</td>\n      <td>...</td>\n      <td>...</td>\n      <td>...</td>\n      <td>...</td>\n      <td>...</td>\n      <td>...</td>\n      <td>...</td>\n    </tr>\n    <tr>\n      <th>540</th>\n      <td>1820000</td>\n      <td>4658.370000</td>\n      <td>2.0</td>\n      <td>1.0</td>\n      <td>1.0</td>\n      <td>yes</td>\n      <td>No</td>\n      <td>Yes</td>\n      <td>No</td>\n      <td>No</td>\n      <td>0.0</td>\n      <td>No</td>\n      <td>unfurnished</td>\n    </tr>\n    <tr>\n      <th>541</th>\n      <td>1767150</td>\n      <td>5348.270000</td>\n      <td>3.0</td>\n      <td>1.0</td>\n      <td>1.0</td>\n      <td>No</td>\n      <td>No</td>\n      <td>No</td>\n      <td>No</td>\n      <td>No</td>\n      <td>1.0</td>\n      <td>No</td>\n      <td>unfurnished</td>\n    </tr>\n    <tr>\n      <th>542</th>\n      <td>1750000</td>\n      <td>3620.000000</td>\n      <td>3.0</td>\n      <td>1.0</td>\n      <td>2.0</td>\n      <td>Yes</td>\n      <td>No</td>\n      <td>No</td>\n      <td>No</td>\n      <td>No</td>\n      <td>0.0</td>\n      <td>No</td>\n      <td>unfurnished</td>\n    </tr>\n    <tr>\n      <th>543</th>\n      <td>1750000</td>\n      <td>5268.134974</td>\n      <td>3.0</td>\n      <td>1.0</td>\n      <td>1.0</td>\n      <td>No</td>\n      <td>No</td>\n      <td>No</td>\n      <td>No</td>\n      <td>No</td>\n      <td>0.0</td>\n      <td>No</td>\n      <td>furnished</td>\n    </tr>\n    <tr>\n      <th>544</th>\n      <td>1750000</td>\n      <td>3850.000000</td>\n      <td>3.0</td>\n      <td>1.0</td>\n      <td>2.0</td>\n      <td>yes</td>\n      <td>No</td>\n      <td>Yes</td>\n      <td>No</td>\n      <td>No</td>\n      <td>0.0</td>\n      <td>No</td>\n      <td>unfurnished</td>\n    </tr>\n  </tbody>\n</table>\n<p>545 rows × 13 columns</p>\n</div>"
     },
     "execution_count": 132,
     "metadata": {},
     "output_type": "execute_result"
    }
   ],
   "source": [
    "df"
   ],
   "metadata": {
    "collapsed": false,
    "ExecuteTime": {
     "end_time": "2023-11-07T14:55:50.688839200Z",
     "start_time": "2023-11-07T14:55:50.594080300Z"
    }
   },
   "id": "ed15cd111628cefc"
  },
  {
   "cell_type": "code",
   "execution_count": 134,
   "outputs": [
    {
     "data": {
      "text/plain": "furnishingstatus\nunfurnished       220\nsemi-furnished    165\nfurnished         160\nName: count, dtype: int64"
     },
     "execution_count": 134,
     "metadata": {},
     "output_type": "execute_result"
    }
   ],
   "source": [
    "df['furnishingstatus'].value_counts()"
   ],
   "metadata": {
    "collapsed": false,
    "ExecuteTime": {
     "end_time": "2023-11-07T14:56:11.415626400Z",
     "start_time": "2023-11-07T14:56:11.368449500Z"
    }
   },
   "id": "d5cded9ec6de0b01"
  },
  {
   "cell_type": "code",
   "execution_count": 135,
   "outputs": [],
   "source": [
    "df.to_csv(\"Task_4_updated.csv\")"
   ],
   "metadata": {
    "collapsed": false,
    "ExecuteTime": {
     "end_time": "2023-11-07T14:58:11.051146Z",
     "start_time": "2023-11-07T14:58:10.894145Z"
    }
   },
   "id": "dfabadadf9c9ad8"
  },
  {
   "cell_type": "code",
   "execution_count": null,
   "outputs": [],
   "source": [],
   "metadata": {
    "collapsed": false
   },
   "id": "e565581fe7d89a54"
  }
 ],
 "metadata": {
  "kernelspec": {
   "display_name": "Python 3",
   "language": "python",
   "name": "python3"
  },
  "language_info": {
   "codemirror_mode": {
    "name": "ipython",
    "version": 2
   },
   "file_extension": ".py",
   "mimetype": "text/x-python",
   "name": "python",
   "nbconvert_exporter": "python",
   "pygments_lexer": "ipython2",
   "version": "2.7.6"
  }
 },
 "nbformat": 4,
 "nbformat_minor": 5
}
