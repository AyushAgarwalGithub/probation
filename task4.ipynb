{
 "cells": [
  {
   "cell_type": "code",
   "execution_count": 46,
   "id": "initial_id",
   "metadata": {
    "collapsed": true,
    "ExecuteTime": {
     "end_time": "2023-10-19T16:37:42.620990500Z",
     "start_time": "2023-10-19T16:37:42.610375900Z"
    }
   },
   "outputs": [],
   "source": [
    "import pandas as pd"
   ]
  },
  {
   "cell_type": "code",
   "execution_count": 47,
   "outputs": [],
   "source": [
    "df=pd.read_csv(\"Task_4.csv\",skipinitialspace=True)"
   ],
   "metadata": {
    "collapsed": false,
    "ExecuteTime": {
     "end_time": "2023-10-19T16:38:56.231430100Z",
     "start_time": "2023-10-19T16:38:56.198647700Z"
    }
   },
   "id": "b70bb665ba55cf8b"
  },
  {
   "cell_type": "code",
   "execution_count": 48,
   "outputs": [
    {
     "data": {
      "text/plain": "        price    area  bedrooms  bathrooms  stories mainroad  guestroom  \\\n0    13300000  7420.0       4.0        NaN      3.0      NaN        NaN   \n1    12250000  8960.0       NaN        4.0      4.0      yes         no   \n2    12250000  9960.0       3.0        2.0      2.0      yes        NaN   \n3    12215000  7500.0       NaN        NaN      NaN      NaN         no   \n4    11410000  7420.0       NaN        1.0      2.0      NaN  Of course   \n..        ...     ...       ...        ...      ...      ...        ...   \n540   1820000     NaN       2.0        NaN      1.0      NaN         no   \n541   1767150     NaN       3.0        1.0      1.0       no       ille   \n542   1750000  3620.0       NaN        NaN      NaN      yes         no   \n543   1750000     NaN       NaN        1.0      1.0       no         no   \n544   1750000  3850.0       3.0        1.0      2.0      NaN        NaN   \n\n    basement hotwaterheating airconditioning  parking prefarea  \\\n0        NaN             NaN             yes      2.0   Haanji   \n1         no           Nakko             yes      NaN       no   \n2        yes              no           Naaji      2.0      yes   \n3        yes              no             yes      3.0      yes   \n4        yes             NaN             yes      2.0       no   \n..       ...             ...             ...      ...      ...   \n540      NaN              no              no      NaN       no   \n541       no              no             Nah      NaN      NaN   \n542       no             NaN             NaN      NaN        n   \n543       no              no              no      0.0      NaN   \n544      NaN             NaN              no      0.0    Naaji   \n\n    furnishingstatus  \n0          furnished  \n1          furnished  \n2     semi-furnished  \n3          furnished  \n4                NaN  \n..               ...  \n540      unfurnished  \n541              NaN  \n542      unfurnished  \n543        furnished  \n544              NaN  \n\n[545 rows x 13 columns]",
      "text/html": "<div>\n<style scoped>\n    .dataframe tbody tr th:only-of-type {\n        vertical-align: middle;\n    }\n\n    .dataframe tbody tr th {\n        vertical-align: top;\n    }\n\n    .dataframe thead th {\n        text-align: right;\n    }\n</style>\n<table border=\"1\" class=\"dataframe\">\n  <thead>\n    <tr style=\"text-align: right;\">\n      <th></th>\n      <th>price</th>\n      <th>area</th>\n      <th>bedrooms</th>\n      <th>bathrooms</th>\n      <th>stories</th>\n      <th>mainroad</th>\n      <th>guestroom</th>\n      <th>basement</th>\n      <th>hotwaterheating</th>\n      <th>airconditioning</th>\n      <th>parking</th>\n      <th>prefarea</th>\n      <th>furnishingstatus</th>\n    </tr>\n  </thead>\n  <tbody>\n    <tr>\n      <th>0</th>\n      <td>13300000</td>\n      <td>7420.0</td>\n      <td>4.0</td>\n      <td>NaN</td>\n      <td>3.0</td>\n      <td>NaN</td>\n      <td>NaN</td>\n      <td>NaN</td>\n      <td>NaN</td>\n      <td>yes</td>\n      <td>2.0</td>\n      <td>Haanji</td>\n      <td>furnished</td>\n    </tr>\n    <tr>\n      <th>1</th>\n      <td>12250000</td>\n      <td>8960.0</td>\n      <td>NaN</td>\n      <td>4.0</td>\n      <td>4.0</td>\n      <td>yes</td>\n      <td>no</td>\n      <td>no</td>\n      <td>Nakko</td>\n      <td>yes</td>\n      <td>NaN</td>\n      <td>no</td>\n      <td>furnished</td>\n    </tr>\n    <tr>\n      <th>2</th>\n      <td>12250000</td>\n      <td>9960.0</td>\n      <td>3.0</td>\n      <td>2.0</td>\n      <td>2.0</td>\n      <td>yes</td>\n      <td>NaN</td>\n      <td>yes</td>\n      <td>no</td>\n      <td>Naaji</td>\n      <td>2.0</td>\n      <td>yes</td>\n      <td>semi-furnished</td>\n    </tr>\n    <tr>\n      <th>3</th>\n      <td>12215000</td>\n      <td>7500.0</td>\n      <td>NaN</td>\n      <td>NaN</td>\n      <td>NaN</td>\n      <td>NaN</td>\n      <td>no</td>\n      <td>yes</td>\n      <td>no</td>\n      <td>yes</td>\n      <td>3.0</td>\n      <td>yes</td>\n      <td>furnished</td>\n    </tr>\n    <tr>\n      <th>4</th>\n      <td>11410000</td>\n      <td>7420.0</td>\n      <td>NaN</td>\n      <td>1.0</td>\n      <td>2.0</td>\n      <td>NaN</td>\n      <td>Of course</td>\n      <td>yes</td>\n      <td>NaN</td>\n      <td>yes</td>\n      <td>2.0</td>\n      <td>no</td>\n      <td>NaN</td>\n    </tr>\n    <tr>\n      <th>...</th>\n      <td>...</td>\n      <td>...</td>\n      <td>...</td>\n      <td>...</td>\n      <td>...</td>\n      <td>...</td>\n      <td>...</td>\n      <td>...</td>\n      <td>...</td>\n      <td>...</td>\n      <td>...</td>\n      <td>...</td>\n      <td>...</td>\n    </tr>\n    <tr>\n      <th>540</th>\n      <td>1820000</td>\n      <td>NaN</td>\n      <td>2.0</td>\n      <td>NaN</td>\n      <td>1.0</td>\n      <td>NaN</td>\n      <td>no</td>\n      <td>NaN</td>\n      <td>no</td>\n      <td>no</td>\n      <td>NaN</td>\n      <td>no</td>\n      <td>unfurnished</td>\n    </tr>\n    <tr>\n      <th>541</th>\n      <td>1767150</td>\n      <td>NaN</td>\n      <td>3.0</td>\n      <td>1.0</td>\n      <td>1.0</td>\n      <td>no</td>\n      <td>ille</td>\n      <td>no</td>\n      <td>no</td>\n      <td>Nah</td>\n      <td>NaN</td>\n      <td>NaN</td>\n      <td>NaN</td>\n    </tr>\n    <tr>\n      <th>542</th>\n      <td>1750000</td>\n      <td>3620.0</td>\n      <td>NaN</td>\n      <td>NaN</td>\n      <td>NaN</td>\n      <td>yes</td>\n      <td>no</td>\n      <td>no</td>\n      <td>NaN</td>\n      <td>NaN</td>\n      <td>NaN</td>\n      <td>n</td>\n      <td>unfurnished</td>\n    </tr>\n    <tr>\n      <th>543</th>\n      <td>1750000</td>\n      <td>NaN</td>\n      <td>NaN</td>\n      <td>1.0</td>\n      <td>1.0</td>\n      <td>no</td>\n      <td>no</td>\n      <td>no</td>\n      <td>no</td>\n      <td>no</td>\n      <td>0.0</td>\n      <td>NaN</td>\n      <td>furnished</td>\n    </tr>\n    <tr>\n      <th>544</th>\n      <td>1750000</td>\n      <td>3850.0</td>\n      <td>3.0</td>\n      <td>1.0</td>\n      <td>2.0</td>\n      <td>NaN</td>\n      <td>NaN</td>\n      <td>NaN</td>\n      <td>NaN</td>\n      <td>no</td>\n      <td>0.0</td>\n      <td>Naaji</td>\n      <td>NaN</td>\n    </tr>\n  </tbody>\n</table>\n<p>545 rows × 13 columns</p>\n</div>"
     },
     "execution_count": 48,
     "metadata": {},
     "output_type": "execute_result"
    }
   ],
   "source": [
    "df"
   ],
   "metadata": {
    "collapsed": false,
    "ExecuteTime": {
     "end_time": "2023-10-19T16:38:57.741137200Z",
     "start_time": "2023-10-19T16:38:57.702183800Z"
    }
   },
   "id": "6f28771b6ee2744e"
  },
  {
   "cell_type": "markdown",
   "source": [
    "dropping all the rows where area is not mentioned"
   ],
   "metadata": {
    "collapsed": false
   },
   "id": "f40c20307d3ff4e4"
  },
  {
   "cell_type": "code",
   "execution_count": 50,
   "outputs": [
    {
     "data": {
      "text/plain": "        price    area  bedrooms  bathrooms  stories mainroad  guestroom  \\\n0    13300000  7420.0       4.0        NaN      3.0      NaN        NaN   \n1    12250000  8960.0       NaN        4.0      4.0      yes         no   \n2    12250000  9960.0       3.0        2.0      2.0      yes        NaN   \n3    12215000  7500.0       NaN        NaN      NaN      NaN         no   \n4    11410000  7420.0       NaN        1.0      2.0      NaN  Of course   \n..        ...     ...       ...        ...      ...      ...        ...   \n534   2100000  3000.0       4.0        NaN      2.0      NaN         no   \n535   2100000  3360.0       2.0        1.0      1.0      yes        NaN   \n538   1890000  3649.0       2.0        1.0      NaN      NaN         no   \n542   1750000  3620.0       NaN        NaN      NaN      yes         no   \n544   1750000  3850.0       3.0        1.0      2.0      NaN        NaN   \n\n    basement hotwaterheating airconditioning  parking prefarea  \\\n0        NaN             NaN             yes      2.0   Haanji   \n1         no           Nakko             yes      NaN       no   \n2        yes              no           Naaji      2.0      yes   \n3        yes              no             yes      3.0      yes   \n4        yes             NaN             yes      2.0       no   \n..       ...             ...             ...      ...      ...   \n534       no             NaN              no      0.0      NaN   \n535       no              no             NaN      NaN      NaN   \n538       no              no             NaN      0.0       no   \n542       no             NaN             NaN      NaN        n   \n544      NaN             NaN              no      0.0    Naaji   \n\n    furnishingstatus  \n0          furnished  \n1          furnished  \n2     semi-furnished  \n3          furnished  \n4                NaN  \n..               ...  \n534      unfurnished  \n535              NaN  \n538              NaN  \n542      unfurnished  \n544              NaN  \n\n[339 rows x 13 columns]",
      "text/html": "<div>\n<style scoped>\n    .dataframe tbody tr th:only-of-type {\n        vertical-align: middle;\n    }\n\n    .dataframe tbody tr th {\n        vertical-align: top;\n    }\n\n    .dataframe thead th {\n        text-align: right;\n    }\n</style>\n<table border=\"1\" class=\"dataframe\">\n  <thead>\n    <tr style=\"text-align: right;\">\n      <th></th>\n      <th>price</th>\n      <th>area</th>\n      <th>bedrooms</th>\n      <th>bathrooms</th>\n      <th>stories</th>\n      <th>mainroad</th>\n      <th>guestroom</th>\n      <th>basement</th>\n      <th>hotwaterheating</th>\n      <th>airconditioning</th>\n      <th>parking</th>\n      <th>prefarea</th>\n      <th>furnishingstatus</th>\n    </tr>\n  </thead>\n  <tbody>\n    <tr>\n      <th>0</th>\n      <td>13300000</td>\n      <td>7420.0</td>\n      <td>4.0</td>\n      <td>NaN</td>\n      <td>3.0</td>\n      <td>NaN</td>\n      <td>NaN</td>\n      <td>NaN</td>\n      <td>NaN</td>\n      <td>yes</td>\n      <td>2.0</td>\n      <td>Haanji</td>\n      <td>furnished</td>\n    </tr>\n    <tr>\n      <th>1</th>\n      <td>12250000</td>\n      <td>8960.0</td>\n      <td>NaN</td>\n      <td>4.0</td>\n      <td>4.0</td>\n      <td>yes</td>\n      <td>no</td>\n      <td>no</td>\n      <td>Nakko</td>\n      <td>yes</td>\n      <td>NaN</td>\n      <td>no</td>\n      <td>furnished</td>\n    </tr>\n    <tr>\n      <th>2</th>\n      <td>12250000</td>\n      <td>9960.0</td>\n      <td>3.0</td>\n      <td>2.0</td>\n      <td>2.0</td>\n      <td>yes</td>\n      <td>NaN</td>\n      <td>yes</td>\n      <td>no</td>\n      <td>Naaji</td>\n      <td>2.0</td>\n      <td>yes</td>\n      <td>semi-furnished</td>\n    </tr>\n    <tr>\n      <th>3</th>\n      <td>12215000</td>\n      <td>7500.0</td>\n      <td>NaN</td>\n      <td>NaN</td>\n      <td>NaN</td>\n      <td>NaN</td>\n      <td>no</td>\n      <td>yes</td>\n      <td>no</td>\n      <td>yes</td>\n      <td>3.0</td>\n      <td>yes</td>\n      <td>furnished</td>\n    </tr>\n    <tr>\n      <th>4</th>\n      <td>11410000</td>\n      <td>7420.0</td>\n      <td>NaN</td>\n      <td>1.0</td>\n      <td>2.0</td>\n      <td>NaN</td>\n      <td>Of course</td>\n      <td>yes</td>\n      <td>NaN</td>\n      <td>yes</td>\n      <td>2.0</td>\n      <td>no</td>\n      <td>NaN</td>\n    </tr>\n    <tr>\n      <th>...</th>\n      <td>...</td>\n      <td>...</td>\n      <td>...</td>\n      <td>...</td>\n      <td>...</td>\n      <td>...</td>\n      <td>...</td>\n      <td>...</td>\n      <td>...</td>\n      <td>...</td>\n      <td>...</td>\n      <td>...</td>\n      <td>...</td>\n    </tr>\n    <tr>\n      <th>534</th>\n      <td>2100000</td>\n      <td>3000.0</td>\n      <td>4.0</td>\n      <td>NaN</td>\n      <td>2.0</td>\n      <td>NaN</td>\n      <td>no</td>\n      <td>no</td>\n      <td>NaN</td>\n      <td>no</td>\n      <td>0.0</td>\n      <td>NaN</td>\n      <td>unfurnished</td>\n    </tr>\n    <tr>\n      <th>535</th>\n      <td>2100000</td>\n      <td>3360.0</td>\n      <td>2.0</td>\n      <td>1.0</td>\n      <td>1.0</td>\n      <td>yes</td>\n      <td>NaN</td>\n      <td>no</td>\n      <td>no</td>\n      <td>NaN</td>\n      <td>NaN</td>\n      <td>NaN</td>\n      <td>NaN</td>\n    </tr>\n    <tr>\n      <th>538</th>\n      <td>1890000</td>\n      <td>3649.0</td>\n      <td>2.0</td>\n      <td>1.0</td>\n      <td>NaN</td>\n      <td>NaN</td>\n      <td>no</td>\n      <td>no</td>\n      <td>no</td>\n      <td>NaN</td>\n      <td>0.0</td>\n      <td>no</td>\n      <td>NaN</td>\n    </tr>\n    <tr>\n      <th>542</th>\n      <td>1750000</td>\n      <td>3620.0</td>\n      <td>NaN</td>\n      <td>NaN</td>\n      <td>NaN</td>\n      <td>yes</td>\n      <td>no</td>\n      <td>no</td>\n      <td>NaN</td>\n      <td>NaN</td>\n      <td>NaN</td>\n      <td>n</td>\n      <td>unfurnished</td>\n    </tr>\n    <tr>\n      <th>544</th>\n      <td>1750000</td>\n      <td>3850.0</td>\n      <td>3.0</td>\n      <td>1.0</td>\n      <td>2.0</td>\n      <td>NaN</td>\n      <td>NaN</td>\n      <td>NaN</td>\n      <td>NaN</td>\n      <td>no</td>\n      <td>0.0</td>\n      <td>Naaji</td>\n      <td>NaN</td>\n    </tr>\n  </tbody>\n</table>\n<p>339 rows × 13 columns</p>\n</div>"
     },
     "execution_count": 50,
     "metadata": {},
     "output_type": "execute_result"
    }
   ],
   "source": [
    "df.dropna(subset=\"area\",inplace=True)\n",
    "df"
   ],
   "metadata": {
    "collapsed": false,
    "ExecuteTime": {
     "end_time": "2023-10-19T16:39:27.017390900Z",
     "start_time": "2023-10-19T16:39:26.960034900Z"
    }
   },
   "id": "fe6beb605833a316"
  },
  {
   "cell_type": "markdown",
   "source": [
    "converting all the values that are in other formats in \"Yes\" or \"No\" in diff columns"
   ],
   "metadata": {
    "collapsed": false
   },
   "id": "feca2b69b801a5d4"
  },
  {
   "cell_type": "code",
   "execution_count": 51,
   "outputs": [],
   "source": [
    "a={\"Haanji\":\"Yes\",\"no\":\"No\",\"yes\":\"Yes\",\"Haan\":\"Yes\",\"Of course\":\"Yes\",\"Nakko\":\"No\",\"Nope\":\"No\",\"N\":\"No\",\"yep\":\"Yes\",\"y\":\"Yes\",\"True\":\"Yes\",\"n\":\"No\",\"['n']\":\"No\",\"False\":\"No\",\"Naaji\":\"No\",\"ille\":\"No\",\"Yo\":\"Yes\",\"Y\":\"Yes\"}"
   ],
   "metadata": {
    "collapsed": false,
    "ExecuteTime": {
     "end_time": "2023-10-19T16:40:07.766756200Z",
     "start_time": "2023-10-19T16:40:07.724853500Z"
    }
   },
   "id": "4384d801ff05c16e"
  },
  {
   "cell_type": "code",
   "execution_count": 52,
   "outputs": [],
   "source": [
    "df[\"prefarea\"]=df[\"prefarea\"].map(a)"
   ],
   "metadata": {
    "collapsed": false,
    "ExecuteTime": {
     "end_time": "2023-10-19T16:41:13.760197500Z",
     "start_time": "2023-10-19T16:41:13.728399300Z"
    }
   },
   "id": "47129331c55aaa84"
  },
  {
   "cell_type": "code",
   "execution_count": 53,
   "outputs": [
    {
     "data": {
      "text/plain": "        price    area  bedrooms  bathrooms  stories mainroad  guestroom  \\\n0    13300000  7420.0       4.0        NaN      3.0      NaN        NaN   \n1    12250000  8960.0       NaN        4.0      4.0      yes         no   \n2    12250000  9960.0       3.0        2.0      2.0      yes        NaN   \n3    12215000  7500.0       NaN        NaN      NaN      NaN         no   \n4    11410000  7420.0       NaN        1.0      2.0      NaN  Of course   \n..        ...     ...       ...        ...      ...      ...        ...   \n534   2100000  3000.0       4.0        NaN      2.0      NaN         no   \n535   2100000  3360.0       2.0        1.0      1.0      yes        NaN   \n538   1890000  3649.0       2.0        1.0      NaN      NaN         no   \n542   1750000  3620.0       NaN        NaN      NaN      yes         no   \n544   1750000  3850.0       3.0        1.0      2.0      NaN        NaN   \n\n    basement hotwaterheating airconditioning  parking prefarea  \\\n0        NaN             NaN             yes      2.0      Yes   \n1         no           Nakko             yes      NaN       No   \n2        yes              no           Naaji      2.0      Yes   \n3        yes              no             yes      3.0      Yes   \n4        yes             NaN             yes      2.0       No   \n..       ...             ...             ...      ...      ...   \n534       no             NaN              no      0.0      NaN   \n535       no              no             NaN      NaN      NaN   \n538       no              no             NaN      0.0       No   \n542       no             NaN             NaN      NaN       No   \n544      NaN             NaN              no      0.0       No   \n\n    furnishingstatus  \n0          furnished  \n1          furnished  \n2     semi-furnished  \n3          furnished  \n4                NaN  \n..               ...  \n534      unfurnished  \n535              NaN  \n538              NaN  \n542      unfurnished  \n544              NaN  \n\n[339 rows x 13 columns]",
      "text/html": "<div>\n<style scoped>\n    .dataframe tbody tr th:only-of-type {\n        vertical-align: middle;\n    }\n\n    .dataframe tbody tr th {\n        vertical-align: top;\n    }\n\n    .dataframe thead th {\n        text-align: right;\n    }\n</style>\n<table border=\"1\" class=\"dataframe\">\n  <thead>\n    <tr style=\"text-align: right;\">\n      <th></th>\n      <th>price</th>\n      <th>area</th>\n      <th>bedrooms</th>\n      <th>bathrooms</th>\n      <th>stories</th>\n      <th>mainroad</th>\n      <th>guestroom</th>\n      <th>basement</th>\n      <th>hotwaterheating</th>\n      <th>airconditioning</th>\n      <th>parking</th>\n      <th>prefarea</th>\n      <th>furnishingstatus</th>\n    </tr>\n  </thead>\n  <tbody>\n    <tr>\n      <th>0</th>\n      <td>13300000</td>\n      <td>7420.0</td>\n      <td>4.0</td>\n      <td>NaN</td>\n      <td>3.0</td>\n      <td>NaN</td>\n      <td>NaN</td>\n      <td>NaN</td>\n      <td>NaN</td>\n      <td>yes</td>\n      <td>2.0</td>\n      <td>Yes</td>\n      <td>furnished</td>\n    </tr>\n    <tr>\n      <th>1</th>\n      <td>12250000</td>\n      <td>8960.0</td>\n      <td>NaN</td>\n      <td>4.0</td>\n      <td>4.0</td>\n      <td>yes</td>\n      <td>no</td>\n      <td>no</td>\n      <td>Nakko</td>\n      <td>yes</td>\n      <td>NaN</td>\n      <td>No</td>\n      <td>furnished</td>\n    </tr>\n    <tr>\n      <th>2</th>\n      <td>12250000</td>\n      <td>9960.0</td>\n      <td>3.0</td>\n      <td>2.0</td>\n      <td>2.0</td>\n      <td>yes</td>\n      <td>NaN</td>\n      <td>yes</td>\n      <td>no</td>\n      <td>Naaji</td>\n      <td>2.0</td>\n      <td>Yes</td>\n      <td>semi-furnished</td>\n    </tr>\n    <tr>\n      <th>3</th>\n      <td>12215000</td>\n      <td>7500.0</td>\n      <td>NaN</td>\n      <td>NaN</td>\n      <td>NaN</td>\n      <td>NaN</td>\n      <td>no</td>\n      <td>yes</td>\n      <td>no</td>\n      <td>yes</td>\n      <td>3.0</td>\n      <td>Yes</td>\n      <td>furnished</td>\n    </tr>\n    <tr>\n      <th>4</th>\n      <td>11410000</td>\n      <td>7420.0</td>\n      <td>NaN</td>\n      <td>1.0</td>\n      <td>2.0</td>\n      <td>NaN</td>\n      <td>Of course</td>\n      <td>yes</td>\n      <td>NaN</td>\n      <td>yes</td>\n      <td>2.0</td>\n      <td>No</td>\n      <td>NaN</td>\n    </tr>\n    <tr>\n      <th>...</th>\n      <td>...</td>\n      <td>...</td>\n      <td>...</td>\n      <td>...</td>\n      <td>...</td>\n      <td>...</td>\n      <td>...</td>\n      <td>...</td>\n      <td>...</td>\n      <td>...</td>\n      <td>...</td>\n      <td>...</td>\n      <td>...</td>\n    </tr>\n    <tr>\n      <th>534</th>\n      <td>2100000</td>\n      <td>3000.0</td>\n      <td>4.0</td>\n      <td>NaN</td>\n      <td>2.0</td>\n      <td>NaN</td>\n      <td>no</td>\n      <td>no</td>\n      <td>NaN</td>\n      <td>no</td>\n      <td>0.0</td>\n      <td>NaN</td>\n      <td>unfurnished</td>\n    </tr>\n    <tr>\n      <th>535</th>\n      <td>2100000</td>\n      <td>3360.0</td>\n      <td>2.0</td>\n      <td>1.0</td>\n      <td>1.0</td>\n      <td>yes</td>\n      <td>NaN</td>\n      <td>no</td>\n      <td>no</td>\n      <td>NaN</td>\n      <td>NaN</td>\n      <td>NaN</td>\n      <td>NaN</td>\n    </tr>\n    <tr>\n      <th>538</th>\n      <td>1890000</td>\n      <td>3649.0</td>\n      <td>2.0</td>\n      <td>1.0</td>\n      <td>NaN</td>\n      <td>NaN</td>\n      <td>no</td>\n      <td>no</td>\n      <td>no</td>\n      <td>NaN</td>\n      <td>0.0</td>\n      <td>No</td>\n      <td>NaN</td>\n    </tr>\n    <tr>\n      <th>542</th>\n      <td>1750000</td>\n      <td>3620.0</td>\n      <td>NaN</td>\n      <td>NaN</td>\n      <td>NaN</td>\n      <td>yes</td>\n      <td>no</td>\n      <td>no</td>\n      <td>NaN</td>\n      <td>NaN</td>\n      <td>NaN</td>\n      <td>No</td>\n      <td>unfurnished</td>\n    </tr>\n    <tr>\n      <th>544</th>\n      <td>1750000</td>\n      <td>3850.0</td>\n      <td>3.0</td>\n      <td>1.0</td>\n      <td>2.0</td>\n      <td>NaN</td>\n      <td>NaN</td>\n      <td>NaN</td>\n      <td>NaN</td>\n      <td>no</td>\n      <td>0.0</td>\n      <td>No</td>\n      <td>NaN</td>\n    </tr>\n  </tbody>\n</table>\n<p>339 rows × 13 columns</p>\n</div>"
     },
     "execution_count": 53,
     "metadata": {},
     "output_type": "execute_result"
    }
   ],
   "source": [
    "df"
   ],
   "metadata": {
    "collapsed": false,
    "ExecuteTime": {
     "end_time": "2023-10-19T16:41:15.506675800Z",
     "start_time": "2023-10-19T16:41:15.443637400Z"
    }
   },
   "id": "ad0d17dea43c857"
  },
  {
   "cell_type": "code",
   "execution_count": 54,
   "outputs": [
    {
     "data": {
      "text/plain": "array(['yes', 'Naaji', 'no', nan, 'yep', 'y', 'Y', 'N', 'Nakko', 'Nah',\n       'n', 'True', 'ille', 'False', 'Of course', 'Nope', 'Haanji'],\n      dtype=object)"
     },
     "execution_count": 54,
     "metadata": {},
     "output_type": "execute_result"
    }
   ],
   "source": [
    "df[\"airconditioning\"].unique()"
   ],
   "metadata": {
    "collapsed": false,
    "ExecuteTime": {
     "end_time": "2023-10-19T16:42:18.605428900Z",
     "start_time": "2023-10-19T16:42:18.558089700Z"
    }
   },
   "id": "74e7749a9895aa0"
  },
  {
   "cell_type": "code",
   "execution_count": 55,
   "outputs": [],
   "source": [
    "b={\"Haanji\":\"Yes\",\"no\":\"No\",\"yes\":\"Yes\",\"Haan\":\"Yes\",\"Of course\":\"Yes\",\"Nakko\":\"No\",\"Nope\":\"No\",\"N\":\"No\",\"yep\":\"Yes\",\"y\":\"Yes\",\"True\":\"Yes\",\"n\":\"No\",\"['n']\":\"No\",\"False\":\"No\",\"Naaji\":\"No\",\"ille\":\"No\",\"Yo\":\"Yes\",\"Y\":\"Yes\",\"Nah\":\"No\"}\n",
    "df[\"airconditioning\"]=df[\"airconditioning\"].map(b)"
   ],
   "metadata": {
    "collapsed": false,
    "ExecuteTime": {
     "end_time": "2023-10-19T16:49:50.857329700Z",
     "start_time": "2023-10-19T16:49:50.810316200Z"
    }
   },
   "id": "b4b809a1452d32b3"
  },
  {
   "cell_type": "code",
   "execution_count": 56,
   "outputs": [
    {
     "data": {
      "text/plain": "        price    area  bedrooms  bathrooms  stories mainroad  guestroom  \\\n0    13300000  7420.0       4.0        NaN      3.0      NaN        NaN   \n1    12250000  8960.0       NaN        4.0      4.0      yes         no   \n2    12250000  9960.0       3.0        2.0      2.0      yes        NaN   \n3    12215000  7500.0       NaN        NaN      NaN      NaN         no   \n4    11410000  7420.0       NaN        1.0      2.0      NaN  Of course   \n..        ...     ...       ...        ...      ...      ...        ...   \n534   2100000  3000.0       4.0        NaN      2.0      NaN         no   \n535   2100000  3360.0       2.0        1.0      1.0      yes        NaN   \n538   1890000  3649.0       2.0        1.0      NaN      NaN         no   \n542   1750000  3620.0       NaN        NaN      NaN      yes         no   \n544   1750000  3850.0       3.0        1.0      2.0      NaN        NaN   \n\n    basement hotwaterheating airconditioning  parking prefarea  \\\n0        NaN             NaN             Yes      2.0      Yes   \n1         no           Nakko             Yes      NaN       No   \n2        yes              no              No      2.0      Yes   \n3        yes              no             Yes      3.0      Yes   \n4        yes             NaN             Yes      2.0       No   \n..       ...             ...             ...      ...      ...   \n534       no             NaN              No      0.0      NaN   \n535       no              no             NaN      NaN      NaN   \n538       no              no             NaN      0.0       No   \n542       no             NaN             NaN      NaN       No   \n544      NaN             NaN              No      0.0       No   \n\n    furnishingstatus  \n0          furnished  \n1          furnished  \n2     semi-furnished  \n3          furnished  \n4                NaN  \n..               ...  \n534      unfurnished  \n535              NaN  \n538              NaN  \n542      unfurnished  \n544              NaN  \n\n[339 rows x 13 columns]",
      "text/html": "<div>\n<style scoped>\n    .dataframe tbody tr th:only-of-type {\n        vertical-align: middle;\n    }\n\n    .dataframe tbody tr th {\n        vertical-align: top;\n    }\n\n    .dataframe thead th {\n        text-align: right;\n    }\n</style>\n<table border=\"1\" class=\"dataframe\">\n  <thead>\n    <tr style=\"text-align: right;\">\n      <th></th>\n      <th>price</th>\n      <th>area</th>\n      <th>bedrooms</th>\n      <th>bathrooms</th>\n      <th>stories</th>\n      <th>mainroad</th>\n      <th>guestroom</th>\n      <th>basement</th>\n      <th>hotwaterheating</th>\n      <th>airconditioning</th>\n      <th>parking</th>\n      <th>prefarea</th>\n      <th>furnishingstatus</th>\n    </tr>\n  </thead>\n  <tbody>\n    <tr>\n      <th>0</th>\n      <td>13300000</td>\n      <td>7420.0</td>\n      <td>4.0</td>\n      <td>NaN</td>\n      <td>3.0</td>\n      <td>NaN</td>\n      <td>NaN</td>\n      <td>NaN</td>\n      <td>NaN</td>\n      <td>Yes</td>\n      <td>2.0</td>\n      <td>Yes</td>\n      <td>furnished</td>\n    </tr>\n    <tr>\n      <th>1</th>\n      <td>12250000</td>\n      <td>8960.0</td>\n      <td>NaN</td>\n      <td>4.0</td>\n      <td>4.0</td>\n      <td>yes</td>\n      <td>no</td>\n      <td>no</td>\n      <td>Nakko</td>\n      <td>Yes</td>\n      <td>NaN</td>\n      <td>No</td>\n      <td>furnished</td>\n    </tr>\n    <tr>\n      <th>2</th>\n      <td>12250000</td>\n      <td>9960.0</td>\n      <td>3.0</td>\n      <td>2.0</td>\n      <td>2.0</td>\n      <td>yes</td>\n      <td>NaN</td>\n      <td>yes</td>\n      <td>no</td>\n      <td>No</td>\n      <td>2.0</td>\n      <td>Yes</td>\n      <td>semi-furnished</td>\n    </tr>\n    <tr>\n      <th>3</th>\n      <td>12215000</td>\n      <td>7500.0</td>\n      <td>NaN</td>\n      <td>NaN</td>\n      <td>NaN</td>\n      <td>NaN</td>\n      <td>no</td>\n      <td>yes</td>\n      <td>no</td>\n      <td>Yes</td>\n      <td>3.0</td>\n      <td>Yes</td>\n      <td>furnished</td>\n    </tr>\n    <tr>\n      <th>4</th>\n      <td>11410000</td>\n      <td>7420.0</td>\n      <td>NaN</td>\n      <td>1.0</td>\n      <td>2.0</td>\n      <td>NaN</td>\n      <td>Of course</td>\n      <td>yes</td>\n      <td>NaN</td>\n      <td>Yes</td>\n      <td>2.0</td>\n      <td>No</td>\n      <td>NaN</td>\n    </tr>\n    <tr>\n      <th>...</th>\n      <td>...</td>\n      <td>...</td>\n      <td>...</td>\n      <td>...</td>\n      <td>...</td>\n      <td>...</td>\n      <td>...</td>\n      <td>...</td>\n      <td>...</td>\n      <td>...</td>\n      <td>...</td>\n      <td>...</td>\n      <td>...</td>\n    </tr>\n    <tr>\n      <th>534</th>\n      <td>2100000</td>\n      <td>3000.0</td>\n      <td>4.0</td>\n      <td>NaN</td>\n      <td>2.0</td>\n      <td>NaN</td>\n      <td>no</td>\n      <td>no</td>\n      <td>NaN</td>\n      <td>No</td>\n      <td>0.0</td>\n      <td>NaN</td>\n      <td>unfurnished</td>\n    </tr>\n    <tr>\n      <th>535</th>\n      <td>2100000</td>\n      <td>3360.0</td>\n      <td>2.0</td>\n      <td>1.0</td>\n      <td>1.0</td>\n      <td>yes</td>\n      <td>NaN</td>\n      <td>no</td>\n      <td>no</td>\n      <td>NaN</td>\n      <td>NaN</td>\n      <td>NaN</td>\n      <td>NaN</td>\n    </tr>\n    <tr>\n      <th>538</th>\n      <td>1890000</td>\n      <td>3649.0</td>\n      <td>2.0</td>\n      <td>1.0</td>\n      <td>NaN</td>\n      <td>NaN</td>\n      <td>no</td>\n      <td>no</td>\n      <td>no</td>\n      <td>NaN</td>\n      <td>0.0</td>\n      <td>No</td>\n      <td>NaN</td>\n    </tr>\n    <tr>\n      <th>542</th>\n      <td>1750000</td>\n      <td>3620.0</td>\n      <td>NaN</td>\n      <td>NaN</td>\n      <td>NaN</td>\n      <td>yes</td>\n      <td>no</td>\n      <td>no</td>\n      <td>NaN</td>\n      <td>NaN</td>\n      <td>NaN</td>\n      <td>No</td>\n      <td>unfurnished</td>\n    </tr>\n    <tr>\n      <th>544</th>\n      <td>1750000</td>\n      <td>3850.0</td>\n      <td>3.0</td>\n      <td>1.0</td>\n      <td>2.0</td>\n      <td>NaN</td>\n      <td>NaN</td>\n      <td>NaN</td>\n      <td>NaN</td>\n      <td>No</td>\n      <td>0.0</td>\n      <td>No</td>\n      <td>NaN</td>\n    </tr>\n  </tbody>\n</table>\n<p>339 rows × 13 columns</p>\n</div>"
     },
     "execution_count": 56,
     "metadata": {},
     "output_type": "execute_result"
    }
   ],
   "source": [
    "df"
   ],
   "metadata": {
    "collapsed": false,
    "ExecuteTime": {
     "end_time": "2023-10-19T16:49:53.390809800Z",
     "start_time": "2023-10-19T16:49:53.358787100Z"
    }
   },
   "id": "4af4262612e92985"
  },
  {
   "cell_type": "code",
   "execution_count": 57,
   "outputs": [
    {
     "data": {
      "text/plain": "array([nan, 'Nakko', 'no', 'Nope', 'yes', 'Nah', 'Y', 'n', 'Naaji',\n       'False', 'ille', 'N', \"['n']\", 'y'], dtype=object)"
     },
     "execution_count": 57,
     "metadata": {},
     "output_type": "execute_result"
    }
   ],
   "source": [
    "df[\"hotwaterheating\"].unique()"
   ],
   "metadata": {
    "collapsed": false,
    "ExecuteTime": {
     "end_time": "2023-10-19T16:50:42.341140800Z",
     "start_time": "2023-10-19T16:50:42.311958600Z"
    }
   },
   "id": "efc0db891cae38de"
  },
  {
   "cell_type": "code",
   "execution_count": 58,
   "outputs": [],
   "source": [
    "c={\"no\":\"No\",\"yes\":\"Yes\",\"Haan\":\"Yes\",\"Of course\":\"Yes\",\"Nakko\":\"No\",\"Nope\":\"No\",\"N\":\"No\",\"yep\":\"Yes\",\"y\":\"Yes\",\"True\":\"Yes\",\"n\":\"No\",\"['n']\":\"No\",\"False\":\"No\",\"Naaji\":\"No\",\"ille\":\"No\",\"Yo\":\"Yes\",\"Y\":\"Yes\",\"Nah\":\"Yes\"}"
   ],
   "metadata": {
    "collapsed": false,
    "ExecuteTime": {
     "end_time": "2023-10-19T16:53:30.113873600Z",
     "start_time": "2023-10-19T16:53:30.113366800Z"
    }
   },
   "id": "cf7ffc7df63986f8"
  },
  {
   "cell_type": "code",
   "execution_count": 59,
   "outputs": [],
   "source": [
    "df[\"hotwaterheating\"]=df[\"hotwaterheating\"].map(c)"
   ],
   "metadata": {
    "collapsed": false,
    "ExecuteTime": {
     "end_time": "2023-10-19T16:56:39.323291200Z",
     "start_time": "2023-10-19T16:56:39.260547200Z"
    }
   },
   "id": "33be5838c73ea114"
  },
  {
   "cell_type": "code",
   "execution_count": 60,
   "outputs": [
    {
     "data": {
      "text/plain": "        price    area  bedrooms  bathrooms  stories mainroad  guestroom  \\\n0    13300000  7420.0       4.0        NaN      3.0      NaN        NaN   \n1    12250000  8960.0       NaN        4.0      4.0      yes         no   \n2    12250000  9960.0       3.0        2.0      2.0      yes        NaN   \n3    12215000  7500.0       NaN        NaN      NaN      NaN         no   \n4    11410000  7420.0       NaN        1.0      2.0      NaN  Of course   \n..        ...     ...       ...        ...      ...      ...        ...   \n534   2100000  3000.0       4.0        NaN      2.0      NaN         no   \n535   2100000  3360.0       2.0        1.0      1.0      yes        NaN   \n538   1890000  3649.0       2.0        1.0      NaN      NaN         no   \n542   1750000  3620.0       NaN        NaN      NaN      yes         no   \n544   1750000  3850.0       3.0        1.0      2.0      NaN        NaN   \n\n    basement hotwaterheating airconditioning  parking prefarea  \\\n0        NaN             NaN             Yes      2.0      Yes   \n1         no              No             Yes      NaN       No   \n2        yes              No              No      2.0      Yes   \n3        yes              No             Yes      3.0      Yes   \n4        yes             NaN             Yes      2.0       No   \n..       ...             ...             ...      ...      ...   \n534       no             NaN              No      0.0      NaN   \n535       no              No             NaN      NaN      NaN   \n538       no              No             NaN      0.0       No   \n542       no             NaN             NaN      NaN       No   \n544      NaN             NaN              No      0.0       No   \n\n    furnishingstatus  \n0          furnished  \n1          furnished  \n2     semi-furnished  \n3          furnished  \n4                NaN  \n..               ...  \n534      unfurnished  \n535              NaN  \n538              NaN  \n542      unfurnished  \n544              NaN  \n\n[339 rows x 13 columns]",
      "text/html": "<div>\n<style scoped>\n    .dataframe tbody tr th:only-of-type {\n        vertical-align: middle;\n    }\n\n    .dataframe tbody tr th {\n        vertical-align: top;\n    }\n\n    .dataframe thead th {\n        text-align: right;\n    }\n</style>\n<table border=\"1\" class=\"dataframe\">\n  <thead>\n    <tr style=\"text-align: right;\">\n      <th></th>\n      <th>price</th>\n      <th>area</th>\n      <th>bedrooms</th>\n      <th>bathrooms</th>\n      <th>stories</th>\n      <th>mainroad</th>\n      <th>guestroom</th>\n      <th>basement</th>\n      <th>hotwaterheating</th>\n      <th>airconditioning</th>\n      <th>parking</th>\n      <th>prefarea</th>\n      <th>furnishingstatus</th>\n    </tr>\n  </thead>\n  <tbody>\n    <tr>\n      <th>0</th>\n      <td>13300000</td>\n      <td>7420.0</td>\n      <td>4.0</td>\n      <td>NaN</td>\n      <td>3.0</td>\n      <td>NaN</td>\n      <td>NaN</td>\n      <td>NaN</td>\n      <td>NaN</td>\n      <td>Yes</td>\n      <td>2.0</td>\n      <td>Yes</td>\n      <td>furnished</td>\n    </tr>\n    <tr>\n      <th>1</th>\n      <td>12250000</td>\n      <td>8960.0</td>\n      <td>NaN</td>\n      <td>4.0</td>\n      <td>4.0</td>\n      <td>yes</td>\n      <td>no</td>\n      <td>no</td>\n      <td>No</td>\n      <td>Yes</td>\n      <td>NaN</td>\n      <td>No</td>\n      <td>furnished</td>\n    </tr>\n    <tr>\n      <th>2</th>\n      <td>12250000</td>\n      <td>9960.0</td>\n      <td>3.0</td>\n      <td>2.0</td>\n      <td>2.0</td>\n      <td>yes</td>\n      <td>NaN</td>\n      <td>yes</td>\n      <td>No</td>\n      <td>No</td>\n      <td>2.0</td>\n      <td>Yes</td>\n      <td>semi-furnished</td>\n    </tr>\n    <tr>\n      <th>3</th>\n      <td>12215000</td>\n      <td>7500.0</td>\n      <td>NaN</td>\n      <td>NaN</td>\n      <td>NaN</td>\n      <td>NaN</td>\n      <td>no</td>\n      <td>yes</td>\n      <td>No</td>\n      <td>Yes</td>\n      <td>3.0</td>\n      <td>Yes</td>\n      <td>furnished</td>\n    </tr>\n    <tr>\n      <th>4</th>\n      <td>11410000</td>\n      <td>7420.0</td>\n      <td>NaN</td>\n      <td>1.0</td>\n      <td>2.0</td>\n      <td>NaN</td>\n      <td>Of course</td>\n      <td>yes</td>\n      <td>NaN</td>\n      <td>Yes</td>\n      <td>2.0</td>\n      <td>No</td>\n      <td>NaN</td>\n    </tr>\n    <tr>\n      <th>...</th>\n      <td>...</td>\n      <td>...</td>\n      <td>...</td>\n      <td>...</td>\n      <td>...</td>\n      <td>...</td>\n      <td>...</td>\n      <td>...</td>\n      <td>...</td>\n      <td>...</td>\n      <td>...</td>\n      <td>...</td>\n      <td>...</td>\n    </tr>\n    <tr>\n      <th>534</th>\n      <td>2100000</td>\n      <td>3000.0</td>\n      <td>4.0</td>\n      <td>NaN</td>\n      <td>2.0</td>\n      <td>NaN</td>\n      <td>no</td>\n      <td>no</td>\n      <td>NaN</td>\n      <td>No</td>\n      <td>0.0</td>\n      <td>NaN</td>\n      <td>unfurnished</td>\n    </tr>\n    <tr>\n      <th>535</th>\n      <td>2100000</td>\n      <td>3360.0</td>\n      <td>2.0</td>\n      <td>1.0</td>\n      <td>1.0</td>\n      <td>yes</td>\n      <td>NaN</td>\n      <td>no</td>\n      <td>No</td>\n      <td>NaN</td>\n      <td>NaN</td>\n      <td>NaN</td>\n      <td>NaN</td>\n    </tr>\n    <tr>\n      <th>538</th>\n      <td>1890000</td>\n      <td>3649.0</td>\n      <td>2.0</td>\n      <td>1.0</td>\n      <td>NaN</td>\n      <td>NaN</td>\n      <td>no</td>\n      <td>no</td>\n      <td>No</td>\n      <td>NaN</td>\n      <td>0.0</td>\n      <td>No</td>\n      <td>NaN</td>\n    </tr>\n    <tr>\n      <th>542</th>\n      <td>1750000</td>\n      <td>3620.0</td>\n      <td>NaN</td>\n      <td>NaN</td>\n      <td>NaN</td>\n      <td>yes</td>\n      <td>no</td>\n      <td>no</td>\n      <td>NaN</td>\n      <td>NaN</td>\n      <td>NaN</td>\n      <td>No</td>\n      <td>unfurnished</td>\n    </tr>\n    <tr>\n      <th>544</th>\n      <td>1750000</td>\n      <td>3850.0</td>\n      <td>3.0</td>\n      <td>1.0</td>\n      <td>2.0</td>\n      <td>NaN</td>\n      <td>NaN</td>\n      <td>NaN</td>\n      <td>NaN</td>\n      <td>No</td>\n      <td>0.0</td>\n      <td>No</td>\n      <td>NaN</td>\n    </tr>\n  </tbody>\n</table>\n<p>339 rows × 13 columns</p>\n</div>"
     },
     "execution_count": 60,
     "metadata": {},
     "output_type": "execute_result"
    }
   ],
   "source": [
    "df"
   ],
   "metadata": {
    "collapsed": false,
    "ExecuteTime": {
     "end_time": "2023-10-19T16:56:41.905580900Z",
     "start_time": "2023-10-19T16:56:41.857954200Z"
    }
   },
   "id": "5cc3a9ba93850536"
  },
  {
   "cell_type": "code",
   "execution_count": 62,
   "outputs": [
    {
     "data": {
      "text/plain": "array([nan, 'no', 'yes', 'N', 'Haanji', 'Naaji', 'y', 'Haan', 'False',\n       'Nakko', 'ille', 'Nah', 'True', 'yep', 'Nope', 'Indeed', \"['n']\",\n       'Of course', 'Y', 'Yo', 'n'], dtype=object)"
     },
     "execution_count": 62,
     "metadata": {},
     "output_type": "execute_result"
    }
   ],
   "source": [
    "df[\"basement\"].unique()"
   ],
   "metadata": {
    "collapsed": false,
    "ExecuteTime": {
     "end_time": "2023-10-19T16:58:39.999775900Z",
     "start_time": "2023-10-19T16:58:39.968125500Z"
    }
   },
   "id": "c23b67d3a6933bed"
  },
  {
   "cell_type": "code",
   "execution_count": 63,
   "outputs": [],
   "source": [
    "d={\"Haanji\":\"Yes\",\"no\":\"No\",\"yes\":\"Yes\",\"Haan\":\"Yes\",\"Of course\":\"Yes\",\"Nakko\":\"No\",\"Nope\":\"No\",\"N\":\"No\",\"yep\":\"Yes\",\"y\":\"Yes\",\"True\":\"Yes\",\"n\":\"No\",\"['n']\":\"No\",\"False\":\"No\",\"Naaji\":\"No\",\"ille\":\"No\",\"Yo\":\"Yes\",\"Y\":\"Yes\",\"Nah\":\"No\",\"Indeed\":\"Yes\"}"
   ],
   "metadata": {
    "collapsed": false,
    "ExecuteTime": {
     "end_time": "2023-10-19T17:02:17.971439400Z",
     "start_time": "2023-10-19T17:02:17.908932800Z"
    }
   },
   "id": "9a4b6a2a8fbe2d71"
  },
  {
   "cell_type": "code",
   "execution_count": 64,
   "outputs": [],
   "source": [
    "df[\"basement\"]=df[\"basement\"].map(d)"
   ],
   "metadata": {
    "collapsed": false,
    "ExecuteTime": {
     "end_time": "2023-10-19T17:02:51.760593300Z",
     "start_time": "2023-10-19T17:02:51.705436500Z"
    }
   },
   "id": "cfaabb1a2b0de997"
  },
  {
   "cell_type": "code",
   "execution_count": 65,
   "outputs": [
    {
     "data": {
      "text/plain": "        price    area  bedrooms  bathrooms  stories mainroad  guestroom  \\\n0    13300000  7420.0       4.0        NaN      3.0      NaN        NaN   \n1    12250000  8960.0       NaN        4.0      4.0      yes         no   \n2    12250000  9960.0       3.0        2.0      2.0      yes        NaN   \n3    12215000  7500.0       NaN        NaN      NaN      NaN         no   \n4    11410000  7420.0       NaN        1.0      2.0      NaN  Of course   \n..        ...     ...       ...        ...      ...      ...        ...   \n534   2100000  3000.0       4.0        NaN      2.0      NaN         no   \n535   2100000  3360.0       2.0        1.0      1.0      yes        NaN   \n538   1890000  3649.0       2.0        1.0      NaN      NaN         no   \n542   1750000  3620.0       NaN        NaN      NaN      yes         no   \n544   1750000  3850.0       3.0        1.0      2.0      NaN        NaN   \n\n    basement hotwaterheating airconditioning  parking prefarea  \\\n0        NaN             NaN             Yes      2.0      Yes   \n1         No              No             Yes      NaN       No   \n2        Yes              No              No      2.0      Yes   \n3        Yes              No             Yes      3.0      Yes   \n4        Yes             NaN             Yes      2.0       No   \n..       ...             ...             ...      ...      ...   \n534       No             NaN              No      0.0      NaN   \n535       No              No             NaN      NaN      NaN   \n538       No              No             NaN      0.0       No   \n542       No             NaN             NaN      NaN       No   \n544      NaN             NaN              No      0.0       No   \n\n    furnishingstatus  \n0          furnished  \n1          furnished  \n2     semi-furnished  \n3          furnished  \n4                NaN  \n..               ...  \n534      unfurnished  \n535              NaN  \n538              NaN  \n542      unfurnished  \n544              NaN  \n\n[339 rows x 13 columns]",
      "text/html": "<div>\n<style scoped>\n    .dataframe tbody tr th:only-of-type {\n        vertical-align: middle;\n    }\n\n    .dataframe tbody tr th {\n        vertical-align: top;\n    }\n\n    .dataframe thead th {\n        text-align: right;\n    }\n</style>\n<table border=\"1\" class=\"dataframe\">\n  <thead>\n    <tr style=\"text-align: right;\">\n      <th></th>\n      <th>price</th>\n      <th>area</th>\n      <th>bedrooms</th>\n      <th>bathrooms</th>\n      <th>stories</th>\n      <th>mainroad</th>\n      <th>guestroom</th>\n      <th>basement</th>\n      <th>hotwaterheating</th>\n      <th>airconditioning</th>\n      <th>parking</th>\n      <th>prefarea</th>\n      <th>furnishingstatus</th>\n    </tr>\n  </thead>\n  <tbody>\n    <tr>\n      <th>0</th>\n      <td>13300000</td>\n      <td>7420.0</td>\n      <td>4.0</td>\n      <td>NaN</td>\n      <td>3.0</td>\n      <td>NaN</td>\n      <td>NaN</td>\n      <td>NaN</td>\n      <td>NaN</td>\n      <td>Yes</td>\n      <td>2.0</td>\n      <td>Yes</td>\n      <td>furnished</td>\n    </tr>\n    <tr>\n      <th>1</th>\n      <td>12250000</td>\n      <td>8960.0</td>\n      <td>NaN</td>\n      <td>4.0</td>\n      <td>4.0</td>\n      <td>yes</td>\n      <td>no</td>\n      <td>No</td>\n      <td>No</td>\n      <td>Yes</td>\n      <td>NaN</td>\n      <td>No</td>\n      <td>furnished</td>\n    </tr>\n    <tr>\n      <th>2</th>\n      <td>12250000</td>\n      <td>9960.0</td>\n      <td>3.0</td>\n      <td>2.0</td>\n      <td>2.0</td>\n      <td>yes</td>\n      <td>NaN</td>\n      <td>Yes</td>\n      <td>No</td>\n      <td>No</td>\n      <td>2.0</td>\n      <td>Yes</td>\n      <td>semi-furnished</td>\n    </tr>\n    <tr>\n      <th>3</th>\n      <td>12215000</td>\n      <td>7500.0</td>\n      <td>NaN</td>\n      <td>NaN</td>\n      <td>NaN</td>\n      <td>NaN</td>\n      <td>no</td>\n      <td>Yes</td>\n      <td>No</td>\n      <td>Yes</td>\n      <td>3.0</td>\n      <td>Yes</td>\n      <td>furnished</td>\n    </tr>\n    <tr>\n      <th>4</th>\n      <td>11410000</td>\n      <td>7420.0</td>\n      <td>NaN</td>\n      <td>1.0</td>\n      <td>2.0</td>\n      <td>NaN</td>\n      <td>Of course</td>\n      <td>Yes</td>\n      <td>NaN</td>\n      <td>Yes</td>\n      <td>2.0</td>\n      <td>No</td>\n      <td>NaN</td>\n    </tr>\n    <tr>\n      <th>...</th>\n      <td>...</td>\n      <td>...</td>\n      <td>...</td>\n      <td>...</td>\n      <td>...</td>\n      <td>...</td>\n      <td>...</td>\n      <td>...</td>\n      <td>...</td>\n      <td>...</td>\n      <td>...</td>\n      <td>...</td>\n      <td>...</td>\n    </tr>\n    <tr>\n      <th>534</th>\n      <td>2100000</td>\n      <td>3000.0</td>\n      <td>4.0</td>\n      <td>NaN</td>\n      <td>2.0</td>\n      <td>NaN</td>\n      <td>no</td>\n      <td>No</td>\n      <td>NaN</td>\n      <td>No</td>\n      <td>0.0</td>\n      <td>NaN</td>\n      <td>unfurnished</td>\n    </tr>\n    <tr>\n      <th>535</th>\n      <td>2100000</td>\n      <td>3360.0</td>\n      <td>2.0</td>\n      <td>1.0</td>\n      <td>1.0</td>\n      <td>yes</td>\n      <td>NaN</td>\n      <td>No</td>\n      <td>No</td>\n      <td>NaN</td>\n      <td>NaN</td>\n      <td>NaN</td>\n      <td>NaN</td>\n    </tr>\n    <tr>\n      <th>538</th>\n      <td>1890000</td>\n      <td>3649.0</td>\n      <td>2.0</td>\n      <td>1.0</td>\n      <td>NaN</td>\n      <td>NaN</td>\n      <td>no</td>\n      <td>No</td>\n      <td>No</td>\n      <td>NaN</td>\n      <td>0.0</td>\n      <td>No</td>\n      <td>NaN</td>\n    </tr>\n    <tr>\n      <th>542</th>\n      <td>1750000</td>\n      <td>3620.0</td>\n      <td>NaN</td>\n      <td>NaN</td>\n      <td>NaN</td>\n      <td>yes</td>\n      <td>no</td>\n      <td>No</td>\n      <td>NaN</td>\n      <td>NaN</td>\n      <td>NaN</td>\n      <td>No</td>\n      <td>unfurnished</td>\n    </tr>\n    <tr>\n      <th>544</th>\n      <td>1750000</td>\n      <td>3850.0</td>\n      <td>3.0</td>\n      <td>1.0</td>\n      <td>2.0</td>\n      <td>NaN</td>\n      <td>NaN</td>\n      <td>NaN</td>\n      <td>NaN</td>\n      <td>No</td>\n      <td>0.0</td>\n      <td>No</td>\n      <td>NaN</td>\n    </tr>\n  </tbody>\n</table>\n<p>339 rows × 13 columns</p>\n</div>"
     },
     "execution_count": 65,
     "metadata": {},
     "output_type": "execute_result"
    }
   ],
   "source": [
    "df"
   ],
   "metadata": {
    "collapsed": false,
    "ExecuteTime": {
     "end_time": "2023-10-19T17:02:53.466619600Z",
     "start_time": "2023-10-19T17:02:53.387873600Z"
    }
   },
   "id": "4440297ac290dcbc"
  },
  {
   "cell_type": "code",
   "execution_count": 66,
   "outputs": [
    {
     "data": {
      "text/plain": "array([nan, 'no', 'Of course', 'yes', 'ille', 'y', 'Yo', 'Nakko', 'Y',\n       'Naaji', 'n', 'False', \"['n']\", 'Nah', 'Haanji', 'True', 'N',\n       'Nope', 'Indeed', 'yep'], dtype=object)"
     },
     "execution_count": 66,
     "metadata": {},
     "output_type": "execute_result"
    }
   ],
   "source": [
    "df[\"guestroom\"].unique()"
   ],
   "metadata": {
    "collapsed": false,
    "ExecuteTime": {
     "end_time": "2023-10-19T17:03:20.160479200Z",
     "start_time": "2023-10-19T17:03:20.081338600Z"
    }
   },
   "id": "54b3bc09da2540c8"
  },
  {
   "cell_type": "code",
   "execution_count": 67,
   "outputs": [],
   "source": [
    "e={\"Haanji\":\"Yes\",\"no\":\"No\",\"yes\":\"Yes\",\"Haan\":\"Yes\",\"Of course\":\"Yes\",\"Nakko\":\"No\",\"Nope\":\"No\",\"N\":\"No\",\"yep\":\"Yes\",\"y\":\"Yes\",\"True\":\"Yes\",\"n\":\"No\",\"['n']\":\"No\",\"False\":\"No\",\"Naaji\":\"No\",\"ille\":\"No\",\"Yo\":\"Yes\",\"Y\":\"Yes\",\"Nah\":\"No\",\"Indeed\":\"Yes\"}"
   ],
   "metadata": {
    "collapsed": false,
    "ExecuteTime": {
     "end_time": "2023-10-19T17:05:48.919358200Z",
     "start_time": "2023-10-19T17:05:48.846724700Z"
    }
   },
   "id": "4a0eb21ff45e330b"
  },
  {
   "cell_type": "code",
   "execution_count": 68,
   "outputs": [],
   "source": [
    "df[\"guestroom\"]=df[\"guestroom\"].map(e)"
   ],
   "metadata": {
    "collapsed": false,
    "ExecuteTime": {
     "end_time": "2023-10-19T17:06:15.320941700Z",
     "start_time": "2023-10-19T17:06:15.264064800Z"
    }
   },
   "id": "293c84ddd58812fd"
  },
  {
   "cell_type": "code",
   "execution_count": 69,
   "outputs": [
    {
     "data": {
      "text/plain": "        price    area  bedrooms  bathrooms  stories mainroad guestroom  \\\n0    13300000  7420.0       4.0        NaN      3.0      NaN       NaN   \n1    12250000  8960.0       NaN        4.0      4.0      yes        No   \n2    12250000  9960.0       3.0        2.0      2.0      yes       NaN   \n3    12215000  7500.0       NaN        NaN      NaN      NaN        No   \n4    11410000  7420.0       NaN        1.0      2.0      NaN       Yes   \n..        ...     ...       ...        ...      ...      ...       ...   \n534   2100000  3000.0       4.0        NaN      2.0      NaN        No   \n535   2100000  3360.0       2.0        1.0      1.0      yes       NaN   \n538   1890000  3649.0       2.0        1.0      NaN      NaN        No   \n542   1750000  3620.0       NaN        NaN      NaN      yes        No   \n544   1750000  3850.0       3.0        1.0      2.0      NaN       NaN   \n\n    basement hotwaterheating airconditioning  parking prefarea  \\\n0        NaN             NaN             Yes      2.0      Yes   \n1         No              No             Yes      NaN       No   \n2        Yes              No              No      2.0      Yes   \n3        Yes              No             Yes      3.0      Yes   \n4        Yes             NaN             Yes      2.0       No   \n..       ...             ...             ...      ...      ...   \n534       No             NaN              No      0.0      NaN   \n535       No              No             NaN      NaN      NaN   \n538       No              No             NaN      0.0       No   \n542       No             NaN             NaN      NaN       No   \n544      NaN             NaN              No      0.0       No   \n\n    furnishingstatus  \n0          furnished  \n1          furnished  \n2     semi-furnished  \n3          furnished  \n4                NaN  \n..               ...  \n534      unfurnished  \n535              NaN  \n538              NaN  \n542      unfurnished  \n544              NaN  \n\n[339 rows x 13 columns]",
      "text/html": "<div>\n<style scoped>\n    .dataframe tbody tr th:only-of-type {\n        vertical-align: middle;\n    }\n\n    .dataframe tbody tr th {\n        vertical-align: top;\n    }\n\n    .dataframe thead th {\n        text-align: right;\n    }\n</style>\n<table border=\"1\" class=\"dataframe\">\n  <thead>\n    <tr style=\"text-align: right;\">\n      <th></th>\n      <th>price</th>\n      <th>area</th>\n      <th>bedrooms</th>\n      <th>bathrooms</th>\n      <th>stories</th>\n      <th>mainroad</th>\n      <th>guestroom</th>\n      <th>basement</th>\n      <th>hotwaterheating</th>\n      <th>airconditioning</th>\n      <th>parking</th>\n      <th>prefarea</th>\n      <th>furnishingstatus</th>\n    </tr>\n  </thead>\n  <tbody>\n    <tr>\n      <th>0</th>\n      <td>13300000</td>\n      <td>7420.0</td>\n      <td>4.0</td>\n      <td>NaN</td>\n      <td>3.0</td>\n      <td>NaN</td>\n      <td>NaN</td>\n      <td>NaN</td>\n      <td>NaN</td>\n      <td>Yes</td>\n      <td>2.0</td>\n      <td>Yes</td>\n      <td>furnished</td>\n    </tr>\n    <tr>\n      <th>1</th>\n      <td>12250000</td>\n      <td>8960.0</td>\n      <td>NaN</td>\n      <td>4.0</td>\n      <td>4.0</td>\n      <td>yes</td>\n      <td>No</td>\n      <td>No</td>\n      <td>No</td>\n      <td>Yes</td>\n      <td>NaN</td>\n      <td>No</td>\n      <td>furnished</td>\n    </tr>\n    <tr>\n      <th>2</th>\n      <td>12250000</td>\n      <td>9960.0</td>\n      <td>3.0</td>\n      <td>2.0</td>\n      <td>2.0</td>\n      <td>yes</td>\n      <td>NaN</td>\n      <td>Yes</td>\n      <td>No</td>\n      <td>No</td>\n      <td>2.0</td>\n      <td>Yes</td>\n      <td>semi-furnished</td>\n    </tr>\n    <tr>\n      <th>3</th>\n      <td>12215000</td>\n      <td>7500.0</td>\n      <td>NaN</td>\n      <td>NaN</td>\n      <td>NaN</td>\n      <td>NaN</td>\n      <td>No</td>\n      <td>Yes</td>\n      <td>No</td>\n      <td>Yes</td>\n      <td>3.0</td>\n      <td>Yes</td>\n      <td>furnished</td>\n    </tr>\n    <tr>\n      <th>4</th>\n      <td>11410000</td>\n      <td>7420.0</td>\n      <td>NaN</td>\n      <td>1.0</td>\n      <td>2.0</td>\n      <td>NaN</td>\n      <td>Yes</td>\n      <td>Yes</td>\n      <td>NaN</td>\n      <td>Yes</td>\n      <td>2.0</td>\n      <td>No</td>\n      <td>NaN</td>\n    </tr>\n    <tr>\n      <th>...</th>\n      <td>...</td>\n      <td>...</td>\n      <td>...</td>\n      <td>...</td>\n      <td>...</td>\n      <td>...</td>\n      <td>...</td>\n      <td>...</td>\n      <td>...</td>\n      <td>...</td>\n      <td>...</td>\n      <td>...</td>\n      <td>...</td>\n    </tr>\n    <tr>\n      <th>534</th>\n      <td>2100000</td>\n      <td>3000.0</td>\n      <td>4.0</td>\n      <td>NaN</td>\n      <td>2.0</td>\n      <td>NaN</td>\n      <td>No</td>\n      <td>No</td>\n      <td>NaN</td>\n      <td>No</td>\n      <td>0.0</td>\n      <td>NaN</td>\n      <td>unfurnished</td>\n    </tr>\n    <tr>\n      <th>535</th>\n      <td>2100000</td>\n      <td>3360.0</td>\n      <td>2.0</td>\n      <td>1.0</td>\n      <td>1.0</td>\n      <td>yes</td>\n      <td>NaN</td>\n      <td>No</td>\n      <td>No</td>\n      <td>NaN</td>\n      <td>NaN</td>\n      <td>NaN</td>\n      <td>NaN</td>\n    </tr>\n    <tr>\n      <th>538</th>\n      <td>1890000</td>\n      <td>3649.0</td>\n      <td>2.0</td>\n      <td>1.0</td>\n      <td>NaN</td>\n      <td>NaN</td>\n      <td>No</td>\n      <td>No</td>\n      <td>No</td>\n      <td>NaN</td>\n      <td>0.0</td>\n      <td>No</td>\n      <td>NaN</td>\n    </tr>\n    <tr>\n      <th>542</th>\n      <td>1750000</td>\n      <td>3620.0</td>\n      <td>NaN</td>\n      <td>NaN</td>\n      <td>NaN</td>\n      <td>yes</td>\n      <td>No</td>\n      <td>No</td>\n      <td>NaN</td>\n      <td>NaN</td>\n      <td>NaN</td>\n      <td>No</td>\n      <td>unfurnished</td>\n    </tr>\n    <tr>\n      <th>544</th>\n      <td>1750000</td>\n      <td>3850.0</td>\n      <td>3.0</td>\n      <td>1.0</td>\n      <td>2.0</td>\n      <td>NaN</td>\n      <td>NaN</td>\n      <td>NaN</td>\n      <td>NaN</td>\n      <td>No</td>\n      <td>0.0</td>\n      <td>No</td>\n      <td>NaN</td>\n    </tr>\n  </tbody>\n</table>\n<p>339 rows × 13 columns</p>\n</div>"
     },
     "execution_count": 69,
     "metadata": {},
     "output_type": "execute_result"
    }
   ],
   "source": [
    "df"
   ],
   "metadata": {
    "collapsed": false,
    "ExecuteTime": {
     "end_time": "2023-10-19T17:06:16.628782200Z",
     "start_time": "2023-10-19T17:06:16.533954100Z"
    }
   },
   "id": "1cbb2fa3678d4b6e"
  },
  {
   "cell_type": "code",
   "execution_count": 71,
   "outputs": [
    {
     "data": {
      "text/plain": "array([nan, 'yes', 'Of course', 'Indeed', 'yep', 'True', 'Y', \"['y']\",\n       'y', 'Yo', 'no', 'Haanji', 'Haan', 'Nakko', 'Nope'], dtype=object)"
     },
     "execution_count": 71,
     "metadata": {},
     "output_type": "execute_result"
    }
   ],
   "source": [
    "df[\"mainroad\"].unique()"
   ],
   "metadata": {
    "collapsed": false,
    "ExecuteTime": {
     "end_time": "2023-10-19T17:07:12.112087800Z",
     "start_time": "2023-10-19T17:07:12.064696900Z"
    }
   },
   "id": "b782ba58fc4b064a"
  },
  {
   "cell_type": "code",
   "execution_count": 72,
   "outputs": [],
   "source": [
    "f={\"Haanji\":\"Yes\",\"no\":\"No\",\"yes\":\"Yes\",\"Haan\":\"Yes\",\"Of course\":\"Yes\",\"Nakko\":\"No\",\"Nope\":\"No\",\"N\":\"No\",\"yep\":\"Yes\",\"y\":\"Yes\",\"True\":\"Yes\",\"n\":\"No\",\"['n']\":\"No\",\"False\":\"No\",\"Naaji\":\"No\",\"ille\":\"No\",\"Yo\":\"Yes\",\"Y\":\"Yes\",\"Nah\":\"No\",\"Indeed\":\"Yes\",\"['y']\":\"Yes\"}"
   ],
   "metadata": {
    "collapsed": false,
    "ExecuteTime": {
     "end_time": "2023-10-19T17:09:27.898801300Z",
     "start_time": "2023-10-19T17:09:27.872124100Z"
    }
   },
   "id": "10fc7d44ac98104f"
  },
  {
   "cell_type": "code",
   "execution_count": 73,
   "outputs": [],
   "source": [
    "df[\"mainroad\"]=df[\"mainroad\"].map(f)"
   ],
   "metadata": {
    "collapsed": false,
    "ExecuteTime": {
     "end_time": "2023-10-19T17:09:42.793202100Z",
     "start_time": "2023-10-19T17:09:42.730165200Z"
    }
   },
   "id": "de81969322c9f655"
  },
  {
   "cell_type": "code",
   "execution_count": 74,
   "outputs": [
    {
     "data": {
      "text/plain": "        price    area  bedrooms  bathrooms  stories mainroad guestroom  \\\n0    13300000  7420.0       4.0        NaN      3.0      NaN       NaN   \n1    12250000  8960.0       NaN        4.0      4.0      Yes        No   \n2    12250000  9960.0       3.0        2.0      2.0      Yes       NaN   \n3    12215000  7500.0       NaN        NaN      NaN      NaN        No   \n4    11410000  7420.0       NaN        1.0      2.0      NaN       Yes   \n..        ...     ...       ...        ...      ...      ...       ...   \n534   2100000  3000.0       4.0        NaN      2.0      NaN        No   \n535   2100000  3360.0       2.0        1.0      1.0      Yes       NaN   \n538   1890000  3649.0       2.0        1.0      NaN      NaN        No   \n542   1750000  3620.0       NaN        NaN      NaN      Yes        No   \n544   1750000  3850.0       3.0        1.0      2.0      NaN       NaN   \n\n    basement hotwaterheating airconditioning  parking prefarea  \\\n0        NaN             NaN             Yes      2.0      Yes   \n1         No              No             Yes      NaN       No   \n2        Yes              No              No      2.0      Yes   \n3        Yes              No             Yes      3.0      Yes   \n4        Yes             NaN             Yes      2.0       No   \n..       ...             ...             ...      ...      ...   \n534       No             NaN              No      0.0      NaN   \n535       No              No             NaN      NaN      NaN   \n538       No              No             NaN      0.0       No   \n542       No             NaN             NaN      NaN       No   \n544      NaN             NaN              No      0.0       No   \n\n    furnishingstatus  \n0          furnished  \n1          furnished  \n2     semi-furnished  \n3          furnished  \n4                NaN  \n..               ...  \n534      unfurnished  \n535              NaN  \n538              NaN  \n542      unfurnished  \n544              NaN  \n\n[339 rows x 13 columns]",
      "text/html": "<div>\n<style scoped>\n    .dataframe tbody tr th:only-of-type {\n        vertical-align: middle;\n    }\n\n    .dataframe tbody tr th {\n        vertical-align: top;\n    }\n\n    .dataframe thead th {\n        text-align: right;\n    }\n</style>\n<table border=\"1\" class=\"dataframe\">\n  <thead>\n    <tr style=\"text-align: right;\">\n      <th></th>\n      <th>price</th>\n      <th>area</th>\n      <th>bedrooms</th>\n      <th>bathrooms</th>\n      <th>stories</th>\n      <th>mainroad</th>\n      <th>guestroom</th>\n      <th>basement</th>\n      <th>hotwaterheating</th>\n      <th>airconditioning</th>\n      <th>parking</th>\n      <th>prefarea</th>\n      <th>furnishingstatus</th>\n    </tr>\n  </thead>\n  <tbody>\n    <tr>\n      <th>0</th>\n      <td>13300000</td>\n      <td>7420.0</td>\n      <td>4.0</td>\n      <td>NaN</td>\n      <td>3.0</td>\n      <td>NaN</td>\n      <td>NaN</td>\n      <td>NaN</td>\n      <td>NaN</td>\n      <td>Yes</td>\n      <td>2.0</td>\n      <td>Yes</td>\n      <td>furnished</td>\n    </tr>\n    <tr>\n      <th>1</th>\n      <td>12250000</td>\n      <td>8960.0</td>\n      <td>NaN</td>\n      <td>4.0</td>\n      <td>4.0</td>\n      <td>Yes</td>\n      <td>No</td>\n      <td>No</td>\n      <td>No</td>\n      <td>Yes</td>\n      <td>NaN</td>\n      <td>No</td>\n      <td>furnished</td>\n    </tr>\n    <tr>\n      <th>2</th>\n      <td>12250000</td>\n      <td>9960.0</td>\n      <td>3.0</td>\n      <td>2.0</td>\n      <td>2.0</td>\n      <td>Yes</td>\n      <td>NaN</td>\n      <td>Yes</td>\n      <td>No</td>\n      <td>No</td>\n      <td>2.0</td>\n      <td>Yes</td>\n      <td>semi-furnished</td>\n    </tr>\n    <tr>\n      <th>3</th>\n      <td>12215000</td>\n      <td>7500.0</td>\n      <td>NaN</td>\n      <td>NaN</td>\n      <td>NaN</td>\n      <td>NaN</td>\n      <td>No</td>\n      <td>Yes</td>\n      <td>No</td>\n      <td>Yes</td>\n      <td>3.0</td>\n      <td>Yes</td>\n      <td>furnished</td>\n    </tr>\n    <tr>\n      <th>4</th>\n      <td>11410000</td>\n      <td>7420.0</td>\n      <td>NaN</td>\n      <td>1.0</td>\n      <td>2.0</td>\n      <td>NaN</td>\n      <td>Yes</td>\n      <td>Yes</td>\n      <td>NaN</td>\n      <td>Yes</td>\n      <td>2.0</td>\n      <td>No</td>\n      <td>NaN</td>\n    </tr>\n    <tr>\n      <th>...</th>\n      <td>...</td>\n      <td>...</td>\n      <td>...</td>\n      <td>...</td>\n      <td>...</td>\n      <td>...</td>\n      <td>...</td>\n      <td>...</td>\n      <td>...</td>\n      <td>...</td>\n      <td>...</td>\n      <td>...</td>\n      <td>...</td>\n    </tr>\n    <tr>\n      <th>534</th>\n      <td>2100000</td>\n      <td>3000.0</td>\n      <td>4.0</td>\n      <td>NaN</td>\n      <td>2.0</td>\n      <td>NaN</td>\n      <td>No</td>\n      <td>No</td>\n      <td>NaN</td>\n      <td>No</td>\n      <td>0.0</td>\n      <td>NaN</td>\n      <td>unfurnished</td>\n    </tr>\n    <tr>\n      <th>535</th>\n      <td>2100000</td>\n      <td>3360.0</td>\n      <td>2.0</td>\n      <td>1.0</td>\n      <td>1.0</td>\n      <td>Yes</td>\n      <td>NaN</td>\n      <td>No</td>\n      <td>No</td>\n      <td>NaN</td>\n      <td>NaN</td>\n      <td>NaN</td>\n      <td>NaN</td>\n    </tr>\n    <tr>\n      <th>538</th>\n      <td>1890000</td>\n      <td>3649.0</td>\n      <td>2.0</td>\n      <td>1.0</td>\n      <td>NaN</td>\n      <td>NaN</td>\n      <td>No</td>\n      <td>No</td>\n      <td>No</td>\n      <td>NaN</td>\n      <td>0.0</td>\n      <td>No</td>\n      <td>NaN</td>\n    </tr>\n    <tr>\n      <th>542</th>\n      <td>1750000</td>\n      <td>3620.0</td>\n      <td>NaN</td>\n      <td>NaN</td>\n      <td>NaN</td>\n      <td>Yes</td>\n      <td>No</td>\n      <td>No</td>\n      <td>NaN</td>\n      <td>NaN</td>\n      <td>NaN</td>\n      <td>No</td>\n      <td>unfurnished</td>\n    </tr>\n    <tr>\n      <th>544</th>\n      <td>1750000</td>\n      <td>3850.0</td>\n      <td>3.0</td>\n      <td>1.0</td>\n      <td>2.0</td>\n      <td>NaN</td>\n      <td>NaN</td>\n      <td>NaN</td>\n      <td>NaN</td>\n      <td>No</td>\n      <td>0.0</td>\n      <td>No</td>\n      <td>NaN</td>\n    </tr>\n  </tbody>\n</table>\n<p>339 rows × 13 columns</p>\n</div>"
     },
     "execution_count": 74,
     "metadata": {},
     "output_type": "execute_result"
    }
   ],
   "source": [
    "df"
   ],
   "metadata": {
    "collapsed": false,
    "ExecuteTime": {
     "end_time": "2023-10-19T17:09:44.542499200Z",
     "start_time": "2023-10-19T17:09:44.463691Z"
    }
   },
   "id": "91ce4beacd402446"
  },
  {
   "cell_type": "markdown",
   "source": [
    "dropping rows where bedrooms are not mentioned"
   ],
   "metadata": {
    "collapsed": false
   },
   "id": "e2fcdf26cd75a26a"
  },
  {
   "cell_type": "code",
   "execution_count": 75,
   "outputs": [],
   "source": [
    "df.dropna(subset=\"bedrooms\",inplace=True)"
   ],
   "metadata": {
    "collapsed": false,
    "ExecuteTime": {
     "end_time": "2023-10-19T17:13:20.416249100Z",
     "start_time": "2023-10-19T17:13:20.336203200Z"
    }
   },
   "id": "582a1557bd44e017"
  },
  {
   "cell_type": "code",
   "execution_count": 76,
   "outputs": [
    {
     "data": {
      "text/plain": "        price     area  bedrooms  bathrooms  stories mainroad guestroom  \\\n0    13300000   7420.0       4.0        NaN      3.0      NaN       NaN   \n2    12250000   9960.0       3.0        2.0      2.0      Yes       NaN   \n7    10150000  16200.0       5.0        3.0      2.0      NaN       NaN   \n9     9800000   5750.0       3.0        2.0      4.0      NaN       NaN   \n10    9800000  13200.0       3.0        1.0      2.0      Yes        No   \n..        ...      ...       ...        ...      ...      ...       ...   \n533   2100000   2400.0       3.0        1.0      NaN      Yes       NaN   \n534   2100000   3000.0       4.0        NaN      2.0      NaN        No   \n535   2100000   3360.0       2.0        1.0      1.0      Yes       NaN   \n538   1890000   3649.0       2.0        1.0      NaN      NaN        No   \n544   1750000   3850.0       3.0        1.0      2.0      NaN       NaN   \n\n    basement hotwaterheating airconditioning  parking prefarea  \\\n0        NaN             NaN             Yes      2.0      Yes   \n2        Yes              No              No      2.0      Yes   \n7         No             NaN              No      0.0       No   \n9         No              No             Yes      1.0      NaN   \n10       NaN              No             NaN      2.0      Yes   \n..       ...             ...             ...      ...      ...   \n533       No              No             NaN      0.0      NaN   \n534       No             NaN              No      0.0      NaN   \n535       No              No             NaN      NaN      NaN   \n538       No              No             NaN      0.0       No   \n544      NaN             NaN              No      0.0       No   \n\n    furnishingstatus  \n0          furnished  \n2     semi-furnished  \n7                NaN  \n9        unfurnished  \n10               NaN  \n..               ...  \n533      unfurnished  \n534      unfurnished  \n535              NaN  \n538              NaN  \n544              NaN  \n\n[227 rows x 13 columns]",
      "text/html": "<div>\n<style scoped>\n    .dataframe tbody tr th:only-of-type {\n        vertical-align: middle;\n    }\n\n    .dataframe tbody tr th {\n        vertical-align: top;\n    }\n\n    .dataframe thead th {\n        text-align: right;\n    }\n</style>\n<table border=\"1\" class=\"dataframe\">\n  <thead>\n    <tr style=\"text-align: right;\">\n      <th></th>\n      <th>price</th>\n      <th>area</th>\n      <th>bedrooms</th>\n      <th>bathrooms</th>\n      <th>stories</th>\n      <th>mainroad</th>\n      <th>guestroom</th>\n      <th>basement</th>\n      <th>hotwaterheating</th>\n      <th>airconditioning</th>\n      <th>parking</th>\n      <th>prefarea</th>\n      <th>furnishingstatus</th>\n    </tr>\n  </thead>\n  <tbody>\n    <tr>\n      <th>0</th>\n      <td>13300000</td>\n      <td>7420.0</td>\n      <td>4.0</td>\n      <td>NaN</td>\n      <td>3.0</td>\n      <td>NaN</td>\n      <td>NaN</td>\n      <td>NaN</td>\n      <td>NaN</td>\n      <td>Yes</td>\n      <td>2.0</td>\n      <td>Yes</td>\n      <td>furnished</td>\n    </tr>\n    <tr>\n      <th>2</th>\n      <td>12250000</td>\n      <td>9960.0</td>\n      <td>3.0</td>\n      <td>2.0</td>\n      <td>2.0</td>\n      <td>Yes</td>\n      <td>NaN</td>\n      <td>Yes</td>\n      <td>No</td>\n      <td>No</td>\n      <td>2.0</td>\n      <td>Yes</td>\n      <td>semi-furnished</td>\n    </tr>\n    <tr>\n      <th>7</th>\n      <td>10150000</td>\n      <td>16200.0</td>\n      <td>5.0</td>\n      <td>3.0</td>\n      <td>2.0</td>\n      <td>NaN</td>\n      <td>NaN</td>\n      <td>No</td>\n      <td>NaN</td>\n      <td>No</td>\n      <td>0.0</td>\n      <td>No</td>\n      <td>NaN</td>\n    </tr>\n    <tr>\n      <th>9</th>\n      <td>9800000</td>\n      <td>5750.0</td>\n      <td>3.0</td>\n      <td>2.0</td>\n      <td>4.0</td>\n      <td>NaN</td>\n      <td>NaN</td>\n      <td>No</td>\n      <td>No</td>\n      <td>Yes</td>\n      <td>1.0</td>\n      <td>NaN</td>\n      <td>unfurnished</td>\n    </tr>\n    <tr>\n      <th>10</th>\n      <td>9800000</td>\n      <td>13200.0</td>\n      <td>3.0</td>\n      <td>1.0</td>\n      <td>2.0</td>\n      <td>Yes</td>\n      <td>No</td>\n      <td>NaN</td>\n      <td>No</td>\n      <td>NaN</td>\n      <td>2.0</td>\n      <td>Yes</td>\n      <td>NaN</td>\n    </tr>\n    <tr>\n      <th>...</th>\n      <td>...</td>\n      <td>...</td>\n      <td>...</td>\n      <td>...</td>\n      <td>...</td>\n      <td>...</td>\n      <td>...</td>\n      <td>...</td>\n      <td>...</td>\n      <td>...</td>\n      <td>...</td>\n      <td>...</td>\n      <td>...</td>\n    </tr>\n    <tr>\n      <th>533</th>\n      <td>2100000</td>\n      <td>2400.0</td>\n      <td>3.0</td>\n      <td>1.0</td>\n      <td>NaN</td>\n      <td>Yes</td>\n      <td>NaN</td>\n      <td>No</td>\n      <td>No</td>\n      <td>NaN</td>\n      <td>0.0</td>\n      <td>NaN</td>\n      <td>unfurnished</td>\n    </tr>\n    <tr>\n      <th>534</th>\n      <td>2100000</td>\n      <td>3000.0</td>\n      <td>4.0</td>\n      <td>NaN</td>\n      <td>2.0</td>\n      <td>NaN</td>\n      <td>No</td>\n      <td>No</td>\n      <td>NaN</td>\n      <td>No</td>\n      <td>0.0</td>\n      <td>NaN</td>\n      <td>unfurnished</td>\n    </tr>\n    <tr>\n      <th>535</th>\n      <td>2100000</td>\n      <td>3360.0</td>\n      <td>2.0</td>\n      <td>1.0</td>\n      <td>1.0</td>\n      <td>Yes</td>\n      <td>NaN</td>\n      <td>No</td>\n      <td>No</td>\n      <td>NaN</td>\n      <td>NaN</td>\n      <td>NaN</td>\n      <td>NaN</td>\n    </tr>\n    <tr>\n      <th>538</th>\n      <td>1890000</td>\n      <td>3649.0</td>\n      <td>2.0</td>\n      <td>1.0</td>\n      <td>NaN</td>\n      <td>NaN</td>\n      <td>No</td>\n      <td>No</td>\n      <td>No</td>\n      <td>NaN</td>\n      <td>0.0</td>\n      <td>No</td>\n      <td>NaN</td>\n    </tr>\n    <tr>\n      <th>544</th>\n      <td>1750000</td>\n      <td>3850.0</td>\n      <td>3.0</td>\n      <td>1.0</td>\n      <td>2.0</td>\n      <td>NaN</td>\n      <td>NaN</td>\n      <td>NaN</td>\n      <td>NaN</td>\n      <td>No</td>\n      <td>0.0</td>\n      <td>No</td>\n      <td>NaN</td>\n    </tr>\n  </tbody>\n</table>\n<p>227 rows × 13 columns</p>\n</div>"
     },
     "execution_count": 76,
     "metadata": {},
     "output_type": "execute_result"
    }
   ],
   "source": [
    "df"
   ],
   "metadata": {
    "collapsed": false,
    "ExecuteTime": {
     "end_time": "2023-10-19T17:13:22.149960500Z",
     "start_time": "2023-10-19T17:13:22.061145600Z"
    }
   },
   "id": "34f7ad941d2b2af0"
  },
  {
   "cell_type": "markdown",
   "source": [
    "dropping rows where bathrooms are not mentioned"
   ],
   "metadata": {
    "collapsed": false
   },
   "id": "80dac4d01da53132"
  },
  {
   "cell_type": "code",
   "execution_count": 92,
   "outputs": [],
   "source": [
    "df.dropna(subset=\"bathrooms\",inplace=True)"
   ],
   "metadata": {
    "collapsed": false
   },
   "id": "d62aeb7b44231f7"
  },
  {
   "cell_type": "code",
   "execution_count": 93,
   "outputs": [
    {
     "data": {
      "text/plain": "        price     area  bedrooms  bathrooms  stories mainroad guestroom  \\\n1    12250000   9960.0       3.0        2.0      2.0      Yes       NaN   \n2    10150000  16200.0       5.0        3.0      2.0      NaN       NaN   \n3     9800000   5750.0       3.0        2.0      4.0      NaN       NaN   \n4     9800000  13200.0       3.0        1.0      2.0      Yes        No   \n9     8645000   8050.0       3.0        1.0      NaN      Yes       NaN   \n..        ...      ...       ...        ...      ...      ...       ...   \n221   2233000   5300.0       3.0        1.0      1.0       No        No   \n222   2100000   2400.0       3.0        1.0      NaN      Yes       NaN   \n224   2100000   3360.0       2.0        1.0      1.0      Yes       NaN   \n225   1890000   3649.0       2.0        1.0      NaN      NaN        No   \n226   1750000   3850.0       3.0        1.0      2.0      NaN       NaN   \n\n    basement hotwaterheating airconditioning  parking prefarea  \\\n1        Yes              No              No      2.0      Yes   \n2         No             NaN              No      0.0       No   \n3         No              No             Yes      1.0      NaN   \n4        NaN              No             NaN      2.0      Yes   \n9        NaN             Yes             NaN      1.0       No   \n..       ...             ...             ...      ...      ...   \n221       No              No             Yes      0.0      Yes   \n222       No              No             NaN      0.0      NaN   \n224       No              No             NaN      NaN      NaN   \n225       No              No             NaN      0.0       No   \n226      NaN             NaN              No      0.0       No   \n\n    furnishingstatus  \n1     semi-furnished  \n2                NaN  \n3        unfurnished  \n4                NaN  \n9          furnished  \n..               ...  \n221      unfurnished  \n222      unfurnished  \n224              NaN  \n225              NaN  \n226              NaN  \n\n[143 rows x 13 columns]",
      "text/html": "<div>\n<style scoped>\n    .dataframe tbody tr th:only-of-type {\n        vertical-align: middle;\n    }\n\n    .dataframe tbody tr th {\n        vertical-align: top;\n    }\n\n    .dataframe thead th {\n        text-align: right;\n    }\n</style>\n<table border=\"1\" class=\"dataframe\">\n  <thead>\n    <tr style=\"text-align: right;\">\n      <th></th>\n      <th>price</th>\n      <th>area</th>\n      <th>bedrooms</th>\n      <th>bathrooms</th>\n      <th>stories</th>\n      <th>mainroad</th>\n      <th>guestroom</th>\n      <th>basement</th>\n      <th>hotwaterheating</th>\n      <th>airconditioning</th>\n      <th>parking</th>\n      <th>prefarea</th>\n      <th>furnishingstatus</th>\n    </tr>\n  </thead>\n  <tbody>\n    <tr>\n      <th>1</th>\n      <td>12250000</td>\n      <td>9960.0</td>\n      <td>3.0</td>\n      <td>2.0</td>\n      <td>2.0</td>\n      <td>Yes</td>\n      <td>NaN</td>\n      <td>Yes</td>\n      <td>No</td>\n      <td>No</td>\n      <td>2.0</td>\n      <td>Yes</td>\n      <td>semi-furnished</td>\n    </tr>\n    <tr>\n      <th>2</th>\n      <td>10150000</td>\n      <td>16200.0</td>\n      <td>5.0</td>\n      <td>3.0</td>\n      <td>2.0</td>\n      <td>NaN</td>\n      <td>NaN</td>\n      <td>No</td>\n      <td>NaN</td>\n      <td>No</td>\n      <td>0.0</td>\n      <td>No</td>\n      <td>NaN</td>\n    </tr>\n    <tr>\n      <th>3</th>\n      <td>9800000</td>\n      <td>5750.0</td>\n      <td>3.0</td>\n      <td>2.0</td>\n      <td>4.0</td>\n      <td>NaN</td>\n      <td>NaN</td>\n      <td>No</td>\n      <td>No</td>\n      <td>Yes</td>\n      <td>1.0</td>\n      <td>NaN</td>\n      <td>unfurnished</td>\n    </tr>\n    <tr>\n      <th>4</th>\n      <td>9800000</td>\n      <td>13200.0</td>\n      <td>3.0</td>\n      <td>1.0</td>\n      <td>2.0</td>\n      <td>Yes</td>\n      <td>No</td>\n      <td>NaN</td>\n      <td>No</td>\n      <td>NaN</td>\n      <td>2.0</td>\n      <td>Yes</td>\n      <td>NaN</td>\n    </tr>\n    <tr>\n      <th>9</th>\n      <td>8645000</td>\n      <td>8050.0</td>\n      <td>3.0</td>\n      <td>1.0</td>\n      <td>NaN</td>\n      <td>Yes</td>\n      <td>NaN</td>\n      <td>NaN</td>\n      <td>Yes</td>\n      <td>NaN</td>\n      <td>1.0</td>\n      <td>No</td>\n      <td>furnished</td>\n    </tr>\n    <tr>\n      <th>...</th>\n      <td>...</td>\n      <td>...</td>\n      <td>...</td>\n      <td>...</td>\n      <td>...</td>\n      <td>...</td>\n      <td>...</td>\n      <td>...</td>\n      <td>...</td>\n      <td>...</td>\n      <td>...</td>\n      <td>...</td>\n      <td>...</td>\n    </tr>\n    <tr>\n      <th>221</th>\n      <td>2233000</td>\n      <td>5300.0</td>\n      <td>3.0</td>\n      <td>1.0</td>\n      <td>1.0</td>\n      <td>No</td>\n      <td>No</td>\n      <td>No</td>\n      <td>No</td>\n      <td>Yes</td>\n      <td>0.0</td>\n      <td>Yes</td>\n      <td>unfurnished</td>\n    </tr>\n    <tr>\n      <th>222</th>\n      <td>2100000</td>\n      <td>2400.0</td>\n      <td>3.0</td>\n      <td>1.0</td>\n      <td>NaN</td>\n      <td>Yes</td>\n      <td>NaN</td>\n      <td>No</td>\n      <td>No</td>\n      <td>NaN</td>\n      <td>0.0</td>\n      <td>NaN</td>\n      <td>unfurnished</td>\n    </tr>\n    <tr>\n      <th>224</th>\n      <td>2100000</td>\n      <td>3360.0</td>\n      <td>2.0</td>\n      <td>1.0</td>\n      <td>1.0</td>\n      <td>Yes</td>\n      <td>NaN</td>\n      <td>No</td>\n      <td>No</td>\n      <td>NaN</td>\n      <td>NaN</td>\n      <td>NaN</td>\n      <td>NaN</td>\n    </tr>\n    <tr>\n      <th>225</th>\n      <td>1890000</td>\n      <td>3649.0</td>\n      <td>2.0</td>\n      <td>1.0</td>\n      <td>NaN</td>\n      <td>NaN</td>\n      <td>No</td>\n      <td>No</td>\n      <td>No</td>\n      <td>NaN</td>\n      <td>0.0</td>\n      <td>No</td>\n      <td>NaN</td>\n    </tr>\n    <tr>\n      <th>226</th>\n      <td>1750000</td>\n      <td>3850.0</td>\n      <td>3.0</td>\n      <td>1.0</td>\n      <td>2.0</td>\n      <td>NaN</td>\n      <td>NaN</td>\n      <td>NaN</td>\n      <td>NaN</td>\n      <td>No</td>\n      <td>0.0</td>\n      <td>No</td>\n      <td>NaN</td>\n    </tr>\n  </tbody>\n</table>\n<p>143 rows × 13 columns</p>\n</div>"
     },
     "execution_count": 93,
     "metadata": {},
     "output_type": "execute_result"
    }
   ],
   "source": [
    "df"
   ],
   "metadata": {
    "collapsed": false,
    "ExecuteTime": {
     "end_time": "2023-10-19T17:43:19.221183100Z",
     "start_time": "2023-10-19T17:43:19.140986Z"
    }
   },
   "id": "75903f4129208639"
  },
  {
   "cell_type": "markdown",
   "source": [
    "dropping column basement as it does not provide much info as most of them are no or nan"
   ],
   "metadata": {
    "collapsed": false
   },
   "id": "ff5e86fdd2cdd7c9"
  },
  {
   "cell_type": "code",
   "execution_count": 97,
   "outputs": [],
   "source": [
    "df.drop(\"basement\",axis=1,inplace=True)"
   ],
   "metadata": {
    "collapsed": false,
    "ExecuteTime": {
     "end_time": "2023-10-19T17:45:18.473470200Z",
     "start_time": "2023-10-19T17:45:18.430387100Z"
    }
   },
   "id": "51aa234b03909fff"
  },
  {
   "cell_type": "code",
   "execution_count": 98,
   "outputs": [
    {
     "data": {
      "text/plain": "        price     area  bedrooms  bathrooms  stories mainroad guestroom  \\\n1    12250000   9960.0       3.0        2.0      2.0      Yes       NaN   \n2    10150000  16200.0       5.0        3.0      2.0      NaN       NaN   \n3     9800000   5750.0       3.0        2.0      4.0      NaN       NaN   \n4     9800000  13200.0       3.0        1.0      2.0      Yes        No   \n9     8645000   8050.0       3.0        1.0      NaN      Yes       NaN   \n..        ...      ...       ...        ...      ...      ...       ...   \n221   2233000   5300.0       3.0        1.0      1.0       No        No   \n222   2100000   2400.0       3.0        1.0      NaN      Yes       NaN   \n224   2100000   3360.0       2.0        1.0      1.0      Yes       NaN   \n225   1890000   3649.0       2.0        1.0      NaN      NaN        No   \n226   1750000   3850.0       3.0        1.0      2.0      NaN       NaN   \n\n    hotwaterheating airconditioning  parking prefarea furnishingstatus  \n1                No              No      2.0      Yes   semi-furnished  \n2               NaN              No      0.0       No              NaN  \n3                No             Yes      1.0      NaN      unfurnished  \n4                No             NaN      2.0      Yes              NaN  \n9               Yes             NaN      1.0       No        furnished  \n..              ...             ...      ...      ...              ...  \n221              No             Yes      0.0      Yes      unfurnished  \n222              No             NaN      0.0      NaN      unfurnished  \n224              No             NaN      NaN      NaN              NaN  \n225              No             NaN      0.0       No              NaN  \n226             NaN              No      0.0       No              NaN  \n\n[143 rows x 12 columns]",
      "text/html": "<div>\n<style scoped>\n    .dataframe tbody tr th:only-of-type {\n        vertical-align: middle;\n    }\n\n    .dataframe tbody tr th {\n        vertical-align: top;\n    }\n\n    .dataframe thead th {\n        text-align: right;\n    }\n</style>\n<table border=\"1\" class=\"dataframe\">\n  <thead>\n    <tr style=\"text-align: right;\">\n      <th></th>\n      <th>price</th>\n      <th>area</th>\n      <th>bedrooms</th>\n      <th>bathrooms</th>\n      <th>stories</th>\n      <th>mainroad</th>\n      <th>guestroom</th>\n      <th>hotwaterheating</th>\n      <th>airconditioning</th>\n      <th>parking</th>\n      <th>prefarea</th>\n      <th>furnishingstatus</th>\n    </tr>\n  </thead>\n  <tbody>\n    <tr>\n      <th>1</th>\n      <td>12250000</td>\n      <td>9960.0</td>\n      <td>3.0</td>\n      <td>2.0</td>\n      <td>2.0</td>\n      <td>Yes</td>\n      <td>NaN</td>\n      <td>No</td>\n      <td>No</td>\n      <td>2.0</td>\n      <td>Yes</td>\n      <td>semi-furnished</td>\n    </tr>\n    <tr>\n      <th>2</th>\n      <td>10150000</td>\n      <td>16200.0</td>\n      <td>5.0</td>\n      <td>3.0</td>\n      <td>2.0</td>\n      <td>NaN</td>\n      <td>NaN</td>\n      <td>NaN</td>\n      <td>No</td>\n      <td>0.0</td>\n      <td>No</td>\n      <td>NaN</td>\n    </tr>\n    <tr>\n      <th>3</th>\n      <td>9800000</td>\n      <td>5750.0</td>\n      <td>3.0</td>\n      <td>2.0</td>\n      <td>4.0</td>\n      <td>NaN</td>\n      <td>NaN</td>\n      <td>No</td>\n      <td>Yes</td>\n      <td>1.0</td>\n      <td>NaN</td>\n      <td>unfurnished</td>\n    </tr>\n    <tr>\n      <th>4</th>\n      <td>9800000</td>\n      <td>13200.0</td>\n      <td>3.0</td>\n      <td>1.0</td>\n      <td>2.0</td>\n      <td>Yes</td>\n      <td>No</td>\n      <td>No</td>\n      <td>NaN</td>\n      <td>2.0</td>\n      <td>Yes</td>\n      <td>NaN</td>\n    </tr>\n    <tr>\n      <th>9</th>\n      <td>8645000</td>\n      <td>8050.0</td>\n      <td>3.0</td>\n      <td>1.0</td>\n      <td>NaN</td>\n      <td>Yes</td>\n      <td>NaN</td>\n      <td>Yes</td>\n      <td>NaN</td>\n      <td>1.0</td>\n      <td>No</td>\n      <td>furnished</td>\n    </tr>\n    <tr>\n      <th>...</th>\n      <td>...</td>\n      <td>...</td>\n      <td>...</td>\n      <td>...</td>\n      <td>...</td>\n      <td>...</td>\n      <td>...</td>\n      <td>...</td>\n      <td>...</td>\n      <td>...</td>\n      <td>...</td>\n      <td>...</td>\n    </tr>\n    <tr>\n      <th>221</th>\n      <td>2233000</td>\n      <td>5300.0</td>\n      <td>3.0</td>\n      <td>1.0</td>\n      <td>1.0</td>\n      <td>No</td>\n      <td>No</td>\n      <td>No</td>\n      <td>Yes</td>\n      <td>0.0</td>\n      <td>Yes</td>\n      <td>unfurnished</td>\n    </tr>\n    <tr>\n      <th>222</th>\n      <td>2100000</td>\n      <td>2400.0</td>\n      <td>3.0</td>\n      <td>1.0</td>\n      <td>NaN</td>\n      <td>Yes</td>\n      <td>NaN</td>\n      <td>No</td>\n      <td>NaN</td>\n      <td>0.0</td>\n      <td>NaN</td>\n      <td>unfurnished</td>\n    </tr>\n    <tr>\n      <th>224</th>\n      <td>2100000</td>\n      <td>3360.0</td>\n      <td>2.0</td>\n      <td>1.0</td>\n      <td>1.0</td>\n      <td>Yes</td>\n      <td>NaN</td>\n      <td>No</td>\n      <td>NaN</td>\n      <td>NaN</td>\n      <td>NaN</td>\n      <td>NaN</td>\n    </tr>\n    <tr>\n      <th>225</th>\n      <td>1890000</td>\n      <td>3649.0</td>\n      <td>2.0</td>\n      <td>1.0</td>\n      <td>NaN</td>\n      <td>NaN</td>\n      <td>No</td>\n      <td>No</td>\n      <td>NaN</td>\n      <td>0.0</td>\n      <td>No</td>\n      <td>NaN</td>\n    </tr>\n    <tr>\n      <th>226</th>\n      <td>1750000</td>\n      <td>3850.0</td>\n      <td>3.0</td>\n      <td>1.0</td>\n      <td>2.0</td>\n      <td>NaN</td>\n      <td>NaN</td>\n      <td>NaN</td>\n      <td>No</td>\n      <td>0.0</td>\n      <td>No</td>\n      <td>NaN</td>\n    </tr>\n  </tbody>\n</table>\n<p>143 rows × 12 columns</p>\n</div>"
     },
     "execution_count": 98,
     "metadata": {},
     "output_type": "execute_result"
    }
   ],
   "source": [
    "df"
   ],
   "metadata": {
    "collapsed": false,
    "ExecuteTime": {
     "end_time": "2023-10-19T17:45:20.411127Z",
     "start_time": "2023-10-19T17:45:20.353116300Z"
    }
   },
   "id": "345018e6c7eca11c"
  },
  {
   "cell_type": "markdown",
   "source": [
    "changing format of unfurnished so it looks fimiliar to semi-furnished"
   ],
   "metadata": {
    "collapsed": false
   },
   "id": "b9536e9790ce2803"
  },
  {
   "cell_type": "code",
   "execution_count": 108,
   "outputs": [],
   "source": [
    "df.loc[df[\"furnishingstatus\"]==\"unfurnished\",\"furnishingstatus\"]=\"un-furnished\""
   ],
   "metadata": {
    "collapsed": false,
    "ExecuteTime": {
     "end_time": "2023-10-19T18:08:33.029116Z",
     "start_time": "2023-10-19T18:08:32.987723900Z"
    }
   },
   "id": "f0002cc41561b8c5"
  },
  {
   "cell_type": "code",
   "execution_count": 110,
   "outputs": [
    {
     "data": {
      "text/plain": "        price     area  bedrooms  bathrooms  stories mainroad guestroom  \\\n1    12250000   9960.0       3.0        2.0      2.0      Yes       NaN   \n2    10150000  16200.0       5.0        3.0      2.0      NaN       NaN   \n3     9800000   5750.0       3.0        2.0      4.0      NaN       NaN   \n4     9800000  13200.0       3.0        1.0      2.0      Yes        No   \n9     8645000   8050.0       3.0        1.0      NaN      Yes       NaN   \n..        ...      ...       ...        ...      ...      ...       ...   \n221   2233000   5300.0       3.0        1.0      1.0       No        No   \n222   2100000   2400.0       3.0        1.0      NaN      Yes       NaN   \n224   2100000   3360.0       2.0        1.0      1.0      Yes       NaN   \n225   1890000   3649.0       2.0        1.0      NaN      NaN        No   \n226   1750000   3850.0       3.0        1.0      2.0      NaN       NaN   \n\n    hotwaterheating airconditioning  parking prefarea furnishingstatus  \n1                No              No      2.0      Yes   semi-furnished  \n2               NaN              No      0.0       No              NaN  \n3                No             Yes      1.0      NaN     un-furnished  \n4                No             NaN      2.0      Yes              NaN  \n9               Yes             NaN      1.0       No        furnished  \n..              ...             ...      ...      ...              ...  \n221              No             Yes      0.0      Yes     un-furnished  \n222              No             NaN      0.0      NaN     un-furnished  \n224              No             NaN      NaN      NaN              NaN  \n225              No             NaN      0.0       No              NaN  \n226             NaN              No      0.0       No              NaN  \n\n[143 rows x 12 columns]",
      "text/html": "<div>\n<style scoped>\n    .dataframe tbody tr th:only-of-type {\n        vertical-align: middle;\n    }\n\n    .dataframe tbody tr th {\n        vertical-align: top;\n    }\n\n    .dataframe thead th {\n        text-align: right;\n    }\n</style>\n<table border=\"1\" class=\"dataframe\">\n  <thead>\n    <tr style=\"text-align: right;\">\n      <th></th>\n      <th>price</th>\n      <th>area</th>\n      <th>bedrooms</th>\n      <th>bathrooms</th>\n      <th>stories</th>\n      <th>mainroad</th>\n      <th>guestroom</th>\n      <th>hotwaterheating</th>\n      <th>airconditioning</th>\n      <th>parking</th>\n      <th>prefarea</th>\n      <th>furnishingstatus</th>\n    </tr>\n  </thead>\n  <tbody>\n    <tr>\n      <th>1</th>\n      <td>12250000</td>\n      <td>9960.0</td>\n      <td>3.0</td>\n      <td>2.0</td>\n      <td>2.0</td>\n      <td>Yes</td>\n      <td>NaN</td>\n      <td>No</td>\n      <td>No</td>\n      <td>2.0</td>\n      <td>Yes</td>\n      <td>semi-furnished</td>\n    </tr>\n    <tr>\n      <th>2</th>\n      <td>10150000</td>\n      <td>16200.0</td>\n      <td>5.0</td>\n      <td>3.0</td>\n      <td>2.0</td>\n      <td>NaN</td>\n      <td>NaN</td>\n      <td>NaN</td>\n      <td>No</td>\n      <td>0.0</td>\n      <td>No</td>\n      <td>NaN</td>\n    </tr>\n    <tr>\n      <th>3</th>\n      <td>9800000</td>\n      <td>5750.0</td>\n      <td>3.0</td>\n      <td>2.0</td>\n      <td>4.0</td>\n      <td>NaN</td>\n      <td>NaN</td>\n      <td>No</td>\n      <td>Yes</td>\n      <td>1.0</td>\n      <td>NaN</td>\n      <td>un-furnished</td>\n    </tr>\n    <tr>\n      <th>4</th>\n      <td>9800000</td>\n      <td>13200.0</td>\n      <td>3.0</td>\n      <td>1.0</td>\n      <td>2.0</td>\n      <td>Yes</td>\n      <td>No</td>\n      <td>No</td>\n      <td>NaN</td>\n      <td>2.0</td>\n      <td>Yes</td>\n      <td>NaN</td>\n    </tr>\n    <tr>\n      <th>9</th>\n      <td>8645000</td>\n      <td>8050.0</td>\n      <td>3.0</td>\n      <td>1.0</td>\n      <td>NaN</td>\n      <td>Yes</td>\n      <td>NaN</td>\n      <td>Yes</td>\n      <td>NaN</td>\n      <td>1.0</td>\n      <td>No</td>\n      <td>furnished</td>\n    </tr>\n    <tr>\n      <th>...</th>\n      <td>...</td>\n      <td>...</td>\n      <td>...</td>\n      <td>...</td>\n      <td>...</td>\n      <td>...</td>\n      <td>...</td>\n      <td>...</td>\n      <td>...</td>\n      <td>...</td>\n      <td>...</td>\n      <td>...</td>\n    </tr>\n    <tr>\n      <th>221</th>\n      <td>2233000</td>\n      <td>5300.0</td>\n      <td>3.0</td>\n      <td>1.0</td>\n      <td>1.0</td>\n      <td>No</td>\n      <td>No</td>\n      <td>No</td>\n      <td>Yes</td>\n      <td>0.0</td>\n      <td>Yes</td>\n      <td>un-furnished</td>\n    </tr>\n    <tr>\n      <th>222</th>\n      <td>2100000</td>\n      <td>2400.0</td>\n      <td>3.0</td>\n      <td>1.0</td>\n      <td>NaN</td>\n      <td>Yes</td>\n      <td>NaN</td>\n      <td>No</td>\n      <td>NaN</td>\n      <td>0.0</td>\n      <td>NaN</td>\n      <td>un-furnished</td>\n    </tr>\n    <tr>\n      <th>224</th>\n      <td>2100000</td>\n      <td>3360.0</td>\n      <td>2.0</td>\n      <td>1.0</td>\n      <td>1.0</td>\n      <td>Yes</td>\n      <td>NaN</td>\n      <td>No</td>\n      <td>NaN</td>\n      <td>NaN</td>\n      <td>NaN</td>\n      <td>NaN</td>\n    </tr>\n    <tr>\n      <th>225</th>\n      <td>1890000</td>\n      <td>3649.0</td>\n      <td>2.0</td>\n      <td>1.0</td>\n      <td>NaN</td>\n      <td>NaN</td>\n      <td>No</td>\n      <td>No</td>\n      <td>NaN</td>\n      <td>0.0</td>\n      <td>No</td>\n      <td>NaN</td>\n    </tr>\n    <tr>\n      <th>226</th>\n      <td>1750000</td>\n      <td>3850.0</td>\n      <td>3.0</td>\n      <td>1.0</td>\n      <td>2.0</td>\n      <td>NaN</td>\n      <td>NaN</td>\n      <td>NaN</td>\n      <td>No</td>\n      <td>0.0</td>\n      <td>No</td>\n      <td>NaN</td>\n    </tr>\n  </tbody>\n</table>\n<p>143 rows × 12 columns</p>\n</div>"
     },
     "execution_count": 110,
     "metadata": {},
     "output_type": "execute_result"
    }
   ],
   "source": [
    "df"
   ],
   "metadata": {
    "collapsed": false,
    "ExecuteTime": {
     "end_time": "2023-10-19T18:09:17.147136300Z",
     "start_time": "2023-10-19T18:09:17.092336100Z"
    }
   },
   "id": "371abc3120677942"
  },
  {
   "cell_type": "markdown",
   "source": [
    "resetting index"
   ],
   "metadata": {
    "collapsed": false
   },
   "id": "66817752c3babaf6"
  },
  {
   "cell_type": "code",
   "execution_count": 112,
   "outputs": [],
   "source": [
    "df.reset_index(drop=True,inplace=True)"
   ],
   "metadata": {
    "collapsed": false,
    "ExecuteTime": {
     "end_time": "2023-10-19T18:09:55.257922900Z",
     "start_time": "2023-10-19T18:09:55.156952500Z"
    }
   },
   "id": "891178eb6874d13b"
  },
  {
   "cell_type": "code",
   "execution_count": 113,
   "outputs": [
    {
     "data": {
      "text/plain": "        price     area  bedrooms  bathrooms  stories mainroad guestroom  \\\n0    12250000   9960.0       3.0        2.0      2.0      Yes       NaN   \n1    10150000  16200.0       5.0        3.0      2.0      NaN       NaN   \n2     9800000   5750.0       3.0        2.0      4.0      NaN       NaN   \n3     9800000  13200.0       3.0        1.0      2.0      Yes        No   \n4     8645000   8050.0       3.0        1.0      NaN      Yes       NaN   \n..        ...      ...       ...        ...      ...      ...       ...   \n138   2233000   5300.0       3.0        1.0      1.0       No        No   \n139   2100000   2400.0       3.0        1.0      NaN      Yes       NaN   \n140   2100000   3360.0       2.0        1.0      1.0      Yes       NaN   \n141   1890000   3649.0       2.0        1.0      NaN      NaN        No   \n142   1750000   3850.0       3.0        1.0      2.0      NaN       NaN   \n\n    hotwaterheating airconditioning  parking prefarea furnishingstatus  \n0                No              No      2.0      Yes   semi-furnished  \n1               NaN              No      0.0       No              NaN  \n2                No             Yes      1.0      NaN     un-furnished  \n3                No             NaN      2.0      Yes              NaN  \n4               Yes             NaN      1.0       No        furnished  \n..              ...             ...      ...      ...              ...  \n138              No             Yes      0.0      Yes     un-furnished  \n139              No             NaN      0.0      NaN     un-furnished  \n140              No             NaN      NaN      NaN              NaN  \n141              No             NaN      0.0       No              NaN  \n142             NaN              No      0.0       No              NaN  \n\n[143 rows x 12 columns]",
      "text/html": "<div>\n<style scoped>\n    .dataframe tbody tr th:only-of-type {\n        vertical-align: middle;\n    }\n\n    .dataframe tbody tr th {\n        vertical-align: top;\n    }\n\n    .dataframe thead th {\n        text-align: right;\n    }\n</style>\n<table border=\"1\" class=\"dataframe\">\n  <thead>\n    <tr style=\"text-align: right;\">\n      <th></th>\n      <th>price</th>\n      <th>area</th>\n      <th>bedrooms</th>\n      <th>bathrooms</th>\n      <th>stories</th>\n      <th>mainroad</th>\n      <th>guestroom</th>\n      <th>hotwaterheating</th>\n      <th>airconditioning</th>\n      <th>parking</th>\n      <th>prefarea</th>\n      <th>furnishingstatus</th>\n    </tr>\n  </thead>\n  <tbody>\n    <tr>\n      <th>0</th>\n      <td>12250000</td>\n      <td>9960.0</td>\n      <td>3.0</td>\n      <td>2.0</td>\n      <td>2.0</td>\n      <td>Yes</td>\n      <td>NaN</td>\n      <td>No</td>\n      <td>No</td>\n      <td>2.0</td>\n      <td>Yes</td>\n      <td>semi-furnished</td>\n    </tr>\n    <tr>\n      <th>1</th>\n      <td>10150000</td>\n      <td>16200.0</td>\n      <td>5.0</td>\n      <td>3.0</td>\n      <td>2.0</td>\n      <td>NaN</td>\n      <td>NaN</td>\n      <td>NaN</td>\n      <td>No</td>\n      <td>0.0</td>\n      <td>No</td>\n      <td>NaN</td>\n    </tr>\n    <tr>\n      <th>2</th>\n      <td>9800000</td>\n      <td>5750.0</td>\n      <td>3.0</td>\n      <td>2.0</td>\n      <td>4.0</td>\n      <td>NaN</td>\n      <td>NaN</td>\n      <td>No</td>\n      <td>Yes</td>\n      <td>1.0</td>\n      <td>NaN</td>\n      <td>un-furnished</td>\n    </tr>\n    <tr>\n      <th>3</th>\n      <td>9800000</td>\n      <td>13200.0</td>\n      <td>3.0</td>\n      <td>1.0</td>\n      <td>2.0</td>\n      <td>Yes</td>\n      <td>No</td>\n      <td>No</td>\n      <td>NaN</td>\n      <td>2.0</td>\n      <td>Yes</td>\n      <td>NaN</td>\n    </tr>\n    <tr>\n      <th>4</th>\n      <td>8645000</td>\n      <td>8050.0</td>\n      <td>3.0</td>\n      <td>1.0</td>\n      <td>NaN</td>\n      <td>Yes</td>\n      <td>NaN</td>\n      <td>Yes</td>\n      <td>NaN</td>\n      <td>1.0</td>\n      <td>No</td>\n      <td>furnished</td>\n    </tr>\n    <tr>\n      <th>...</th>\n      <td>...</td>\n      <td>...</td>\n      <td>...</td>\n      <td>...</td>\n      <td>...</td>\n      <td>...</td>\n      <td>...</td>\n      <td>...</td>\n      <td>...</td>\n      <td>...</td>\n      <td>...</td>\n      <td>...</td>\n    </tr>\n    <tr>\n      <th>138</th>\n      <td>2233000</td>\n      <td>5300.0</td>\n      <td>3.0</td>\n      <td>1.0</td>\n      <td>1.0</td>\n      <td>No</td>\n      <td>No</td>\n      <td>No</td>\n      <td>Yes</td>\n      <td>0.0</td>\n      <td>Yes</td>\n      <td>un-furnished</td>\n    </tr>\n    <tr>\n      <th>139</th>\n      <td>2100000</td>\n      <td>2400.0</td>\n      <td>3.0</td>\n      <td>1.0</td>\n      <td>NaN</td>\n      <td>Yes</td>\n      <td>NaN</td>\n      <td>No</td>\n      <td>NaN</td>\n      <td>0.0</td>\n      <td>NaN</td>\n      <td>un-furnished</td>\n    </tr>\n    <tr>\n      <th>140</th>\n      <td>2100000</td>\n      <td>3360.0</td>\n      <td>2.0</td>\n      <td>1.0</td>\n      <td>1.0</td>\n      <td>Yes</td>\n      <td>NaN</td>\n      <td>No</td>\n      <td>NaN</td>\n      <td>NaN</td>\n      <td>NaN</td>\n      <td>NaN</td>\n    </tr>\n    <tr>\n      <th>141</th>\n      <td>1890000</td>\n      <td>3649.0</td>\n      <td>2.0</td>\n      <td>1.0</td>\n      <td>NaN</td>\n      <td>NaN</td>\n      <td>No</td>\n      <td>No</td>\n      <td>NaN</td>\n      <td>0.0</td>\n      <td>No</td>\n      <td>NaN</td>\n    </tr>\n    <tr>\n      <th>142</th>\n      <td>1750000</td>\n      <td>3850.0</td>\n      <td>3.0</td>\n      <td>1.0</td>\n      <td>2.0</td>\n      <td>NaN</td>\n      <td>NaN</td>\n      <td>NaN</td>\n      <td>No</td>\n      <td>0.0</td>\n      <td>No</td>\n      <td>NaN</td>\n    </tr>\n  </tbody>\n</table>\n<p>143 rows × 12 columns</p>\n</div>"
     },
     "execution_count": 113,
     "metadata": {},
     "output_type": "execute_result"
    }
   ],
   "source": [
    "df"
   ],
   "metadata": {
    "collapsed": false,
    "ExecuteTime": {
     "end_time": "2023-10-19T18:09:56.828003700Z",
     "start_time": "2023-10-19T18:09:56.780705600Z"
    }
   },
   "id": "a73602865e3b6485"
  },
  {
   "cell_type": "code",
   "execution_count": 114,
   "outputs": [],
   "source": [
    "df.to_csv(\"birth.csv\")"
   ],
   "metadata": {
    "collapsed": false,
    "ExecuteTime": {
     "end_time": "2023-10-19T18:12:43.160178100Z",
     "start_time": "2023-10-19T18:12:43.065919900Z"
    }
   },
   "id": "31807f3258d8d69a"
  },
  {
   "cell_type": "code",
   "execution_count": null,
   "outputs": [],
   "source": [],
   "metadata": {
    "collapsed": false
   },
   "id": "f2bcee54019ea03c"
  }
 ],
 "metadata": {
  "kernelspec": {
   "display_name": "Python 3",
   "language": "python",
   "name": "python3"
  },
  "language_info": {
   "codemirror_mode": {
    "name": "ipython",
    "version": 2
   },
   "file_extension": ".py",
   "mimetype": "text/x-python",
   "name": "python",
   "nbconvert_exporter": "python",
   "pygments_lexer": "ipython2",
   "version": "2.7.6"
  }
 },
 "nbformat": 4,
 "nbformat_minor": 5
}
